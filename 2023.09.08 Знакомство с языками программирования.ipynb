{
 "cells": [
  {
   "cell_type": "markdown",
   "id": "319413f8",
   "metadata": {},
   "source": [
    "ДЗ\n",
    "\n",
    "на javascript и c++ написать программы где есть фукнция поиска максимума (передают массив возвращает число) и генерация массива из 10 случайных элементов от -100 до 100.\n",
    "\n",
    "для javascript использовать запуск через браузер вывод тоже в тег браузера\n",
    "\n",
    "программы должны выводить сгенерированный масссив и на следующей строке максимальный элемент."
   ]
  },
  {
   "cell_type": "code",
   "execution_count": null,
   "id": "9a364043",
   "metadata": {},
   "outputs": [],
   "source": []
  }
 ],
 "metadata": {
  "kernelspec": {
   "display_name": "Python 3",
   "language": "python",
   "name": "python3"
  },
  "language_info": {
   "codemirror_mode": {
    "name": "ipython",
    "version": 3
   },
   "file_extension": ".py",
   "mimetype": "text/x-python",
   "name": "python",
   "nbconvert_exporter": "python",
   "pygments_lexer": "ipython3",
   "version": "3.10.12"
  }
 },
 "nbformat": 4,
 "nbformat_minor": 5
}

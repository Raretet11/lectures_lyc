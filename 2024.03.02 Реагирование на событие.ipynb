{
 "cells": [
  {
   "cell_type": "code",
   "execution_count": 11,
   "id": "c19d2015",
   "metadata": {},
   "outputs": [
    {
     "name": "stdout",
     "output_type": "stream",
     "text": [
      "hi\n",
      "hi\n",
      "hi\n",
      "hi\n",
      "hi\n",
      "hi\n",
      "hi\n",
      "hi\n",
      "hi\n",
      "hi\n",
      "ho\n"
     ]
    }
   ],
   "source": [
    "import time\n",
    "\n",
    "\n",
    "class Process2:\n",
    "    def main(self):\n",
    "        p1 = Process1()\n",
    "\n",
    "#         def f():\n",
    "#             print(\"hi\")\n",
    "            \n",
    "#         def f1():\n",
    "#             print(\"hiiiii\")\n",
    "            \n",
    "        \n",
    "#         p1.addEvent(\"11\", f)\n",
    "#         p1.addEvent(\"10\", f1)\n",
    "        def f():\n",
    "            print(\"hi\")\n",
    "        p1.event11 = f\n",
    "        p1.run()\n",
    "        print(\"ho\")\n",
    "\n",
    "\n",
    "class Process1:\n",
    "    def __init__(self):\n",
    "        self.event_list  = []\n",
    "        self.event_list_11 = []\n",
    "        self.dict_event = {\"10\": [], \"11\": []}\n",
    "        self.event11 = None\n",
    "        \n",
    "    \n",
    "        \n",
    "    def addEvent(self, event_name, f):\n",
    "        self.dict_event[event_name].append(f)\n",
    "        \n",
    "#     def addEvent10(self, f):\n",
    "#         self.event_list.append(f)\n",
    "        \n",
    "#     def addEvent11(self, f);\n",
    "#         self.event_list_11.append(f)\n",
    "    \n",
    "    def run(self):\n",
    "        for i in range(100):\n",
    "#             if i % 10 == 0:\n",
    "#                 for f in self.event_list:\n",
    "#                     f()\n",
    "#             if i % 11 == 0:\n",
    "#                 for f in self.event_list_11:\n",
    "#                     f()\n",
    "#             if i % 10 == 0:\n",
    "#                 for f in self.dict_event[\"10\"]:\n",
    "#                     f()\n",
    "#             if i % 11 == 0:\n",
    "#                 for f in self.dict_event[\"11\"]:\n",
    "#                     f()\n",
    "            if i % 11 == 0:\n",
    "                self.event11()\n",
    "                \n",
    "            \n",
    "        \n",
    "Process2().main()"
   ]
  },
  {
   "cell_type": "code",
   "execution_count": null,
   "id": "b86f5cfe",
   "metadata": {},
   "outputs": [],
   "source": []
  }
 ],
 "metadata": {
  "kernelspec": {
   "display_name": "Python 3",
   "language": "python",
   "name": "python3"
  },
  "language_info": {
   "codemirror_mode": {
    "name": "ipython",
    "version": 3
   },
   "file_extension": ".py",
   "mimetype": "text/x-python",
   "name": "python",
   "nbconvert_exporter": "python",
   "pygments_lexer": "ipython3",
   "version": "3.10.12"
  }
 },
 "nbformat": 4,
 "nbformat_minor": 5
}

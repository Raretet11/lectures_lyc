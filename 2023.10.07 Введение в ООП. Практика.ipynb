{
 "cells": [
  {
   "cell_type": "markdown",
   "id": "90f882ce",
   "metadata": {},
   "source": [
    "ДЗ\n",
    "\n",
    "tools.py\n",
    "дописать необходимые функции и классы для работоспособноси программы учитывая принипы SOLID и ООП\n",
    "\n",
    "main.py\n",
    "с помощью функций из tools.py дописать и изменить код так чтобы программа обрела визуальный интерфейс\n",
    "\n",
    "программа должна позволять выбирать среди расширений - видео, книги, аудио, изображения\n",
    "позволять вводить папку\n",
    "отображать пути файлов - дубли друг друга\n",
    "отмечать какие из дублей удалить какие сохранить\n",
    "проходится по дублям вперед и наза\n",
    "по применении - удалять отмеченные на удаления файлы"
   ]
  }
 ],
 "metadata": {
  "kernelspec": {
   "display_name": "Python 3",
   "language": "python",
   "name": "python3"
  },
  "language_info": {
   "codemirror_mode": {
    "name": "ipython",
    "version": 3
   },
   "file_extension": ".py",
   "mimetype": "text/x-python",
   "name": "python",
   "nbconvert_exporter": "python",
   "pygments_lexer": "ipython3",
   "version": "3.10.12"
  }
 },
 "nbformat": 4,
 "nbformat_minor": 5
}

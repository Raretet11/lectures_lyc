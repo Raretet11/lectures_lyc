{
 "cells": [
  {
   "cell_type": "markdown",
   "id": "1052600d",
   "metadata": {},
   "source": [
    "# 2024.01.12\n",
    "нет дз"
   ]
  },
  {
   "cell_type": "markdown",
   "id": "11f06b39",
   "metadata": {},
   "source": [
    "# 2024.01.13\n",
    "\n",
    "до 2024.01.18 \n",
    "\n",
    "дополнить файлы index.html, a.html, b.html, c.html, styles.css так, чтобы на них были\n",
    "\n",
    "- оригинальный текст\n",
    "- хотя бы на одном из тегов цветовой бэграунд\n",
    "- хотя бы на одном из тегов бэграунд с помощью изображения\n",
    "- в одном из текстов должен быть список (использовать для этого соответствующие теги)\n",
    "- в одном из текстов должна быть табличка (использовать для этого соответствующие теги), таблица должна быть с бордюром\n",
    "- в одном из текстов должно быть изображение\n",
    "- убрать с h2>a подчеркивание и изменение цвета из-за клика так чтобы другие подобные связки тегов не касалась такая настройка\n",
    "\n",
    "сайт должен эстетически смотреться."
   ]
  },
  {
   "cell_type": "markdown",
   "id": "dbe05a32",
   "metadata": {},
   "source": [
    "# 2024.01.19\n",
    "\n",
    "https://leetcode.com/problems/my-calendar-iii/description/\n",
    "main.py\n",
    "до 21.01.2024"
   ]
  },
  {
   "cell_type": "markdown",
   "id": "467e3b7f",
   "metadata": {},
   "source": [
    "#  2024.01.20\n",
    "до чт 25.01 включительно:\n",
    "сделать дизайн для страниц блога, который мы пишем, чтобы блог эстетически смотрелся и было оригинальное содержимое читаемое. \n",
    "\n",
    "задание до пт 26.01 включительно:    \n",
    "прорешать два вариант статграда. чуть позже дам форму куда скидывать ответы (и вы сразу будете понимать правильно или  нет). прорешать так, чтобы все было правильно. \n",
    "\n",
    "условия и доп материалы кинут в телеграм\n",
    "\n",
    "форма для сдачи  первого варианта \n",
    "https://forms.gle/smoYEB3NMZKoaJo77\n",
    "\n",
    "форма для сдачи второго варианта\n",
    "https://forms.gle/Xqxru5C6KmZQMaJX9"
   ]
  },
  {
   "cell_type": "markdown",
   "id": "3f85db6d",
   "metadata": {},
   "source": [
    "# 2024.01.27\n",
    "\n",
    "В рамках создаваемого на уроке кода, в папке mysite, создать новое  приложение questionnaire без модели данных. В нем создать формы (в файле forms.py), с минимум четырьмя разными типами данных. Создать страницу по адресу /questionnaire/ с этой формой, чтобы по отправлению данных на эту форму  на странице появлялось сообщение по итогу обработки формы (на ваш вариант, но чтобы была зависимость от ответов на вопросы). Дз до 01.02.2024 включительно.\n"
   ]
  },
  {
   "cell_type": "markdown",
   "id": "3273ac6a",
   "metadata": {},
   "source": [
    "# 2024.01.02\n",
    "\n",
    "нет дз"
   ]
  },
  {
   "cell_type": "markdown",
   "id": "87368ad2",
   "metadata": {},
   "source": [
    "# 2024.01.03\n",
    "\n",
    "классная работа  \n",
    "три написать назвать по номеру на литкоде, соседние три  протестить назвать как test_номерналиткоде.py  \n",
    "первая пара.  \n",
    "1. 1011 - https://leetcode.com/problems/capacity-to-ship-packages-within-d-days/description/   \n",
    "2. 852 - https://leetcode.com/problems/peak-index-in-a-mountain-array/description/   \n",
    "\n",
    "\n",
    "вторая пара.  \n",
    "1. 2614 - https://leetcode.com/problems/prime-in-diagonal/description/  \n",
    "2. 2133 - https://leetcode.com/problems/check-if-every-row-and-column-contains-all-numbers/description/  \n",
    "\n",
    "третья пара.  \n",
    "1. 2744 - https://leetcode.com/problems/find-maximum-number-of-string-pairs/description/  \n",
    "2. 2418 - https://leetcode.com/problems/sort-the-people/description/\n",
    "\n",
    "домашняя работа  \n",
    "написать 5 задач, назвать по номеру на литкоде  \n",
    "3011. https://leetcode.com/problems/find-if-array-can-be-sorted/description/  \n",
    "1208. https://leetcode.com/problems/get-equal-substrings-within-budget/description/  \n",
    "2013. https://leetcode.com/problems/detect-squares/description/  \n",
    "1626. https://leetcode.com/problems/best-team-with-no-conflicts/description/  \n",
    "1968. https://leetcode.com/problems/array-with-elements-not-equal-to-average-of-neighbors/description/  \n",
    "\n",
    "название"
   ]
  },
  {
   "cell_type": "code",
   "execution_count": null,
   "id": "c506319a",
   "metadata": {},
   "outputs": [],
   "source": []
  }
 ],
 "metadata": {
  "kernelspec": {
   "display_name": "Python 3",
   "language": "python",
   "name": "python3"
  },
  "language_info": {
   "codemirror_mode": {
    "name": "ipython",
    "version": 3
   },
   "file_extension": ".py",
   "mimetype": "text/x-python",
   "name": "python",
   "nbconvert_exporter": "python",
   "pygments_lexer": "ipython3",
   "version": "3.10.12"
  }
 },
 "nbformat": 4,
 "nbformat_minor": 5
}

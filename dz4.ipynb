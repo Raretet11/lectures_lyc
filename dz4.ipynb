{
 "cells": [
  {
   "cell_type": "markdown",
   "id": "1052600d",
   "metadata": {},
   "source": [
    "# 2024.01.12\n",
    "нет дз"
   ]
  },
  {
   "cell_type": "markdown",
   "id": "11f06b39",
   "metadata": {},
   "source": [
    "# 2024.01.13\n",
    "\n",
    "до 2024.01.18 \n",
    "\n",
    "дополнить файлы index.html, a.html, b.html, c.html, styles.css так, чтобы на них были\n",
    "\n",
    "- оригинальный текст\n",
    "- хотя бы на одном из тегов цветовой бэграунд\n",
    "- хотя бы на одном из тегов бэграунд с помощью изображения\n",
    "- в одном из текстов должен быть список (использовать для этого соответствующие теги)\n",
    "- в одном из текстов должна быть табличка (использовать для этого соответствующие теги), таблица должна быть с бордюром\n",
    "- в одном из текстов должно быть изображение\n",
    "- убрать с h2>a подчеркивание и изменение цвета из-за клика так чтобы другие подобные связки тегов не касалась такая настройка\n",
    "\n",
    "сайт должен эстетически смотреться."
   ]
  },
  {
   "cell_type": "markdown",
   "id": "2b13ffd0",
   "metadata": {},
   "source": [
    "# 2024.01.19\n",
    "\n",
    "https://leetcode.com/problems/my-calendar-iii/description/\n",
    "main.py\n",
    "до 21.01.2024"
   ]
  },
  {
   "cell_type": "code",
   "execution_count": null,
   "id": "d038d74e",
   "metadata": {},
   "outputs": [],
   "source": []
  }
 ],
 "metadata": {
  "kernelspec": {
   "display_name": "Python 3",
   "language": "python",
   "name": "python3"
  },
  "language_info": {
   "codemirror_mode": {
    "name": "ipython",
    "version": 3
   },
   "file_extension": ".py",
   "mimetype": "text/x-python",
   "name": "python",
   "nbconvert_exporter": "python",
   "pygments_lexer": "ipython3",
   "version": "3.10.12"
  }
 },
 "nbformat": 4,
 "nbformat_minor": 5
}

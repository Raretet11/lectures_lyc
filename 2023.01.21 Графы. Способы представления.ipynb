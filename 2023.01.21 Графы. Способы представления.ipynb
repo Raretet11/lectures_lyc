{
 "cells": [
  {
   "cell_type": "markdown",
   "metadata": {},
   "source": [
    "Граф это $\\{\\{v_i\\}, \\{(v_i, v_j)\\}\\}$"
   ]
  },
  {
   "cell_type": "markdown",
   "metadata": {},
   "source": [
    "Задание графа списком ребер\n",
    "1 2\n",
    "2 1\n",
    "3 5\n",
    "3 4\n",
    "6 6"
   ]
  },
  {
   "cell_type": "markdown",
   "metadata": {},
   "source": [
    "Ориентированные, не ориентированные\n",
    "Связные, не связные, Полносвязные\n"
   ]
  },
  {
   "cell_type": "markdown",
   "metadata": {},
   "source": [
    "Матрица смежности\n",
    "\n",
    "| | 0 | 1 | 2 | 3 |\n",
    "| -- | -- | -- | -- | -- |\n",
    "| 0 | 0 | 1 | 0 | 1 |\n",
    "| 1 | 1 | 0 | 1 | 0 |\n",
    "| 2 | 0 | 1 | 0 | 1 |\n",
    "| 3 | 1 | 0 | 1 | 0 |"
   ]
  },
  {
   "cell_type": "markdown",
   "metadata": {},
   "source": [
    "Списосок смежности  \n",
    "0 1 2 3  \n",
    "1 0 2  \n",
    "2 0 1 3  \n",
    "3 0 2  \n",
    "4"
   ]
  },
  {
   "cell_type": "markdown",
   "metadata": {},
   "source": [
    "https://rosavtodor.gov.ru/opendata/7717509757-klassifikator/data-2018-02-16T00-00-structure-2015-10-08T00-00.csv"
   ]
  },
  {
   "cell_type": "code",
   "execution_count": 2,
   "metadata": {},
   "outputs": [],
   "source": [
    "import pandas as pd"
   ]
  },
  {
   "cell_type": "code",
   "execution_count": 28,
   "metadata": {},
   "outputs": [],
   "source": [
    "roads = pd.read_csv(\"roads.csv\", encoding=\"cp1251\", sep=\";\")"
   ]
  },
  {
   "cell_type": "code",
   "execution_count": 43,
   "metadata": {},
   "outputs": [
    {
     "data": {
      "text/html": [
       "<div>\n",
       "<style scoped>\n",
       "    .dataframe tbody tr th:only-of-type {\n",
       "        vertical-align: middle;\n",
       "    }\n",
       "\n",
       "    .dataframe tbody tr th {\n",
       "        vertical-align: top;\n",
       "    }\n",
       "\n",
       "    .dataframe thead th {\n",
       "        text-align: right;\n",
       "    }\n",
       "</style>\n",
       "<table border=\"1\" class=\"dataframe\">\n",
       "  <thead>\n",
       "    <tr style=\"text-align: right;\">\n",
       "      <th></th>\n",
       "      <th>Учетные номера автомобильных дорог</th>\n",
       "      <th>Наименование автомобильных дорог</th>\n",
       "      <th>Идентификационные номера автомобильных дорог</th>\n",
       "      <th>Учетные номера автомобильных дорог, которые могут применяться до 31 декабря 2017 г. включительно</th>\n",
       "      <th>Наименования автомобильных дорог, которые могут применяться до 31 декабря 2017 г. включительно</th>\n",
       "    </tr>\n",
       "  </thead>\n",
       "  <tbody>\n",
       "    <tr>\n",
       "      <th>0</th>\n",
       "      <td>М-1</td>\n",
       "      <td>\"Беларусь\" Москва - граница с Республикой Бело...</td>\n",
       "      <td>00 ОП ФЗ М-1 (Е30, АН6, СНГ)</td>\n",
       "      <td>М-1</td>\n",
       "      <td>\"Беларусь\" - от Москвы до границы с Республико...</td>\n",
       "    </tr>\n",
       "    <tr>\n",
       "      <th>1</th>\n",
       "      <td>М-2</td>\n",
       "      <td>\"Крым\" Москва - Тула - Орел - Курск - Белгород...</td>\n",
       "      <td>00 ОП ФЗ М-2 (Е105, СНГ)</td>\n",
       "      <td>М-2</td>\n",
       "      <td>\"Крым\" - от Москвы через Тулу, Орел, Курск, Бе...</td>\n",
       "    </tr>\n",
       "    <tr>\n",
       "      <th>2</th>\n",
       "      <td>М-3</td>\n",
       "      <td>\"Украина\" Москва - Калуга - Брянск - граница с...</td>\n",
       "      <td>00 ОП ФЗ М-3 (Е101, СНГ)</td>\n",
       "      <td>М-3</td>\n",
       "      <td>\"Украина\" - от Москвы через Калугу, Брянск до ...</td>\n",
       "    </tr>\n",
       "    <tr>\n",
       "      <th>3</th>\n",
       "      <td>М-4</td>\n",
       "      <td>\"Дон\" Москва - Воронеж - Ростов-на-Дону - Крас...</td>\n",
       "      <td>00 ОП ФЗ М-4 (Е50, Е97, Е115, Е592, СНГ)</td>\n",
       "      <td>М-4</td>\n",
       "      <td>\"Дон\" - от Москвы через Воронеж, Ростов-на-Дон...</td>\n",
       "    </tr>\n",
       "    <tr>\n",
       "      <th>4</th>\n",
       "      <td>М-5</td>\n",
       "      <td>\"Урал\" Москва - Рязань - Пенза - Самара - Уфа ...</td>\n",
       "      <td>00 ОП ФЗ М-5 (Е30, АН6, АН7, СНГ)</td>\n",
       "      <td>М-5</td>\n",
       "      <td>\"Урал\" - от Москвы через Рязань, Пензу, Самару...</td>\n",
       "    </tr>\n",
       "    <tr>\n",
       "      <th>...</th>\n",
       "      <td>...</td>\n",
       "      <td>...</td>\n",
       "      <td>...</td>\n",
       "      <td>...</td>\n",
       "      <td>...</td>\n",
       "    </tr>\n",
       "    <tr>\n",
       "      <th>117</th>\n",
       "      <td>А-383</td>\n",
       "      <td>подъездная дорога от поселка городского типа Т...</td>\n",
       "      <td>00 ОП ФЗ А-383</td>\n",
       "      <td>-</td>\n",
       "      <td>-</td>\n",
       "    </tr>\n",
       "    <tr>\n",
       "      <th>118</th>\n",
       "      <td>А-384</td>\n",
       "      <td>подъездная дорога от г. Анадыря к аэропорту Ан...</td>\n",
       "      <td>00 ОП ФЗ А-384</td>\n",
       "      <td>-</td>\n",
       "      <td>-</td>\n",
       "    </tr>\n",
       "    <tr>\n",
       "      <th>119</th>\n",
       "      <td>А-391</td>\n",
       "      <td>Южно-Сахалинск - Корсаков</td>\n",
       "      <td>00 ОП ФЗ А-391</td>\n",
       "      <td>1P 488</td>\n",
       "      <td>Южно-Сахалинск - Корсаков</td>\n",
       "    </tr>\n",
       "    <tr>\n",
       "      <th>120</th>\n",
       "      <td>А-392</td>\n",
       "      <td>Южно-Сахалинск - Холмск</td>\n",
       "      <td>00 ОП ФЗ А-392</td>\n",
       "      <td>-</td>\n",
       "      <td>Южно-Сахалинск - Холмск</td>\n",
       "    </tr>\n",
       "    <tr>\n",
       "      <th>121</th>\n",
       "      <td>А-401</td>\n",
       "      <td>подъездная дорога от морского порта Петропавло...</td>\n",
       "      <td>00 ОП ФЗ А-401</td>\n",
       "      <td>-</td>\n",
       "      <td>Петропавловск-Камчатский - морской порт</td>\n",
       "    </tr>\n",
       "  </tbody>\n",
       "</table>\n",
       "<p>122 rows × 5 columns</p>\n",
       "</div>"
      ],
      "text/plain": [
       "    Учетные номера автомобильных дорог  \\\n",
       "0                                  М-1   \n",
       "1                                  М-2   \n",
       "2                                  М-3   \n",
       "3                                  М-4   \n",
       "4                                  М-5   \n",
       "..                                 ...   \n",
       "117                              А-383   \n",
       "118                              А-384   \n",
       "119                              А-391   \n",
       "120                              А-392   \n",
       "121                              А-401   \n",
       "\n",
       "                      Наименование автомобильных дорог  \\\n",
       "0    \"Беларусь\" Москва - граница с Республикой Бело...   \n",
       "1    \"Крым\" Москва - Тула - Орел - Курск - Белгород...   \n",
       "2    \"Украина\" Москва - Калуга - Брянск - граница с...   \n",
       "3    \"Дон\" Москва - Воронеж - Ростов-на-Дону - Крас...   \n",
       "4    \"Урал\" Москва - Рязань - Пенза - Самара - Уфа ...   \n",
       "..                                                 ...   \n",
       "117  подъездная дорога от поселка городского типа Т...   \n",
       "118  подъездная дорога от г. Анадыря к аэропорту Ан...   \n",
       "119                         Южно-Сахалинск - Корсаков    \n",
       "120                           Южно-Сахалинск - Холмск    \n",
       "121  подъездная дорога от морского порта Петропавло...   \n",
       "\n",
       "    Идентификационные номера автомобильных дорог  \\\n",
       "0                  00 ОП ФЗ М-1 (Е30, АН6, СНГ)    \n",
       "1                       00 ОП ФЗ М-2 (Е105, СНГ)   \n",
       "2                      00 ОП ФЗ М-3 (Е101, СНГ)    \n",
       "3      00 ОП ФЗ М-4 (Е50, Е97, Е115, Е592, СНГ)    \n",
       "4             00 ОП ФЗ М-5 (Е30, АН6, АН7, СНГ)    \n",
       "..                                           ...   \n",
       "117                              00 ОП ФЗ А-383    \n",
       "118                              00 ОП ФЗ А-384    \n",
       "119                              00 ОП ФЗ А-391    \n",
       "120                              00 ОП ФЗ А-392    \n",
       "121                              00 ОП ФЗ А-401    \n",
       "\n",
       "    Учетные номера автомобильных дорог, которые могут применяться до 31 декабря 2017 г. включительно  \\\n",
       "0                                                  М-1                                                 \n",
       "1                                                  М-2                                                 \n",
       "2                                                  М-3                                                 \n",
       "3                                                  М-4                                                 \n",
       "4                                                  М-5                                                 \n",
       "..                                                 ...                                                 \n",
       "117                                                  -                                                 \n",
       "118                                                  -                                                 \n",
       "119                                             1P 488                                                 \n",
       "120                                                  -                                                 \n",
       "121                                                  -                                                 \n",
       "\n",
       "    Наименования автомобильных дорог, которые могут применяться до 31 декабря 2017 г. включительно  \n",
       "0    \"Беларусь\" - от Москвы до границы с Республико...                                              \n",
       "1    \"Крым\" - от Москвы через Тулу, Орел, Курск, Бе...                                              \n",
       "2    \"Украина\" - от Москвы через Калугу, Брянск до ...                                              \n",
       "3    \"Дон\" - от Москвы через Воронеж, Ростов-на-Дон...                                              \n",
       "4    \"Урал\" - от Москвы через Рязань, Пензу, Самару...                                              \n",
       "..                                                 ...                                              \n",
       "117                                                  -                                              \n",
       "118                                                  -                                              \n",
       "119                         Южно-Сахалинск - Корсаков                                               \n",
       "120                           Южно-Сахалинск - Холмск                                               \n",
       "121           Петропавловск-Камчатский - морской порт                                               \n",
       "\n",
       "[122 rows x 5 columns]"
      ]
     },
     "execution_count": 43,
     "metadata": {},
     "output_type": "execute_result"
    }
   ],
   "source": [
    "roads"
   ]
  },
  {
   "cell_type": "code",
   "execution_count": 66,
   "metadata": {},
   "outputs": [
    {
     "data": {
      "text/plain": [
       "[['Москва', 'граница с Республикой Белоруссия'],\n",
       " ['Москва', 'Тула', 'Орел', 'Курск', 'Белгород', 'граница с Украиной'],\n",
       " ['Москва', 'Калуга', 'Брянск', 'граница с Украиной'],\n",
       " ['Москва', 'Воронеж', 'Ростов-на-Дону', 'Краснодар', 'Новороссийск'],\n",
       " ['Москва', 'Рязань', 'Пенза', 'Самара', 'Уфа', 'Челябинск'],\n",
       " ['Москва', 'Владимир', 'Нижний Новгород', 'Казань', 'Уфа'],\n",
       " ['Москва', 'Ярославль', 'Вологда', 'Архангельск'],\n",
       " ['Москва', 'Волоколамск', 'граница с Латвийской Республикой'],\n",
       " ['Москва', 'Тверь', 'Великий Новгород', 'Санкт-Петербург'],\n",
       " ['строящаяся скоростная автомобильная дорога Москва', 'Санкт-Петербург'],\n",
       " ['Санкт-Петербург',\n",
       "  'Петрозаводск',\n",
       "  'Мурманск',\n",
       "  'Печенга',\n",
       "  'граница с Королевством Норвегия'],\n",
       " ['- Тамбов', 'Волгоград', 'Астрахань'],\n",
       " ['Санкт-Петербург',\n",
       "  'Псков',\n",
       "  'Пустошка',\n",
       "  'Невель',\n",
       "  'граница с Республикой Белоруссия'],\n",
       " ['Великий Новгород', 'Сольцы', 'Порхов', 'Псков'],\n",
       " ['Калуга', 'Перемышль', 'Белев', 'Орел'],\n",
       " ['Орел', 'Ливны', 'Елец', 'Липецк', 'Тамбов'],\n",
       " ['Орел', 'Брянск', 'Смоленск', 'граница с Республикой Белоруссия'],\n",
       " ['Калуга', 'Тула', 'Михайлов', 'Рязань'],\n",
       " ['Нижний Новгород', 'Арзамас', 'Саранск', 'Исса', 'Пенза', 'Саратов'],\n",
       " ['Чебоксары', 'Йошкар-Ола', 'Киров', 'Сыктывкар'],\n",
       " ['Саранск', 'Сурское', 'Ульяновск'],\n",
       " ['Воронеж', 'Тамбов'],\n",
       " ['Тамбов', 'Пенза'],\n",
       " ['Астрахань', 'Кочубей', 'Кизляр', 'Махачкала'],\n",
       " ['Астрахань', 'Элиста', 'Ставрополь'],\n",
       " ['- Владикавказ',\n",
       "  'Грозный',\n",
       "  'Махачкала',\n",
       "  'граница с Азербайджанской Республикой'],\n",
       " ['Сызрань', 'Саратов', 'Волгоград'],\n",
       " ['Казань',\n",
       "  'Оренбург',\n",
       "  'Акбулак',\n",
       "  'граница с Республикой Казахстан подъезд',\n",
       "  'аэропорту Казань'],\n",
       " ['Уфа', 'Оренбург'],\n",
       " ['Казань', 'Буинск', 'Ульяновск'],\n",
       " ['Пермь', 'Екатеринбург'],\n",
       " ['Кострома', 'Шарья', 'Киров', 'Пермь'],\n",
       " ['Челябинск', 'Курган', 'Омск', 'Новосибирск'],\n",
       " ['Новосибирск', 'Кемерово', 'Красноярск', 'Иркутск'],\n",
       " ['Новосибирск', 'Барнаул', 'Горно-Алтайск', 'граница с Монголией'],\n",
       " ['Енисей\" Красноярск',\n",
       "  'Абакан',\n",
       "  'Кызыл',\n",
       "  'Чадан',\n",
       "  'Хандагайты',\n",
       "  'граница с Монголией'],\n",
       " ['Иркутск', 'Улан-Удэ', 'Чита'],\n",
       " ['Чита', 'Невер', 'Свободный', 'Архара', 'Биробиджан', 'Хабаровск'],\n",
       " ['Курск', 'Воронеж', 'автомобильная дорога Р-22'],\n",
       " ['Екатеринбург', 'Тюмень'],\n",
       " ['Екатеринбург', 'Шадринск', 'Курган'],\n",
       " ['Тюмень', 'Ялуторовск', 'Ишим', 'Омск'],\n",
       " ['Тюмень', 'Тобольск', 'Ханты-Мансийск'],\n",
       " ['Якутск', 'Магадан'],\n",
       " ['Кострома', 'Иваново'],\n",
       " [''],\n",
       " ['Москва', 'Дмитров', 'Дубна'],\n",
       " ['Москвы', 'аэропорту Домодедово'],\n",
       " ['Рублево-Успенское шоссе'],\n",
       " ['Икша', 'Ногинск', 'Бронницы', 'Голицыно', 'Истра', 'Икша'],\n",
       " ['Дмитров',\n",
       "  'Сергиев Посад',\n",
       "  'Орехово-Зуево',\n",
       "  'Воскресенск',\n",
       "  'Михнево',\n",
       "  'Балабаново',\n",
       "  'Руза',\n",
       "  'Клин',\n",
       "  'Дмитров'],\n",
       " ['Ильинское шоссе'],\n",
       " ['автомобильной дороги А-108'],\n",
       " ['автомобильной дороги М-10'],\n",
       " ['Чепелево', 'Вельяминово'],\n",
       " ['строящаяся Центральная кольцевая автомобильная дорога (Московская область)'],\n",
       " ['Вологда', 'Тихвин', 'автомобильная дорога Р-21'],\n",
       " ['Кольцевая автомобильная дорога вокруг г. Санкт-Петербурга'],\n",
       " ['Вологда', 'Медвежьегорск', 'автомобильная дорога Р-21'],\n",
       " ['Кировск', 'Мга', 'Гатчина', 'Большая Ижора'],\n",
       " [''],\n",
       " ['Москва', 'Малоярославец', 'Рославль', 'граница с Республикой Белоруссия'],\n",
       " ['Исключена с 1 июля 2013 г.'],\n",
       " ['автомобильной дороги М-1 ', 'г. Смоленску'],\n",
       " ['автомобильной дороги М-4 ', 'г. Липецку'],\n",
       " ['автомобильной дороги М-4 ', 'г. Воронежу'],\n",
       " ['автомобильной дороги М-4 ', 'г. Ростову-на-Дону'],\n",
       " ['автомобильной дороги М-4 ', 'г. Краснодару'],\n",
       " ['Тросна', 'Калиновка'],\n",
       " ['Краснодар', 'Верхнебаканский'],\n",
       " ['Джубга', 'Сочи', 'граница с Республикой Абхазия'],\n",
       " ['172-го километра федеральной автомобильной дороги А-147 Джубга',\n",
       "  'Сочи',\n",
       "  'граница с Республикой Абхазия до обхода г. Сочи'],\n",
       " ['Адлер', 'Красная Поляна'],\n",
       " ['Цивильск', 'Ульяновск'],\n",
       " ['Нытва', 'Кудымкар'],\n",
       " ['Урвань', 'Верхняя Балкария', 'Уштулу'],\n",
       " ['Черкесск', 'Домбай', 'граница с Республикой Абхазия'],\n",
       " ['дыха  и',\n",
       "  'специализированной астрофизической обсерватории Российской академии наук'],\n",
       " ['Минеральные Воды (аэропорт)', 'Кисловодск'],\n",
       " ['Прохладный', 'Баксан', 'Эльбрус'],\n",
       " ['г. Майкопа', 'Кавказскому государственному биосферному заповеднику'],\n",
       " ['Майкоп', 'Усть-Лабинск', 'Кореновск'],\n",
       " ['Владикавказ', 'Нижний Ларс', 'граница с Грузией'],\n",
       " ['Владикавказ', 'Алагир'],\n",
       " ['автомобильной дороги Р-217 ', 'аэропорту г. Владикавказа'],\n",
       " ['Карджин', 'Алагир', 'Нижний Зарамаг', 'граница с Республикой Южная Осетия'],\n",
       " ['Лермонтов', 'Черкесск'],\n",
       " ['Кочубей', 'Нефтекумск', 'Зеленокумск', 'Минеральные Воды'],\n",
       " ['Санкт-Петербург', 'граница с Эстонской Республикой'],\n",
       " ['Санкт-Петербург', 'Выборг', 'граница с Финляндской Республикой'],\n",
       " ['Псков', 'Изборск', 'граница с Эстонской Республикой'],\n",
       " ['Гвардейск', 'Неман', 'граница с Литовской Республикой'],\n",
       " ['Калининград', 'Светлогорск'],\n",
       " ['Калининград', 'Черняховск', 'Нестеров', 'граница с Литовской Республикой'],\n",
       " ['Брянск', 'Новозыбков', 'граница с Республикой Белоруссия'],\n",
       " ['Волгоград', 'Каменск-Шахтинский', 'граница с Украиной'],\n",
       " ['автомобильная дорога М-4 ', 'Новошахтинск', 'граница с Украиной'],\n",
       " ['Ростов-на-Дону', 'Таганрог', 'граница с Украиной'],\n",
       " ['Новороссийск -Керчь'],\n",
       " ['Йошкар-Ола', 'Зеленодольск', 'автомобильная дорога М-7'],\n",
       " ['Самара', 'Большая Черниговка', 'граница с Республикой Казахстан'],\n",
       " ['Оренбург', 'Илек', 'граница с Республикой Казахстан'],\n",
       " ['Челябинск', 'Троицк', 'граница с Республикой Казахстан'],\n",
       " ['Омск', 'Черлак', 'граница с Республикой Казахстан'],\n",
       " ['Барнаул', 'Рубцовск', 'граница с Республикой Казахстан'],\n",
       " ['Тулун', 'Братск', 'Усть-Кут', 'Мирный', 'Якутск'],\n",
       " ['Исключена с 1 января 2012 г.'],\n",
       " ['Култук', 'Монды', 'граница с Монголией'],\n",
       " ['Улан-Удэ', 'Кяхта', 'граница с Монголией'],\n",
       " ['Чита', 'Забайкальск', 'граница с Китайской Народной Республикой'],\n",
       " ['Невер', 'Якутск'],\n",
       " ['автомобильной дороги А-360 ', 'границе с Китайской Народной Республикой'],\n",
       " ['Хабаровск', 'Владивосток'],\n",
       " ['Владивосток', 'остров Русский'],\n",
       " ['Хабаровск', 'Красный Яр', 'Ариадное', 'Чугуевка', 'Находка'],\n",
       " ['г. Нарьян-Мара', 'аэропорту Нарьян-Мара'],\n",
       " ['г. Дудинки', 'аэропорту Алыкель'],\n",
       " ['поселка городского типа Тура', 'аэропорту Тура (Горный)'],\n",
       " ['г. Анадыря', 'аэропорту Анадыря (Угольный)'],\n",
       " ['Южно-Сахалинск', 'Корсаков'],\n",
       " ['Южно-Сахалинск', 'Холмск'],\n",
       " ['морского порта Петропавловск-Камчатский',\n",
       "  'аэропорту Петропавловск-Камчатский (Елизово)']]"
      ]
     },
     "execution_count": 66,
     "metadata": {},
     "output_type": "execute_result"
    }
   ],
   "source": [
    "a = roads[\"Наименование автомобильных дорог\"].str.strip().str.replace(\"\\xa0\" , \" \").str.replace(\" к \", \" - \")\\\n",
    "    .str.replace(\".* от\", \"\", regex=True).str.replace('\".*\"', '', regex=True).str.strip().str.split(\" - \").tolist()\n",
    "a"
   ]
  },
  {
   "cell_type": "code",
   "execution_count": 20,
   "metadata": {},
   "outputs": [
    {
     "data": {
      "text/plain": [
       "'\"Беларусь\"\\xa0Москва - граница с Республикой Белоруссия\\xa0'"
      ]
     },
     "execution_count": 20,
     "metadata": {},
     "output_type": "execute_result"
    }
   ],
   "source": [
    "roads[\"Наименование автомобильных дорог\"].iloc[0]"
   ]
  },
  {
   "cell_type": "code",
   "execution_count": null,
   "metadata": {},
   "outputs": [],
   "source": [
    "dz230121\n",
    "    dz.py\n",
    "        def main  # загружает csv файл и вызывает другие методы чтобы сохранить 3 представления графа \n",
    "        def list_ribbles(list_data, filename) # csv ему передается список списков и он формирует список ребер и умеет сохранять его в файл\n",
    "        def adjacency_matrix(list_data, filename) # csv    data = pd.DataFrame(array)    data.to_csv(index=False, title=False)\n",
    "        def adjacency_list(list_data, filename) # txt"
   ]
  },
  {
   "cell_type": "code",
   "execution_count": null,
   "metadata": {},
   "outputs": [],
   "source": [
    "{\n",
    "    \"v1\": [\"v1\", \"v2\", \"v3\"],\n",
    "    \"v2\": [\"V2\", \"V3\"],\n",
    "    \"V3\": [\"v1\"],\n",
    "}"
   ]
  },
  {
   "cell_type": "code",
   "execution_count": 51,
   "metadata": {},
   "outputs": [
    {
     "data": {
      "text/html": [
       "<div>\n",
       "<style scoped>\n",
       "    .dataframe tbody tr th:only-of-type {\n",
       "        vertical-align: middle;\n",
       "    }\n",
       "\n",
       "    .dataframe tbody tr th {\n",
       "        vertical-align: top;\n",
       "    }\n",
       "\n",
       "    .dataframe thead th {\n",
       "        text-align: right;\n",
       "    }\n",
       "</style>\n",
       "<table border=\"1\" class=\"dataframe\">\n",
       "  <thead>\n",
       "    <tr style=\"text-align: right;\">\n",
       "      <th></th>\n",
       "      <th>a</th>\n",
       "      <th>b</th>\n",
       "    </tr>\n",
       "  </thead>\n",
       "  <tbody>\n",
       "    <tr>\n",
       "      <th>0</th>\n",
       "      <td>1</td>\n",
       "      <td>4</td>\n",
       "    </tr>\n",
       "    <tr>\n",
       "      <th>1</th>\n",
       "      <td>2</td>\n",
       "      <td>5</td>\n",
       "    </tr>\n",
       "    <tr>\n",
       "      <th>2</th>\n",
       "      <td>3</td>\n",
       "      <td>6</td>\n",
       "    </tr>\n",
       "  </tbody>\n",
       "</table>\n",
       "</div>"
      ],
      "text/plain": [
       "   a  b\n",
       "0  1  4\n",
       "1  2  5\n",
       "2  3  6"
      ]
     },
     "execution_count": 51,
     "metadata": {},
     "output_type": "execute_result"
    }
   ],
   "source": [
    "d = {\"a\": [1,2,3], \"b\": [4,5,6]}\n",
    "data = pd.DataFrame(d)\n",
    "data.to_csv(\"filename\", index=False, header=False)"
   ]
  },
  {
   "cell_type": "code",
   "execution_count": 55,
   "metadata": {},
   "outputs": [
    {
     "data": {
      "text/html": [
       "<div>\n",
       "<style scoped>\n",
       "    .dataframe tbody tr th:only-of-type {\n",
       "        vertical-align: middle;\n",
       "    }\n",
       "\n",
       "    .dataframe tbody tr th {\n",
       "        vertical-align: top;\n",
       "    }\n",
       "\n",
       "    .dataframe thead th {\n",
       "        text-align: right;\n",
       "    }\n",
       "</style>\n",
       "<table border=\"1\" class=\"dataframe\">\n",
       "  <thead>\n",
       "    <tr style=\"text-align: right;\">\n",
       "      <th></th>\n",
       "      <th>a</th>\n",
       "      <th>b</th>\n",
       "      <th>c</th>\n",
       "    </tr>\n",
       "  </thead>\n",
       "  <tbody>\n",
       "    <tr>\n",
       "      <th>a</th>\n",
       "      <td>1</td>\n",
       "      <td>1</td>\n",
       "      <td>0</td>\n",
       "    </tr>\n",
       "    <tr>\n",
       "      <th>b</th>\n",
       "      <td>0</td>\n",
       "      <td>1</td>\n",
       "      <td>1</td>\n",
       "    </tr>\n",
       "    <tr>\n",
       "      <th>c</th>\n",
       "      <td>0</td>\n",
       "      <td>0</td>\n",
       "      <td>1</td>\n",
       "    </tr>\n",
       "  </tbody>\n",
       "</table>\n",
       "</div>"
      ],
      "text/plain": [
       "   a  b  c\n",
       "a  1  1  0\n",
       "b  0  1  1\n",
       "c  0  0  1"
      ]
     },
     "execution_count": 55,
     "metadata": {},
     "output_type": "execute_result"
    }
   ],
   "source": [
    "data = pd.DataFrame([(1,1,0), (0,1,1), (0,0,1)], index=['a', 'b', 'c'], columns=['a', 'b', 'c'])\n",
    "data"
   ]
  },
  {
   "cell_type": "code",
   "execution_count": 50,
   "metadata": {},
   "outputs": [
    {
     "name": "stdout",
     "output_type": "stream",
     "text": [
      "Requirement already satisfied: networkx[default] in c:\\users\\pavel\\appdata\\local\\programs\\python\\python38\\lib\\site-packages (3.0)\n",
      "Requirement already satisfied: numpy>=1.20 in c:\\users\\pavel\\appdata\\local\\programs\\python\\python38\\lib\\site-packages (from networkx[default]) (1.23.5)\n",
      "Requirement already satisfied: scipy>=1.8 in c:\\users\\pavel\\appdata\\local\\programs\\python\\python38\\lib\\site-packages (from networkx[default]) (1.9.1)\n",
      "Requirement already satisfied: pandas>=1.3 in c:\\users\\pavel\\appdata\\roaming\\python\\python38\\site-packages (from networkx[default]) (1.5.2)\n",
      "Collecting matplotlib>=3.4\n",
      "  Using cached matplotlib-3.6.3-cp38-cp38-win_amd64.whl (7.2 MB)\n",
      "Requirement already satisfied: fonttools>=4.22.0 in c:\\users\\pavel\\appdata\\local\\programs\\python\\python38\\lib\\site-packages (from matplotlib>=3.4->networkx[default]) (4.38.0)\n",
      "Requirement already satisfied: python-dateutil>=2.7 in c:\\users\\pavel\\appdata\\local\\programs\\python\\python38\\lib\\site-packages (from matplotlib>=3.4->networkx[default]) (2.8.1)\n",
      "Requirement already satisfied: kiwisolver>=1.0.1 in c:\\users\\pavel\\appdata\\local\\programs\\python\\python38\\lib\\site-packages (from matplotlib>=3.4->networkx[default]) (1.3.1)\n",
      "Requirement already satisfied: packaging>=20.0 in c:\\users\\pavel\\appdata\\local\\programs\\python\\python38\\lib\\site-packages (from matplotlib>=3.4->networkx[default]) (20.7)\n",
      "Requirement already satisfied: pyparsing>=2.2.1 in c:\\users\\pavel\\appdata\\local\\programs\\python\\python38\\lib\\site-packages (from matplotlib>=3.4->networkx[default]) (2.4.7)\n",
      "Requirement already satisfied: contourpy>=1.0.1 in c:\\users\\pavel\\appdata\\local\\programs\\python\\python38\\lib\\site-packages (from matplotlib>=3.4->networkx[default]) (1.0.7)\n",
      "Requirement already satisfied: pillow>=6.2.0 in c:\\users\\pavel\\appdata\\local\\programs\\python\\python38\\lib\\site-packages (from matplotlib>=3.4->networkx[default]) (8.0.1)\n",
      "Requirement already satisfied: cycler>=0.10 in c:\\users\\pavel\\appdata\\local\\programs\\python\\python38\\lib\\site-packages (from matplotlib>=3.4->networkx[default]) (0.10.0)\n",
      "Requirement already satisfied: pytz>=2020.1 in c:\\users\\pavel\\appdata\\local\\programs\\python\\python38\\lib\\site-packages (from pandas>=1.3->networkx[default]) (2020.4)\n",
      "Requirement already satisfied: six in c:\\users\\pavel\\appdata\\local\\programs\\python\\python38\\lib\\site-packages (from cycler>=0.10->matplotlib>=3.4->networkx[default]) (1.15.0)\n",
      "Installing collected packages: matplotlib\n",
      "Successfully installed matplotlib-3.6.3\n"
     ]
    },
    {
     "name": "stderr",
     "output_type": "stream",
     "text": [
      "WARNING: Ignoring invalid distribution -atplotlib (c:\\users\\pavel\\appdata\\local\\programs\\python\\python38\\lib\\site-packages)\n",
      "WARNING: Ignoring invalid distribution -atplotlib (c:\\users\\pavel\\appdata\\local\\programs\\python\\python38\\lib\\site-packages)\n",
      "WARNING: Ignoring invalid distribution -atplotlib (c:\\users\\pavel\\appdata\\local\\programs\\python\\python38\\lib\\site-packages)\n",
      "WARNING: Ignoring invalid distribution -atplotlib (c:\\users\\pavel\\appdata\\local\\programs\\python\\python38\\lib\\site-packages)\n",
      "WARNING: Ignoring invalid distribution -atplotlib (c:\\users\\pavel\\appdata\\local\\programs\\python\\python38\\lib\\site-packages)\n",
      "WARNING: Ignoring invalid distribution -atplotlib (c:\\users\\pavel\\appdata\\local\\programs\\python\\python38\\lib\\site-packages)\n"
     ]
    }
   ],
   "source": [
    "!pip install --user networkx[default]"
   ]
  },
  {
   "cell_type": "code",
   "execution_count": 74,
   "metadata": {},
   "outputs": [],
   "source": [
    "import networkx as nx"
   ]
  },
  {
   "cell_type": "code",
   "execution_count": 96,
   "metadata": {},
   "outputs": [],
   "source": [
    "edges = [\n",
    "    (0,1),\n",
    "    (1,2),\n",
    "    (2,3),\n",
    "    (3,0),\n",
    "]"
   ]
  },
  {
   "cell_type": "code",
   "execution_count": 97,
   "metadata": {},
   "outputs": [],
   "source": [
    "G = nx.Graph(edges=edges)"
   ]
  },
  {
   "cell_type": "code",
   "execution_count": 77,
   "metadata": {},
   "outputs": [
    {
     "data": {
      "text/plain": [
       "<networkx.classes.graph.Graph at 0x211fb4902e0>"
      ]
     },
     "execution_count": 77,
     "metadata": {},
     "output_type": "execute_result"
    }
   ],
   "source": [
    "G"
   ]
  },
  {
   "cell_type": "code",
   "execution_count": 67,
   "metadata": {},
   "outputs": [
    {
     "name": "stdout",
     "output_type": "stream",
     "text": [
      "Collecting pyvis\n",
      "  Downloading pyvis-0.3.1.tar.gz (748 kB)\n",
      "     -------------------------------------- 748.9/748.9 kB 1.2 MB/s eta 0:00:00\n",
      "  Preparing metadata (setup.py): started\n",
      "  Preparing metadata (setup.py): finished with status 'done'\n",
      "Requirement already satisfied: jinja2>=2.9.6 in c:\\users\\pavel\\appdata\\local\\programs\\python\\python38\\lib\\site-packages (from pyvis) (2.11.2)\n",
      "Requirement already satisfied: networkx>=1.11 in c:\\users\\pavel\\appdata\\local\\programs\\python\\python38\\lib\\site-packages (from pyvis) (3.0)\n",
      "Requirement already satisfied: ipython>=5.3.0 in c:\\users\\pavel\\appdata\\local\\programs\\python\\python38\\lib\\site-packages (from pyvis) (7.19.0)\n",
      "Collecting jsonpickle>=1.4.1\n",
      "  Downloading jsonpickle-3.0.1-py2.py3-none-any.whl (40 kB)\n",
      "     ---------------------------------------- 40.5/40.5 kB ? eta 0:00:00\n",
      "Requirement already satisfied: jedi>=0.10 in c:\\users\\pavel\\appdata\\local\\programs\\python\\python38\\lib\\site-packages (from ipython>=5.3.0->pyvis) (0.17.2)\n",
      "Requirement already satisfied: traitlets>=4.2 in c:\\users\\pavel\\appdata\\local\\programs\\python\\python38\\lib\\site-packages (from ipython>=5.3.0->pyvis) (5.0.5)\n",
      "Requirement already satisfied: colorama in c:\\users\\pavel\\appdata\\local\\programs\\python\\python38\\lib\\site-packages (from ipython>=5.3.0->pyvis) (0.4.4)\n",
      "Requirement already satisfied: backcall in c:\\users\\pavel\\appdata\\local\\programs\\python\\python38\\lib\\site-packages (from ipython>=5.3.0->pyvis) (0.2.0)\n",
      "Requirement already satisfied: pygments in c:\\users\\pavel\\appdata\\local\\programs\\python\\python38\\lib\\site-packages (from ipython>=5.3.0->pyvis) (2.7.3)\n",
      "Requirement already satisfied: prompt-toolkit!=3.0.0,!=3.0.1,<3.1.0,>=2.0.0 in c:\\users\\pavel\\appdata\\local\\programs\\python\\python38\\lib\\site-packages (from ipython>=5.3.0->pyvis) (3.0.8)\n",
      "Requirement already satisfied: decorator in c:\\users\\pavel\\appdata\\local\\programs\\python\\python38\\lib\\site-packages (from ipython>=5.3.0->pyvis) (4.4.2)\n",
      "Requirement already satisfied: pickleshare in c:\\users\\pavel\\appdata\\local\\programs\\python\\python38\\lib\\site-packages (from ipython>=5.3.0->pyvis) (0.7.5)\n",
      "Requirement already satisfied: setuptools>=18.5 in c:\\users\\pavel\\appdata\\local\\programs\\python\\python38\\lib\\site-packages (from ipython>=5.3.0->pyvis) (49.2.1)\n",
      "Requirement already satisfied: MarkupSafe>=0.23 in c:\\users\\pavel\\appdata\\local\\programs\\python\\python38\\lib\\site-packages (from jinja2>=2.9.6->pyvis) (1.1.1)\n",
      "Requirement already satisfied: parso<0.8.0,>=0.7.0 in c:\\users\\pavel\\appdata\\local\\programs\\python\\python38\\lib\\site-packages (from jedi>=0.10->ipython>=5.3.0->pyvis) (0.7.1)\n",
      "Requirement already satisfied: wcwidth in c:\\users\\pavel\\appdata\\local\\programs\\python\\python38\\lib\\site-packages (from prompt-toolkit!=3.0.0,!=3.0.1,<3.1.0,>=2.0.0->ipython>=5.3.0->pyvis) (0.2.5)\n",
      "Requirement already satisfied: ipython-genutils in c:\\users\\pavel\\appdata\\local\\programs\\python\\python38\\lib\\site-packages (from traitlets>=4.2->ipython>=5.3.0->pyvis) (0.2.0)\n",
      "Installing collected packages: jsonpickle, pyvis\n",
      "  Running setup.py install for pyvis: started\n",
      "  Running setup.py install for pyvis: finished with status 'done'\n",
      "Successfully installed jsonpickle-3.0.1 pyvis-0.3.1\n"
     ]
    },
    {
     "name": "stderr",
     "output_type": "stream",
     "text": [
      "WARNING: Ignoring invalid distribution -atplotlib (c:\\users\\pavel\\appdata\\local\\programs\\python\\python38\\lib\\site-packages)\n",
      "WARNING: Ignoring invalid distribution -atplotlib (c:\\users\\pavel\\appdata\\local\\programs\\python\\python38\\lib\\site-packages)\n",
      "WARNING: Ignoring invalid distribution -atplotlib (c:\\users\\pavel\\appdata\\local\\programs\\python\\python38\\lib\\site-packages)\n",
      "  DEPRECATION: pyvis is being installed using the legacy 'setup.py install' method, because it does not have a 'pyproject.toml' and the 'wheel' package is not installed. pip 23.1 will enforce this behaviour change. A possible replacement is to enable the '--use-pep517' option. Discussion can be found at https://github.com/pypa/pip/issues/8559\n",
      "WARNING: Ignoring invalid distribution -atplotlib (c:\\users\\pavel\\appdata\\local\\programs\\python\\python38\\lib\\site-packages)\n",
      "WARNING: Ignoring invalid distribution -atplotlib (c:\\users\\pavel\\appdata\\local\\programs\\python\\python38\\lib\\site-packages)\n",
      "WARNING: Ignoring invalid distribution -atplotlib (c:\\users\\pavel\\appdata\\local\\programs\\python\\python38\\lib\\site-packages)\n",
      "WARNING: Ignoring invalid distribution -atplotlib (c:\\users\\pavel\\appdata\\local\\programs\\python\\python38\\lib\\site-packages)\n",
      "WARNING: Ignoring invalid distribution -atplotlib (c:\\users\\pavel\\appdata\\local\\programs\\python\\python38\\lib\\site-packages)\n"
     ]
    }
   ],
   "source": [
    "!pip install pyvis"
   ]
  },
  {
   "cell_type": "code",
   "execution_count": 94,
   "metadata": {},
   "outputs": [],
   "source": [
    "# from IPython.core.display import SVG, display\n",
    "\n",
    "# def draw(graph):\n",
    "#     svg = nx.nx_agraph.to_agraph(graph).draw(prog='dot', format='svg')\n",
    "#     display(SVG(svg))\n",
    "\n",
    "# draw(G)"
   ]
  },
  {
   "cell_type": "code",
   "execution_count": 104,
   "metadata": {},
   "outputs": [
    {
     "ename": "UnicodeEncodeError",
     "evalue": "'charmap' codec can't encode characters in position 263607-263621: character maps to <undefined>",
     "output_type": "error",
     "traceback": [
      "\u001b[1;31m---------------------------------------------------------------------------\u001b[0m",
      "\u001b[1;31mUnicodeEncodeError\u001b[0m                        Traceback (most recent call last)",
      "\u001b[1;32m<ipython-input-104-9514d5fbd18b>\u001b[0m in \u001b[0;36m<module>\u001b[1;34m\u001b[0m\n\u001b[0;32m      2\u001b[0m \u001b[0mnet\u001b[0m \u001b[1;33m=\u001b[0m \u001b[0mNetwork\u001b[0m\u001b[1;33m(\u001b[0m\u001b[0mnotebook\u001b[0m\u001b[1;33m=\u001b[0m\u001b[1;32mTrue\u001b[0m\u001b[1;33m,\u001b[0m \u001b[0mcdn_resources\u001b[0m\u001b[1;33m=\u001b[0m\u001b[1;34m'in_line'\u001b[0m \u001b[1;33m)\u001b[0m\u001b[1;33m\u001b[0m\u001b[1;33m\u001b[0m\u001b[0m\n\u001b[0;32m      3\u001b[0m \u001b[0mnet\u001b[0m\u001b[1;33m.\u001b[0m\u001b[0mfrom_nx\u001b[0m\u001b[1;33m(\u001b[0m\u001b[0mG\u001b[0m\u001b[1;33m)\u001b[0m\u001b[1;33m\u001b[0m\u001b[1;33m\u001b[0m\u001b[0m\n\u001b[1;32m----> 4\u001b[1;33m \u001b[0mnet\u001b[0m\u001b[1;33m.\u001b[0m\u001b[0mshow\u001b[0m\u001b[1;33m(\u001b[0m\u001b[1;34m\"example.html\"\u001b[0m\u001b[1;33m)\u001b[0m\u001b[1;33m\u001b[0m\u001b[1;33m\u001b[0m\u001b[0m\n\u001b[0m",
      "\u001b[1;32mc:\\users\\pavel\\appdata\\local\\programs\\python\\python38\\lib\\site-packages\\pyvis\\network.py\u001b[0m in \u001b[0;36mshow\u001b[1;34m(self, name, local)\u001b[0m\n\u001b[0;32m    547\u001b[0m         \u001b[0mcheck_html\u001b[0m\u001b[1;33m(\u001b[0m\u001b[0mname\u001b[0m\u001b[1;33m)\u001b[0m\u001b[1;33m\u001b[0m\u001b[1;33m\u001b[0m\u001b[0m\n\u001b[0;32m    548\u001b[0m         \u001b[1;32mif\u001b[0m \u001b[0mself\u001b[0m\u001b[1;33m.\u001b[0m\u001b[0mtemplate\u001b[0m \u001b[1;32mis\u001b[0m \u001b[1;32mnot\u001b[0m \u001b[1;32mNone\u001b[0m\u001b[1;33m:\u001b[0m\u001b[1;33m\u001b[0m\u001b[1;33m\u001b[0m\u001b[0m\n\u001b[1;32m--> 549\u001b[1;33m             \u001b[1;32mreturn\u001b[0m \u001b[0mself\u001b[0m\u001b[1;33m.\u001b[0m\u001b[0mwrite_html\u001b[0m\u001b[1;33m(\u001b[0m\u001b[0mname\u001b[0m\u001b[1;33m,\u001b[0m \u001b[0mlocal\u001b[0m\u001b[1;33m,\u001b[0m \u001b[0mnotebook\u001b[0m\u001b[1;33m=\u001b[0m\u001b[1;32mTrue\u001b[0m\u001b[1;33m)\u001b[0m\u001b[1;33m\u001b[0m\u001b[1;33m\u001b[0m\u001b[0m\n\u001b[0m\u001b[0;32m    550\u001b[0m         \u001b[1;32melse\u001b[0m\u001b[1;33m:\u001b[0m\u001b[1;33m\u001b[0m\u001b[1;33m\u001b[0m\u001b[0m\n\u001b[0;32m    551\u001b[0m             \u001b[0mself\u001b[0m\u001b[1;33m.\u001b[0m\u001b[0mwrite_html\u001b[0m\u001b[1;33m(\u001b[0m\u001b[0mname\u001b[0m\u001b[1;33m,\u001b[0m \u001b[0mlocal\u001b[0m\u001b[1;33m)\u001b[0m\u001b[1;33m\u001b[0m\u001b[1;33m\u001b[0m\u001b[0m\n",
      "\u001b[1;32mc:\\users\\pavel\\appdata\\local\\programs\\python\\python38\\lib\\site-packages\\pyvis\\network.py\u001b[0m in \u001b[0;36mwrite_html\u001b[1;34m(self, name, local, notebook)\u001b[0m\n\u001b[0;32m    506\u001b[0m \u001b[1;33m\u001b[0m\u001b[0m\n\u001b[0;32m    507\u001b[0m         \u001b[1;32mwith\u001b[0m \u001b[0mopen\u001b[0m\u001b[1;33m(\u001b[0m\u001b[0mname\u001b[0m\u001b[1;33m,\u001b[0m \u001b[1;34m\"w+\"\u001b[0m\u001b[1;33m)\u001b[0m \u001b[1;32mas\u001b[0m \u001b[0mout\u001b[0m\u001b[1;33m:\u001b[0m\u001b[1;33m\u001b[0m\u001b[1;33m\u001b[0m\u001b[0m\n\u001b[1;32m--> 508\u001b[1;33m             \u001b[0mout\u001b[0m\u001b[1;33m.\u001b[0m\u001b[0mwrite\u001b[0m\u001b[1;33m(\u001b[0m\u001b[0mself\u001b[0m\u001b[1;33m.\u001b[0m\u001b[0mhtml\u001b[0m\u001b[1;33m)\u001b[0m\u001b[1;33m\u001b[0m\u001b[1;33m\u001b[0m\u001b[0m\n\u001b[0m\u001b[0;32m    509\u001b[0m \u001b[1;33m\u001b[0m\u001b[0m\n\u001b[0;32m    510\u001b[0m         \u001b[1;32mif\u001b[0m \u001b[0mnotebook\u001b[0m\u001b[1;33m:\u001b[0m\u001b[1;33m\u001b[0m\u001b[1;33m\u001b[0m\u001b[0m\n",
      "\u001b[1;32mc:\\users\\pavel\\appdata\\local\\programs\\python\\python38\\lib\\encodings\\cp1251.py\u001b[0m in \u001b[0;36mencode\u001b[1;34m(self, input, final)\u001b[0m\n\u001b[0;32m     17\u001b[0m \u001b[1;32mclass\u001b[0m \u001b[0mIncrementalEncoder\u001b[0m\u001b[1;33m(\u001b[0m\u001b[0mcodecs\u001b[0m\u001b[1;33m.\u001b[0m\u001b[0mIncrementalEncoder\u001b[0m\u001b[1;33m)\u001b[0m\u001b[1;33m:\u001b[0m\u001b[1;33m\u001b[0m\u001b[1;33m\u001b[0m\u001b[0m\n\u001b[0;32m     18\u001b[0m     \u001b[1;32mdef\u001b[0m \u001b[0mencode\u001b[0m\u001b[1;33m(\u001b[0m\u001b[0mself\u001b[0m\u001b[1;33m,\u001b[0m \u001b[0minput\u001b[0m\u001b[1;33m,\u001b[0m \u001b[0mfinal\u001b[0m\u001b[1;33m=\u001b[0m\u001b[1;32mFalse\u001b[0m\u001b[1;33m)\u001b[0m\u001b[1;33m:\u001b[0m\u001b[1;33m\u001b[0m\u001b[1;33m\u001b[0m\u001b[0m\n\u001b[1;32m---> 19\u001b[1;33m         \u001b[1;32mreturn\u001b[0m \u001b[0mcodecs\u001b[0m\u001b[1;33m.\u001b[0m\u001b[0mcharmap_encode\u001b[0m\u001b[1;33m(\u001b[0m\u001b[0minput\u001b[0m\u001b[1;33m,\u001b[0m\u001b[0mself\u001b[0m\u001b[1;33m.\u001b[0m\u001b[0merrors\u001b[0m\u001b[1;33m,\u001b[0m\u001b[0mencoding_table\u001b[0m\u001b[1;33m)\u001b[0m\u001b[1;33m[\u001b[0m\u001b[1;36m0\u001b[0m\u001b[1;33m]\u001b[0m\u001b[1;33m\u001b[0m\u001b[1;33m\u001b[0m\u001b[0m\n\u001b[0m\u001b[0;32m     20\u001b[0m \u001b[1;33m\u001b[0m\u001b[0m\n\u001b[0;32m     21\u001b[0m \u001b[1;32mclass\u001b[0m \u001b[0mIncrementalDecoder\u001b[0m\u001b[1;33m(\u001b[0m\u001b[0mcodecs\u001b[0m\u001b[1;33m.\u001b[0m\u001b[0mIncrementalDecoder\u001b[0m\u001b[1;33m)\u001b[0m\u001b[1;33m:\u001b[0m\u001b[1;33m\u001b[0m\u001b[1;33m\u001b[0m\u001b[0m\n",
      "\u001b[1;31mUnicodeEncodeError\u001b[0m: 'charmap' codec can't encode characters in position 263607-263621: character maps to <undefined>"
     ]
    }
   ],
   "source": [
    "from pyvis.network import Network\n",
    "net = Network(notebook=True, cdn_resources='in_line' )\n",
    "net.from_nx(G)\n",
    "net.show(\"example.html\")"
   ]
  },
  {
   "cell_type": "code",
   "execution_count": null,
   "metadata": {},
   "outputs": [],
   "source": []
  },
  {
   "cell_type": "code",
   "execution_count": null,
   "metadata": {},
   "outputs": [],
   "source": []
  }
 ],
 "metadata": {
  "kernelspec": {
   "display_name": "Python 3",
   "language": "python",
   "name": "python3"
  },
  "language_info": {
   "codemirror_mode": {
    "name": "ipython",
    "version": 3
   },
   "file_extension": ".py",
   "mimetype": "text/x-python",
   "name": "python",
   "nbconvert_exporter": "python",
   "pygments_lexer": "ipython3",
   "version": "3.10.12"
  }
 },
 "nbformat": 4,
 "nbformat_minor": 4
}

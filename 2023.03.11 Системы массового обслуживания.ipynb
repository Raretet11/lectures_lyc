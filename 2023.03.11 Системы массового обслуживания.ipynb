{
 "cells": [
  {
   "cell_type": "markdown",
   "metadata": {},
   "source": [
    "1)\n",
    "main.py\n",
    "В случайных местах но на расстоянии не меньше 6 находятся на поле 800 на 800 К касс\n",
    "N=100 шушучиков появляются в случайных местах но не на касах\n",
    "Шушунчики случайно двигаются. С вероятностью 80% они сохраняют свое направление с вероятностью 20% они выбирают другое направление. Если на расстоянии 3 от шушунчика находится касса он устремлсяется в нее. Если шушунчику мешает идти другой шушунчик то шушунчик либо меняет направление движения (если он не в зоне действия кассы) или если рядом касса то шушунчик просто стоит и ждет пока возможность прохода освободится то есть он не может удалиться от кассы а только приблизиться. Притом можно приближаться обходя других шушунчиков если каждый шаг приближает или не отдаляет от кассы.\n",
    "Если шушунчик попадает на кассу он генерирует случайно число от 1 до 9 и столько времени стоит на кассе - обслуживается. В это время другие шушунчики стоят в очереди и не могут попасть на кассу.\n",
    "После того как у шушунчика кончилось время обслуживания он пропадает с кассы и где-то на поле появляется новый шушунчик\n",
    "\n",
    "Каждый запуск должен состоять из 480 минут - итераций.\n",
    "\n",
    "На каждом запуске оценивает сколько было плохих минут из этих 480.\n",
    "Плохая минут это когда какой-либо шушунчик хотя бы на одной из касс ждет в очереди уже больше 15 минут(циклов). В очереди считаются все шушунчики которые находятся на расстоянии 3 от кассы.\n",
    "\n",
    "В итоге вы получаете количество плохих минут и вычисляете долю плохих минут деля их на 480\n",
    "Долю плохих минут округляете до 0.05\n",
    "то есть вы получаете числа 0, 0.05, 0.1, 0.15, 0.2, 0.25  итд 0.9, 0.95, 1\n",
    "\n",
    "\n",
    "Вы запускаете моделирование 100 раз и считаете сколько раз получилось каждое из значений доли плохих минут\n",
    "\n",
    "Например\n",
    "0 появился 0 раз\n",
    "0.05 появился 1 раз\n",
    "0.1 появился 1 раз\n",
    "0.15 появился  2 раза\n",
    "итд\n",
    "\n",
    "Строите и сохраняете график как stat_bad_min.png \n",
    "по оси икс это доля плохих минут по игрек это количество какой раз за 100 моделирование случалась такая доля.\n",
    "\n",
    "Так же аналогично доле плохих минут постройте графики\n",
    "среднего времени обслуживания stat_time_work.png\n",
    "среднего времени ожидания stat_time_wait.png\n",
    "среднего количества появления новых клиентов у касс за минуту stat_new_clicent.png\n",
    "\n",
    "\n",
    "Подберите минимальный параметр К такой,  чтобы при 100 моделированиях не более чем в 95 из них доля плохого времени была больше 0.1\n",
    "\n",
    "задание до 18.03.2023"
   ]
  },
  {
   "cell_type": "code",
   "execution_count": 2,
   "metadata": {},
   "outputs": [
    {
     "data": {
      "text/plain": [
       "[-1, 1, -2]"
      ]
     },
     "execution_count": 2,
     "metadata": {},
     "output_type": "execute_result"
    }
   ],
   "source": [
    "a = [1,2,3]\n",
    "b = [2,1,5]\n",
    "c = list([a[i] - b[i] for i in range(len(a))])\n",
    "c"
   ]
  },
  {
   "cell_type": "code",
   "execution_count": 9,
   "metadata": {},
   "outputs": [],
   "source": [
    "import numpy as np\n",
    "a = np.round(np.random.random((3,3)))"
   ]
  },
  {
   "cell_type": "code",
   "execution_count": 14,
   "metadata": {},
   "outputs": [
    {
     "data": {
      "text/plain": [
       "array([[ True,  True,  True],\n",
       "       [ True,  True, False],\n",
       "       [False, False,  True]])"
      ]
     },
     "execution_count": 14,
     "metadata": {},
     "output_type": "execute_result"
    }
   ],
   "source": [
    "a==1"
   ]
  },
  {
   "cell_type": "code",
   "execution_count": 19,
   "metadata": {},
   "outputs": [
    {
     "data": {
      "text/plain": [
       "array([[[0, 0, 0],\n",
       "        [1, 1, 1],\n",
       "        [2, 2, 2]],\n",
       "\n",
       "       [[0, 1, 2],\n",
       "        [0, 1, 2],\n",
       "        [0, 1, 2]]])"
      ]
     },
     "execution_count": 19,
     "metadata": {},
     "output_type": "execute_result"
    }
   ],
   "source": [
    "x = np.indices((3,3))\n",
    "x"
   ]
  },
  {
   "cell_type": "code",
   "execution_count": 24,
   "metadata": {},
   "outputs": [
    {
     "data": {
      "text/plain": [
       "[(0, 0), (0, 1), (0, 2), (1, 0), (1, 1), (2, 2)]"
      ]
     },
     "execution_count": 24,
     "metadata": {},
     "output_type": "execute_result"
    }
   ],
   "source": [
    "list(zip(x[0][a==1],x[1][a==1]))"
   ]
  },
  {
   "cell_type": "code",
   "execution_count": 25,
   "metadata": {},
   "outputs": [
    {
     "data": {
      "text/plain": [
       "True"
      ]
     },
     "execution_count": 25,
     "metadata": {},
     "output_type": "execute_result"
    }
   ],
   "source": [
    "(5,3) in [(2,1), (5,3)]"
   ]
  },
  {
   "cell_type": "code",
   "execution_count": 26,
   "metadata": {},
   "outputs": [
    {
     "data": {
      "text/plain": [
       "array([[1, 2],\n",
       "       [3, 4]])"
      ]
     },
     "execution_count": 26,
     "metadata": {},
     "output_type": "execute_result"
    }
   ],
   "source": [
    "np.array([[1,2],[3,4]])"
   ]
  },
  {
   "cell_type": "code",
   "execution_count": 27,
   "metadata": {},
   "outputs": [
    {
     "data": {
      "text/plain": [
       "array([[0.5, 1.9],\n",
       "       [2.5, 3.9]])"
      ]
     },
     "execution_count": 27,
     "metadata": {},
     "output_type": "execute_result"
    }
   ],
   "source": [
    "np.array([[1,2],[3,4]]) - np.array([0.5, 0.1])"
   ]
  },
  {
   "cell_type": "code",
   "execution_count": null,
   "metadata": {},
   "outputs": [],
   "source": []
  }
 ],
 "metadata": {
  "kernelspec": {
   "display_name": "Python 3",
   "language": "python",
   "name": "python3"
  },
  "language_info": {
   "codemirror_mode": {
    "name": "ipython",
    "version": 3
   },
   "file_extension": ".py",
   "mimetype": "text/x-python",
   "name": "python",
   "nbconvert_exporter": "python",
   "pygments_lexer": "ipython3",
   "version": "3.10.6"
  }
 },
 "nbformat": 4,
 "nbformat_minor": 4
}

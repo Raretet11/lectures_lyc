{
 "cells": [
  {
   "cell_type": "code",
   "execution_count": 47,
   "id": "1e1c992f",
   "metadata": {},
   "outputs": [],
   "source": [
    "import sqlite3\n",
    "from itertools import compress\n",
    "import datetime"
   ]
  },
  {
   "cell_type": "code",
   "execution_count": null,
   "id": "7cae003f",
   "metadata": {},
   "outputs": [],
   "source": [
    "!rm "
   ]
  },
  {
   "cell_type": "code",
   "execution_count": 51,
   "id": "a24b2d5f",
   "metadata": {},
   "outputs": [
    {
     "data": {
      "text/plain": [
       "'2023-12-02T12:09:47.030074'"
      ]
     },
     "execution_count": 51,
     "metadata": {},
     "output_type": "execute_result"
    }
   ],
   "source": [
    "dt = datetime.datetime.now()\n",
    "dt.isoformat()"
   ]
  },
  {
   "cell_type": "code",
   "execution_count": 35,
   "id": "f5cb9880",
   "metadata": {},
   "outputs": [
    {
     "data": {
      "text/plain": [
       "True"
      ]
     },
     "execution_count": 35,
     "metadata": {},
     "output_type": "execute_result"
    }
   ],
   "source": [
    "any([None, 'a'])"
   ]
  },
  {
   "cell_type": "code",
   "execution_count": 46,
   "id": "65170276",
   "metadata": {},
   "outputs": [
    {
     "data": {
      "text/plain": [
       "['a', 'd']"
      ]
     },
     "execution_count": 46,
     "metadata": {},
     "output_type": "execute_result"
    }
   ],
   "source": [
    "list(compress(['a','b','c','d'], [\"as\",None,None,1]))"
   ]
  },
  {
   "cell_type": "code",
   "execution_count": 41,
   "id": "1e1282f6",
   "metadata": {},
   "outputs": [
    {
     "data": {
      "text/plain": [
       "tuple"
      ]
     },
     "execution_count": 41,
     "metadata": {},
     "output_type": "execute_result"
    }
   ],
   "source": [
    "type((5,))"
   ]
  },
  {
   "cell_type": "code",
   "execution_count": 52,
   "id": "a3732b1a",
   "metadata": {},
   "outputs": [],
   "source": [
    "def execute(func):\n",
    "    def f(self, *args, **kwargs):\n",
    "        func(self, *args, **kwargs)\n",
    "        return self.executor()\n",
    "\n",
    "    return f\n",
    "\n",
    "\n",
    "class Table:\n",
    "    def __init__(self, database: str):\n",
    "        with sqlite3.connect(database) as connection:\n",
    "            self.connection = connection\n",
    "            self.cursor = connection.cursor()\n",
    "            self._create_table()\n",
    "            \n",
    "    def _create_table(self):\n",
    "        self._sql_table_init()\n",
    "        self.cursor.execute(self.s)\n",
    "        self.connection.commit()\n",
    "        \n",
    "    def _sql_table_init(self):\n",
    "        raise NotImplementedError()\n",
    "        \n",
    "    def executor(self):\n",
    "        print(self.query, self.param)\n",
    "        with sqlite3.connect(database) as connection:\n",
    "            self.connection = connection\n",
    "            self.cursor = connection.cursor()\n",
    "            self.cursor.execute(self.query, self.param)\n",
    "            return self.cursor.fetchall()\n",
    "        \n",
    "\n",
    "\n",
    "\n",
    "class Purchase(Table):\n",
    "        \n",
    "    def _sql_table_init(self):\n",
    "        self.s = \"\"\"       \n",
    "        CREATE TABLE IF NOT EXISTS Purchase (\n",
    "            id INTEGER PRIMARY KEY,\n",
    "            price REAL,\n",
    "            amount REAL,\n",
    "            good_id INTEGER,\n",
    "            shop_id INTEGER,\n",
    "            datetime TEXT,\n",
    "            FOREIGN KEY(good_id) REFERENCES Good(id),\n",
    "            FOREIGN KEY(shop_id) REFERENCES Shop(id)\n",
    "        )\"\"\"\n",
    "        \n",
    "    @execute\n",
    "    def select_statistic(datetime_from=None, datetime_to=None, category_id=None, good_id=None, shop_id=None):\n",
    "        self.query = \"\"\"\n",
    "        SELECT * FROM Purchase \n",
    "        LEFT JOIN\n",
    "        Good\n",
    "        ON Purchase.good_id = Good.id\n",
    "        LEFT JOIN\n",
    "        Category\n",
    "        ON Good.category_id  = Category.id\n",
    "        LEFT JOIN\n",
    "        Shop\n",
    "        ON Purchase.shop_id = Shop.id\n",
    "        \"\"\"\n",
    "        self.params = ()\n",
    "        if any([datetime_from, datetime_to, category_id, good_id, shop_id]):\n",
    "            self.query += \"\"\"WHERE \"\"\"\n",
    "\n",
    "            self.query += \" AND \".join(compress([\"datetime >= ?\", \"datetime <= ?\", \"category_id = ?\",\n",
    "                                   \"good_id = ?\", \"shop_id = ?\"],\n",
    "                     [datetime_from, datetime_to, category_id, good_id, shop_id]))\n",
    "            self.params = tuple(compress([datetime_from, datetime_to, category_id, good_id, shop_id],\n",
    "                                        [datetime_from, datetime_to, category_id, good_id, shop_id]))\n",
    "   \n",
    "    @execute    \n",
    "    def insert(self, price, amount, good_id, shop_id, dt):\n",
    "        self.query = \"\"\"INSERT INTO Purchase (price, amount, good_id, shop_id, datetime) \n",
    "                        VALUES (?, ?, ?, ?, ?)\"\"\"\n",
    "        self.params = (price, amount, good_id, shop_id, dt)\n",
    "\n",
    "class Category(Table):\n",
    "    def _sql_table_init(self):\n",
    "        self.s = \"\"\"       \n",
    "        CREATE TABLE IF NOT EXISTS Category (\n",
    "            id INTEGER PRIMARY KEY,\n",
    "            category TEXT\n",
    "        )\"\"\"\n",
    "\n",
    "    @execute\n",
    "    def select_by_part(self, part, good_id=None):\n",
    "        if good_id is not None:\n",
    "            self.query = \"\"\"\n",
    "            SELECT * FROM Category WHERE id in\n",
    "            (SELECT category_id FROM Good WHERE id = ?)\n",
    "            \"\"\"\n",
    "            self.param = (f'{good_id}')\n",
    "        else:\n",
    "            self.query = \"\"\"\n",
    "            SELECT id, category FROM Category WHERE category like ?\n",
    "            \"\"\"\n",
    "            self.param = (f'%{part}%',)\n",
    "            \n",
    "    @execute\n",
    "    def insert(self, val):\n",
    "        self.query = \"\"\"\n",
    "        INSERT INTO Category (category) \n",
    "                        VALUES (?)\n",
    "        \"\"\"\n",
    "        self.params = (val,)\n",
    "        \n",
    "        \n",
    "class Shop(Table):\n",
    "    def _sql_table_init(self):\n",
    "        self.s = \"\"\"       \n",
    "        CREATE TABLE IF NOT EXISTS Shop (\n",
    "            id INTEGER PRIMARY KEY,\n",
    "            shop TEXT\n",
    "        )\"\"\"\n",
    "        \n",
    "    @execute\n",
    "    def select_by_part(self, part):\n",
    "        self.query = \"\"\"\n",
    "        SELECT id, shop FROM Shop WHERE shop like ?\n",
    "        \"\"\"\n",
    "        self.param = (f'%{part}%',)\n",
    "        \n",
    "    @execute\n",
    "    def insert(self, val):\n",
    "        self.query = \"\"\"\n",
    "        INSERT INTO Shop (shop) \n",
    "                        VALUES (?)\n",
    "        \"\"\"\n",
    "        self.params = (val,)\n",
    "\n",
    "        \n",
    "class Good(Table):\n",
    "    def _sql_table_init(self):\n",
    "        self.s = \"\"\"       \n",
    "        CREATE TABLE IF NOT EXISTS Good (\n",
    "            id INTEGER PRIMARY KEY,\n",
    "            good TEXT,\n",
    "            category_id INTEGER,\n",
    "            FOREIGN KEY(category_id) REFERENCES Category(id)\n",
    "        )\"\"\"\n",
    "\n",
    "    @execute\n",
    "    def select_by_part(self, part):\n",
    "        self.query = \"\"\"\n",
    "        SELECT * \n",
    "        FROM Good\n",
    "        LEFT JOIN\n",
    "        Category\n",
    "        ON Good.category_id = Category.id\n",
    "        WHERE good like ?\n",
    "        \"\"\"\n",
    "        self.param = (f'%{part}%',)\n",
    "        \n",
    "    @execute\n",
    "    def insert(self, good, category_id):\n",
    "        self.query = \"\"\"\n",
    "        INSERT INTO Good (good, category_id) \n",
    "                        VALUES (?)\n",
    "        \"\"\"\n",
    "        self.params = (good, category_id)"
   ]
  },
  {
   "cell_type": "code",
   "execution_count": 28,
   "id": "c128a60b",
   "metadata": {},
   "outputs": [
    {
     "name": "stdout",
     "output_type": "stream",
     "text": [
      "\n",
      "        SELECT id, shop FROM Shop WHERE shop like ?\n",
      "         ('%asdf%',)\n"
     ]
    },
    {
     "data": {
      "text/plain": [
       "[]"
      ]
     },
     "execution_count": 28,
     "metadata": {},
     "output_type": "execute_result"
    }
   ],
   "source": [
    "database = 'my_database.db'\n",
    "\n",
    "s = Shop(database)\n",
    "s.select_by_part(\"asdf\")\n",
    "Shop.select_by_part(s, \"asdf\")"
   ]
  },
  {
   "cell_type": "code",
   "execution_count": 7,
   "id": "90aec575",
   "metadata": {},
   "outputs": [],
   "source": [
    "class App:\n",
    "    def __init__(self, database):\n",
    "        self.p = Purchase(database)\n",
    "        self.c = Category(database)\n",
    "        self.s = Shop(database)\n",
    "        self.g = Good(database)\n",
    "        \n",
    "    def add_purchase(self, price, amount, good_id, shop_id, dt=None):\n",
    "        \"\"\"\n",
    "        Выбирать продукт из таблицы Good по части названия\n",
    "        Вносить новый продукт в таблицу Good\n",
    "        И аналогично для категории и для магазина\n",
    "        \"\"\"\n",
    "        if dt is None:\n",
    "            dt = datetime.datetime.now().isoformat()\n",
    "        self.p.insert(price, amount, good_id, shop_id, dt)\n",
    "        \n",
    "    def get_statistic(datetime_from=None, datetime_to=None, category_id=None, good_id=None, shop_id=None):\n",
    "        \"\"\"\n",
    "        Выбор из таблицу Purchase строчек отвечающих данным параметрам\n",
    "        \"\"\"\n",
    "        self.p.select_statistic(datetime_from, datetime_to, category_id, good_id, shop_id)\n",
    "        \n",
    "    def get_good(self, good_part):\n",
    "        \"\"\"\n",
    "        Возвращает все продукты имена которых совпадают по названию\n",
    "        \"\"\"\n",
    "        return self.g.select_by_part(good_part)\n",
    "        \n",
    "    def get_category(self, category_part, good_id=None):\n",
    "        return self.c.select_by_part(category_part, good_id)\n",
    "    \n",
    "    def get_shop(self, shop_part):\n",
    "        return self.s.select_by_part(shop_part)\n",
    "    \n",
    "    def new_good(self, good, category_id):\n",
    "        return self.g.insert(good, category_id)\n",
    "        \n",
    "    def new_category(self, category):\n",
    "        return self.c.insert(category)\n",
    "    \n",
    "    def new_shop(self, shop_part):\n",
    "        return self.s.insert(shop)"
   ]
  },
  {
   "cell_type": "code",
   "execution_count": null,
   "id": "11c5ab08",
   "metadata": {},
   "outputs": [],
   "source": []
  }
 ],
 "metadata": {
  "kernelspec": {
   "display_name": "Python 3",
   "language": "python",
   "name": "python3"
  },
  "language_info": {
   "codemirror_mode": {
    "name": "ipython",
    "version": 3
   },
   "file_extension": ".py",
   "mimetype": "text/x-python",
   "name": "python",
   "nbconvert_exporter": "python",
   "pygments_lexer": "ipython3",
   "version": "3.10.12"
  }
 },
 "nbformat": 4,
 "nbformat_minor": 5
}

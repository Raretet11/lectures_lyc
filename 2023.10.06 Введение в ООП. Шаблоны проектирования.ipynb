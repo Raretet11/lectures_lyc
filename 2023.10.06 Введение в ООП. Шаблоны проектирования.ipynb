{
 "cells": [
  {
   "cell_type": "markdown",
   "id": "5fc1db1e",
   "metadata": {},
   "source": [
    "ДЗ\n",
    "dz231006\n",
    "\n",
    "227.py\n",
    "https://leetcode.com/problems/basic-calculator-ii/\n",
    "\n",
    "main.py\n",
    "По книге \"Паттерны разработки на Python\" описание в 3 главе, написать функцию копирования из одной папки в другую по правилам описанным на 76 странице. Основа кода это код на 84 странице и 85 странице. Доработать написав классы для reader и filesystem с учетом принципов SOLID и ООП. \n",
    "\n",
    "Консольная утилита должна принимать параметр --dry-run, если он установлен то утилита только выводит, что она должна сделать, но не делает этого, если параметр не установлен, то утилита как выводит так и делает запланированное. "
   ]
  }
 ],
 "metadata": {
  "kernelspec": {
   "display_name": "Python 3",
   "language": "python",
   "name": "python3"
  },
  "language_info": {
   "codemirror_mode": {
    "name": "ipython",
    "version": 3
   },
   "file_extension": ".py",
   "mimetype": "text/x-python",
   "name": "python",
   "nbconvert_exporter": "python",
   "pygments_lexer": "ipython3",
   "version": "3.10.12"
  }
 },
 "nbformat": 4,
 "nbformat_minor": 5
}

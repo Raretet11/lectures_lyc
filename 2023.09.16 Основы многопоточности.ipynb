{
 "cells": [
  {
   "cell_type": "code",
   "execution_count": 32,
   "id": "94d41cb3",
   "metadata": {},
   "outputs": [],
   "source": [
    "import random\n",
    "import shutil"
   ]
  },
  {
   "cell_type": "code",
   "execution_count": 33,
   "id": "dafae004",
   "metadata": {},
   "outputs": [
    {
     "data": {
      "text/plain": [
       "'8393606628742612434533339710120406843569214864429136677925112901670056767847113951607666741210321893'"
      ]
     },
     "execution_count": 33,
     "metadata": {},
     "output_type": "execute_result"
    }
   ],
   "source": [
    "text =  \"\".join(map(str, [random.randint(0,9) for i in range(100)]))\n",
    "text"
   ]
  },
  {
   "cell_type": "code",
   "execution_count": 34,
   "id": "32a95158",
   "metadata": {},
   "outputs": [
    {
     "data": {
      "text/plain": [
       "'3981230121476667061593117487676500761092115297766319244684129653486040210179333354342162478266063938'"
      ]
     },
     "execution_count": 34,
     "metadata": {},
     "output_type": "execute_result"
    }
   ],
   "source": [
    "text[::-1]"
   ]
  },
  {
   "cell_type": "code",
   "execution_count": 36,
   "id": "b1bc3a50",
   "metadata": {},
   "outputs": [
    {
     "name": "stdout",
     "output_type": "stream",
     "text": [
      "0\n",
      "1\n",
      "2\n",
      "3\n",
      "4\n",
      "5\n",
      "6\n",
      "7\n",
      "8\n",
      "9\n",
      "CPU times: user 1min 43s, sys: 4.48 s, total: 1min 47s\n",
      "Wall time: 1min 49s\n"
     ]
    }
   ],
   "source": [
    "%%time\n",
    "path = \"20230916\"\n",
    "text =  \"\".join(map(str, [random.randint(0,9) for i in range(100000000)]))\n",
    "for i in range(10):\n",
    "    print(i)\n",
    "    with open(f\"{path}/src{i}.txt\", \"w\") as f:\n",
    "        f.write(text+str(i))"
   ]
  },
  {
   "cell_type": "code",
   "execution_count": 37,
   "id": "34139a7d",
   "metadata": {},
   "outputs": [
    {
     "name": "stdout",
     "output_type": "stream",
     "text": [
      "0\n",
      "1\n",
      "2\n",
      "3\n",
      "4\n",
      "5\n",
      "6\n",
      "7\n",
      "8\n",
      "9\n",
      "CPU times: user 15.4 ms, sys: 937 ms, total: 952 ms\n",
      "Wall time: 2.63 s\n"
     ]
    }
   ],
   "source": [
    "%%time\n",
    "path = \"20230916\"\n",
    "\n",
    "for i in range(10):\n",
    "    print(i)\n",
    "    shutil.copy(f\"{path}/src{i}.txt\", f\"{path}/dst{i}.txt\")"
   ]
  },
  {
   "cell_type": "code",
   "execution_count": 38,
   "id": "ec2b13b1",
   "metadata": {},
   "outputs": [
    {
     "name": "stdout",
     "output_type": "stream",
     "text": [
      "0\n",
      "1\n",
      "2\n",
      "3\n",
      "4\n",
      "5\n",
      "6\n",
      "7\n",
      "8\n",
      "9\n",
      "CPU times: user 1min 52s, sys: 4.92 s, total: 1min 57s\n",
      "Wall time: 2min\n"
     ]
    }
   ],
   "source": [
    "%%time\n",
    "\n",
    "def get_sum(i):\n",
    "    print(i)\n",
    "    with open(f\"{path}/src{i}.txt\") as f_in:\n",
    "        text = f_in.read()\n",
    "        text_new = str(sum(map(int, list(text))))\n",
    "        with open(f\"{path}/dst{i}.txt\", \"w\") as f_out:\n",
    "            f_out.write(text)\n",
    "            f_out.write(\"\\n\")\n",
    "            f_out.write(text_new)\n",
    "\n",
    "for i in range(10):\n",
    "    get_sum(i)"
   ]
  },
  {
   "cell_type": "code",
   "execution_count": 40,
   "id": "119a937a",
   "metadata": {},
   "outputs": [
    {
     "name": "stdout",
     "output_type": "stream",
     "text": [
      "0\n",
      "1\n",
      "2\n",
      "3\n",
      "4\n",
      "5\n",
      "6\n",
      "7\n",
      "8\n",
      "9\n"
     ]
    },
    {
     "name": "stderr",
     "output_type": "stream",
     "text": [
      "ERROR:root:Internal Python error in the inspect module.\n",
      "Below is the traceback from this internal error.\n",
      "\n",
      "IOStream.flush timed out\n",
      "\n",
      "KeyboardInterrupt\n",
      "\n"
     ]
    }
   ],
   "source": [
    "%%time\n",
    "from concurrent.futures import ThreadPoolExecutor\n",
    "\n",
    "import shutil\n",
    "with ThreadPoolExecutor(max_workers=10) as e:\n",
    "    for i in range(10):\n",
    "        e.submit(get_sum, i)"
   ]
  },
  {
   "cell_type": "code",
   "execution_count": 62,
   "id": "50f4bb7f",
   "metadata": {},
   "outputs": [
    {
     "name": "stdout",
     "output_type": "stream",
     "text": [
      "10425396078\n",
      "\n",
      "\n",
      "\n",
      "\n",
      "\n",
      "\n",
      "\n",
      "\n",
      "\n",
      "\n",
      "1\n",
      "2\n",
      "3\n",
      "4\n",
      "5\n",
      "6\n",
      "7\n",
      "8\n",
      "9\n",
      "CPU times: user 39 ms, sys: 64.6 ms, total: 104 ms\n",
      "Wall time: 55.4 s\n"
     ]
    }
   ],
   "source": [
    "%%time\n",
    "from multiprocessing import Pool\n",
    "\n",
    "cpu_number = 12\n",
    "with Pool(cpu_number) as p:\n",
    "    p.map(get_sum, list(range(10))*2)"
   ]
  },
  {
   "cell_type": "code",
   "execution_count": 41,
   "id": "ac8a5dd1",
   "metadata": {},
   "outputs": [
    {
     "data": {
      "text/plain": [
       "'f1040.pdf'"
      ]
     },
     "execution_count": 41,
     "metadata": {},
     "output_type": "execute_result"
    }
   ],
   "source": [
    "os.path.basename(\"http://www.irs.gov/pub/irs-pdf/f1040.pdf\")"
   ]
  },
  {
   "cell_type": "code",
   "execution_count": 57,
   "id": "1e58a9a9",
   "metadata": {},
   "outputs": [],
   "source": [
    "import os\n",
    "import urllib.request\n",
    "from threading import Thread\n",
    "\n",
    "path = \"20230916\"\n",
    "\n",
    " \n",
    "class DownloadThread(Thread):\n",
    "    \"\"\"\n",
    "    Пример скачивание файла используя многопоточность\n",
    "    \"\"\"\n",
    "    \n",
    "    def __init__(self, url, name):\n",
    "        \"\"\"Инициализация потока\"\"\"\n",
    "        Thread.__init__(self)\n",
    "        self.name = name\n",
    "        self.url = url\n",
    "    \n",
    "    def run(self):\n",
    "        \"\"\"Запуск потока\"\"\"\n",
    "        start = datetime.datetime.now()\n",
    "        msg = f\"{self.name} начал загрузку {self.url} - {start}!\"\n",
    "        print(msg)\n",
    "        handle = urllib.request.urlopen(self.url)\n",
    "        fname = os.path.basename(self.url)\n",
    "    \n",
    "        with open(f\"{path}/{fname}\", \"wb\") as f_handler:\n",
    "            while True:\n",
    "                chunk = handle.read(1024)\n",
    "                if not chunk:\n",
    "                    break\n",
    "                f_handler.write(chunk)\n",
    "        \n",
    "        msg = f\"{self.name} закончил загрузку {self.url} - {datetime.datetime.now() - start}!\"\n",
    "        print(msg)\n",
    " \n",
    " \n",
    "def main(urls):\n",
    "    \"\"\"\n",
    "    Запускаем программу\n",
    "    \"\"\"\n",
    "    for item, url in enumerate(urls):\n",
    "        name = \"Поток %s\" % (item+1)\n",
    "        thread = DownloadThread(url, name)\n",
    "        thread.start()\n",
    " \n",
    "urls = [\"http://www.irs.gov/pub/irs-pdf/f1040.pdf\",\n",
    "        \"http://www.irs.gov/pub/irs-pdf/f1040a.pdf\",\n",
    "        \"http://www.irs.gov/pub/irs-pdf/f1040ez.pdf\",\n",
    "        \"http://www.irs.gov/pub/irs-pdf/f1040es.pdf\",\n",
    "        \"http://www.irs.gov/pub/irs-pdf/f1040sb.pdf\",\n",
    "       \"http://www.irs.gov/pub/irs-pdf/f1040.pdf\",\n",
    "        \"http://www.irs.gov/pub/irs-pdf/f1040a.pdf\",\n",
    "        \"http://www.irs.gov/pub/irs-pdf/f1040ez.pdf\",\n",
    "        \"http://www.irs.gov/pub/irs-pdf/f1040es.pdf\",\n",
    "        \"http://www.irs.gov/pub/irs-pdf/f1040sb.pdf\"]\n",
    "\n"
   ]
  },
  {
   "cell_type": "code",
   "execution_count": 58,
   "id": "45adc152",
   "metadata": {},
   "outputs": [
    {
     "name": "stdout",
     "output_type": "stream",
     "text": [
      "Поток 1 начал загрузку http://www.irs.gov/pub/irs-pdf/f1040.pdf - 2023-09-16 11:56:30.918044!\n",
      "Поток 2 начал загрузку http://www.irs.gov/pub/irs-pdf/f1040a.pdf - 2023-09-16 11:56:30.918927!\n",
      "Поток 3 начал загрузку http://www.irs.gov/pub/irs-pdf/f1040ez.pdf - 2023-09-16 11:56:30.919359!\n",
      "Поток 4 начал загрузку http://www.irs.gov/pub/irs-pdf/f1040es.pdf - 2023-09-16 11:56:30.919780!\n",
      "Поток 5 начал загрузку http://www.irs.gov/pub/irs-pdf/f1040sb.pdf - 2023-09-16 11:56:30.920429!\n",
      "Поток 6 начал загрузку http://www.irs.gov/pub/irs-pdf/f1040.pdf - 2023-09-16 11:56:30.921022!\n",
      "Поток 7 начал загрузку http://www.irs.gov/pub/irs-pdf/f1040a.pdf - 2023-09-16 11:56:30.921384!\n",
      "Поток 8 начал загрузку http://www.irs.gov/pub/irs-pdf/f1040ez.pdf - 2023-09-16 11:56:30.921775!\n",
      "Поток 9 начал загрузку http://www.irs.gov/pub/irs-pdf/f1040es.pdf - 2023-09-16 11:56:30.923262!\n",
      "Поток 10 начал загрузку http://www.irs.gov/pub/irs-pdf/f1040sb.pdf - 2023-09-16 11:56:30.923686!\n",
      "0:00:00.006446\n",
      "Поток 10 закончил загрузку http://www.irs.gov/pub/irs-pdf/f1040sb.pdf - 0:00:01.801739!\n",
      "Поток 5 закончил загрузку http://www.irs.gov/pub/irs-pdf/f1040sb.pdf - 0:00:02.119458!\n",
      "Поток 6 закончил загрузку http://www.irs.gov/pub/irs-pdf/f1040.pdf - 0:00:02.724630!\n",
      "Поток 1 закончил загрузку http://www.irs.gov/pub/irs-pdf/f1040.pdf - 0:00:03.163704!\n",
      "Поток 9 закончил загрузку http://www.irs.gov/pub/irs-pdf/f1040es.pdf - 0:00:03.588579!\n",
      "Поток 3 закончил загрузку http://www.irs.gov/pub/irs-pdf/f1040ez.pdf - 0:00:03.896766!\n",
      "Поток 4 закончил загрузку http://www.irs.gov/pub/irs-pdf/f1040es.pdf - 0:00:03.951566!\n",
      "Поток 7 закончил загрузку http://www.irs.gov/pub/irs-pdf/f1040a.pdf - 0:00:04.017164!\n",
      "Поток 2 закончил загрузку http://www.irs.gov/pub/irs-pdf/f1040a.pdf - 0:00:04.205052!\n",
      "Поток 8 закончил загрузку http://www.irs.gov/pub/irs-pdf/f1040ez.pdf - 0:00:04.393844!\n"
     ]
    }
   ],
   "source": [
    "import datetime\n",
    "start = datetime.datetime.now()\n",
    "main(urls)\n",
    "print(datetime.datetime.now()-start)"
   ]
  },
  {
   "cell_type": "code",
   "execution_count": 51,
   "id": "783690a7",
   "metadata": {},
   "outputs": [],
   "source": [
    "import os\n",
    "import urllib.request\n",
    "from threading import Thread\n",
    "\n",
    "path = \"20230916\"\n",
    "\n",
    " \n",
    "class DownloadThread2:\n",
    "    \"\"\"\n",
    "    Пример скачивание файла используя многопоточность\n",
    "    \"\"\"\n",
    "    \n",
    "    def __init__(self, url, name):\n",
    "        \"\"\"Инициализация потока\"\"\"\n",
    "        self.name = name\n",
    "        self.url = url\n",
    "    \n",
    "    def run(self):\n",
    "        \"\"\"Запуск потока\"\"\"\n",
    "        handle = urllib.request.urlopen(self.url)\n",
    "        fname = os.path.basename(self.url)\n",
    "    \n",
    "        with open(f\"{path}/{fname}\", \"wb\") as f_handler:\n",
    "            while True:\n",
    "                chunk = handle.read(1024)\n",
    "                if not chunk:\n",
    "                    break\n",
    "                f_handler.write(chunk)\n",
    "        \n",
    "        msg = \"%s закончил загрузку %s!\" % (self.name, self.url)\n",
    "        print(msg)\n",
    " \n",
    " \n",
    "def main2(urls):\n",
    "    \"\"\"\n",
    "    Запускаем программу\n",
    "    \"\"\"\n",
    "    for item, url in enumerate(urls):\n",
    "        name = \"Поток %s\" % (item+1)\n",
    "        thread = DownloadThread2(url, name)\n",
    "        thread.run()\n",
    " \n",
    "urls = [\"http://www.irs.gov/pub/irs-pdf/f1040.pdf\",\n",
    "        \"http://www.irs.gov/pub/irs-pdf/f1040a.pdf\",\n",
    "        \"http://www.irs.gov/pub/irs-pdf/f1040ez.pdf\",\n",
    "        \"http://www.irs.gov/pub/irs-pdf/f1040es.pdf\",\n",
    "        \"http://www.irs.gov/pub/irs-pdf/f1040sb.pdf\",\n",
    "       \"http://www.irs.gov/pub/irs-pdf/f1040.pdf\",\n",
    "        \"http://www.irs.gov/pub/irs-pdf/f1040a.pdf\",\n",
    "        \"http://www.irs.gov/pub/irs-pdf/f1040ez.pdf\",\n",
    "        \"http://www.irs.gov/pub/irs-pdf/f1040es.pdf\",\n",
    "        \"http://www.irs.gov/pub/irs-pdf/f1040sb.pdf\",]\n",
    "\n"
   ]
  },
  {
   "cell_type": "code",
   "execution_count": 53,
   "id": "1042aa4e",
   "metadata": {},
   "outputs": [
    {
     "name": "stdout",
     "output_type": "stream",
     "text": [
      "Поток 1 закончил загрузку http://www.irs.gov/pub/irs-pdf/f1040.pdf!\n",
      "Поток 2 закончил загрузку http://www.irs.gov/pub/irs-pdf/f1040a.pdf!\n",
      "Поток 3 закончил загрузку http://www.irs.gov/pub/irs-pdf/f1040ez.pdf!\n",
      "Поток 4 закончил загрузку http://www.irs.gov/pub/irs-pdf/f1040es.pdf!\n",
      "Поток 5 закончил загрузку http://www.irs.gov/pub/irs-pdf/f1040sb.pdf!\n",
      "Поток 6 закончил загрузку http://www.irs.gov/pub/irs-pdf/f1040.pdf!\n",
      "Поток 7 закончил загрузку http://www.irs.gov/pub/irs-pdf/f1040a.pdf!\n",
      "Поток 8 закончил загрузку http://www.irs.gov/pub/irs-pdf/f1040ez.pdf!\n",
      "Поток 9 закончил загрузку http://www.irs.gov/pub/irs-pdf/f1040es.pdf!\n",
      "Поток 10 закончил загрузку http://www.irs.gov/pub/irs-pdf/f1040sb.pdf!\n",
      "0:00:24.380380\n"
     ]
    }
   ],
   "source": [
    "import datetime\n",
    "start = datetime.datetime.now()\n",
    "main2(urls)\n",
    "print(datetime.datetime.now()-start)"
   ]
  },
  {
   "cell_type": "code",
   "execution_count": 2,
   "id": "cd6e3565",
   "metadata": {},
   "outputs": [
    {
     "name": "stdout",
     "output_type": "stream",
     "text": [
      "Thread #4 is running\n",
      "Thread #1 is running\n",
      "Thread #2 is running\n",
      "Thread #3 is running\n",
      "Thread #5 is running\n"
     ]
    }
   ],
   "source": [
    "import random\n",
    "import time\n",
    "from threading import Thread\n",
    " \n",
    " \n",
    "class MyThread(Thread):\n",
    "    \"\"\"\n",
    "    A threading example\n",
    "    \"\"\"\n",
    "    \n",
    "    def __init__(self, name):\n",
    "        \"\"\"Инициализация потока\"\"\"\n",
    "        Thread.__init__(self)\n",
    "        self.name = name\n",
    "    \n",
    "    def run(self):\n",
    "        \"\"\"Запуск потока\"\"\"\n",
    "        amount = random.randint(3, 15)\n",
    "        time.sleep(amount)\n",
    "        msg = \"%s is running\" % self.name\n",
    "        print(msg)\n",
    "    \n",
    "def create_threads():\n",
    "    \"\"\"\n",
    "    Создаем группу потоков\n",
    "    \"\"\"\n",
    "    for i in range(5):\n",
    "        name = \"Thread #%s\" % (i+1)\n",
    "        my_thread = MyThread(name)\n",
    "        my_thread.start()\n",
    " \n",
    " \n",
    "if __name__ == \"__main__\":\n",
    "    create_threads()"
   ]
  },
  {
   "cell_type": "markdown",
   "id": "b89c032d",
   "metadata": {},
   "source": [
    "Домашнее задание:\n",
    "\n",
    "создать программу. в консоле можно вводить следующие команды:\n",
    "start N\n",
    "list\n",
    "stop N\n",
    "\n",
    "когда введена команда start N, где N это название потока, нужно создать поток и запусть там вечный цикл\n",
    "\n",
    "когда введена команда list нужно послать сигнал потокам (например через установку значения переменной объекта их класса или через вызов метода) чтобы потоки про себя просигнализировали - вывели на консоль свое имя\n",
    "\n",
    "когда введена команда stop N поток N должен выйти из вечного цикла и перестать работать\n",
    "\n",
    "main.py\n",
    "\n",
    "\n",
    "dz второе \n",
    "Программа просит числа m и n через пробел. Генерирует матрицу m на n случайных чисел и столбец m чисел. перемножает матрицу на столбец и выводит минимальный и максимальный элемент результирующего столбца\n",
    "каждая строка матрицы должна считаться на отдельном процессе.\n",
    "\n",
    "$\n",
    "\\begin{pmatrix}\n",
    "  a_{11} a_{12} a_{13}\\\\\n",
    "  a_{21} a_{22} a_{23}\n",
    "\\end{pmatrix} \\begin{pmatrix} b_1 \\\\ b_2 \\\\ b_3 \\end{pmatrix} = \\begin{pmatrix} a_{11} \\cdot b_1 + a_{12} \\cdot b_2 + a_{13} \\cdot b_3 \\\\ a_{21} \\cdot b_1 + a_{22} \\cdot b_2 + a_{23} \\cdot b_3 \\end{pmatrix}$\n",
    "\n",
    "main2.py\n"
   ]
  },
  {
   "cell_type": "code",
   "execution_count": null,
   "id": "fe8d46a4",
   "metadata": {},
   "outputs": [],
   "source": []
  }
 ],
 "metadata": {
  "kernelspec": {
   "display_name": "Python 3",
   "language": "python",
   "name": "python3"
  },
  "language_info": {
   "codemirror_mode": {
    "name": "ipython",
    "version": 3
   },
   "file_extension": ".py",
   "mimetype": "text/x-python",
   "name": "python",
   "nbconvert_exporter": "python",
   "pygments_lexer": "ipython3",
   "version": "3.10.12"
  }
 },
 "nbformat": 4,
 "nbformat_minor": 5
}

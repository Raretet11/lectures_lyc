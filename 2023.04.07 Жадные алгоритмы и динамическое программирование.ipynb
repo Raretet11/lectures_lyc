{
 "cells": [
  {
   "cell_type": "markdown",
   "metadata": {},
   "source": [
    "https://habr.com/ru/articles/191498/\n",
    "\n",
    "https://tproger.ru/articles/dynprog-starters/\n",
    "\n",
    "https://guides.hexlet.io/ru/dynamic-programming/\n",
    "\n",
    "https://www.evkova.org/matritsa"
   ]
  },
  {
   "cell_type": "code",
   "execution_count": null,
   "metadata": {},
   "outputs": [],
   "source": []
  }
 ],
 "metadata": {
  "kernelspec": {
   "display_name": "Python 3",
   "language": "python",
   "name": "python3"
  },
  "language_info": {
   "codemirror_mode": {
    "name": "ipython",
    "version": 3
   },
   "file_extension": ".py",
   "mimetype": "text/x-python",
   "name": "python",
   "nbconvert_exporter": "python",
   "pygments_lexer": "ipython3",
   "version": "3.8.6"
  }
 },
 "nbformat": 4,
 "nbformat_minor": 4
}

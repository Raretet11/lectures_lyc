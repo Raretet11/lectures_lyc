{
 "cells": [
  {
   "cell_type": "markdown",
   "metadata": {},
   "source": [
    "https://habr.com/ru/post/588605/\n",
    "https://skillbox.ru/media/code/sozdayem-pervuyu-igru-na-python-i-pygame/"
   ]
  },
  {
   "cell_type": "markdown",
   "metadata": {},
   "source": [
    "1. змейка не должна реагировать при попытке идти в себя когда длинна больше одного\n",
    "2. игра должна быть перезапускаема по нажатию клавиши c  (K_c)\n",
    "3. должен отражаться текстом игровой счет сколько съели\n",
    "4. отобразить камни о которые змея может разбить голову\n",
    "5. змея не должна двигаться после game_over но должна остаться на экране"
   ]
  }
 ],
 "metadata": {
  "kernelspec": {
   "display_name": "Python 3",
   "language": "python",
   "name": "python3"
  },
  "language_info": {
   "codemirror_mode": {
    "name": "ipython",
    "version": 3
   },
   "file_extension": ".py",
   "mimetype": "text/x-python",
   "name": "python",
   "nbconvert_exporter": "python",
   "pygments_lexer": "ipython3",
   "version": "3.8.6"
  }
 },
 "nbformat": 4,
 "nbformat_minor": 4
}

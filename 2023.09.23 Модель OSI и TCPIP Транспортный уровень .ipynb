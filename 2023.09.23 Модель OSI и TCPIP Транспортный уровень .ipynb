{
 "cells": [
  {
   "cell_type": "markdown",
   "id": "9995618f",
   "metadata": {},
   "source": [
    "https://www.youtube.com/watch?v=OLFA0soYGhw&list=PLtPJ9lKvJ4oiNMvYbOzCmWy6cRzYAh9B1&index=1"
   ]
  },
  {
   "cell_type": "markdown",
   "id": "58c2071a",
   "metadata": {},
   "source": [
    "![Полносвязные слои!](20230923/1.png \"Полносвязные слои\")"
   ]
  },
  {
   "cell_type": "markdown",
   "id": "fe8079ea",
   "metadata": {},
   "source": [
    "![Полносвязные слои!](20230923/2.png \"Полносвязные слои\")"
   ]
  },
  {
   "cell_type": "markdown",
   "id": "740817d2",
   "metadata": {},
   "source": [
    "![Полносвязные слои!](20230923/3.png \"Полносвязные слои\")"
   ]
  },
  {
   "cell_type": "markdown",
   "id": "3323a6a3",
   "metadata": {},
   "source": [
    "![Полносвязные слои!](20230923/4.png \"Полносвязные слои\")"
   ]
  },
  {
   "cell_type": "markdown",
   "id": "c662db27",
   "metadata": {},
   "source": [
    "![Полносвязные слои!](20230923/5.png \"Полносвязные слои\")"
   ]
  },
  {
   "cell_type": "markdown",
   "id": "b92c0e43",
   "metadata": {},
   "source": [
    "![Полносвязные слои!](20230923/6.png \"Полносвязные слои\")"
   ]
  },
  {
   "cell_type": "markdown",
   "id": "bb675f0a",
   "metadata": {},
   "source": [
    "![Полносвязные слои!](20230923/7.png \"Полносвязные слои\")"
   ]
  },
  {
   "cell_type": "markdown",
   "id": "50a529ff",
   "metadata": {},
   "source": [
    "![Полносвязные слои!](20230923/8.png \"Полносвязные слои\")"
   ]
  },
  {
   "cell_type": "markdown",
   "id": "1edb3e11",
   "metadata": {},
   "source": [
    "![Полносвязные слои!](20230923/9.png \"Полносвязные слои\")"
   ]
  },
  {
   "cell_type": "markdown",
   "id": "18788793",
   "metadata": {},
   "source": [
    "![Полносвязные слои!](20230923/10.png \"Полносвязные слои\")"
   ]
  },
  {
   "cell_type": "markdown",
   "id": "f533d49b",
   "metadata": {},
   "source": [
    "![Полносвязные слои!](20230923/11.png \"Полносвязные слои\")"
   ]
  },
  {
   "cell_type": "markdown",
   "id": "16884f67",
   "metadata": {},
   "source": [
    "![Полносвязные слои!](20230923/12.png \"Полносвязные слои\")"
   ]
  },
  {
   "cell_type": "markdown",
   "id": "38b95ccd",
   "metadata": {},
   "source": [
    "![Полносвязные слои!](20230923/13.png \"Полносвязные слои\")"
   ]
  },
  {
   "cell_type": "markdown",
   "id": "d2f70f32",
   "metadata": {},
   "source": [
    "![Полносвязные слои!](20230923/14.png \"Полносвязные слои\")"
   ]
  },
  {
   "cell_type": "markdown",
   "id": "ac246d3f",
   "metadata": {},
   "source": [
    "![Полносвязные слои!](20230923/15.png \"Полносвязные слои\")"
   ]
  },
  {
   "cell_type": "markdown",
   "id": "5362d8fa",
   "metadata": {},
   "source": [
    "![Полносвязные слои!](20230923/16.png \"Полносвязные слои\")"
   ]
  },
  {
   "cell_type": "markdown",
   "id": "95682e8c",
   "metadata": {},
   "source": [
    "![Полносвязные слои!](20230923/17.png \"Полносвязные слои\")"
   ]
  },
  {
   "cell_type": "markdown",
   "id": "4321f696",
   "metadata": {},
   "source": [
    "![Полносвязные слои!](20230923/18.png \"Полносвязные слои\")"
   ]
  },
  {
   "cell_type": "markdown",
   "id": "e35f604c",
   "metadata": {},
   "source": [
    "![Полносвязные слои!](20230923/19.png \"Полносвязные слои\")"
   ]
  },
  {
   "cell_type": "markdown",
   "id": "faa8869e",
   "metadata": {},
   "source": [
    "https://habr.com/ru/companies/skillfactory/articles/690186/"
   ]
  },
  {
   "cell_type": "markdown",
   "id": "3c395525",
   "metadata": {},
   "source": []
  },
  {
   "cell_type": "code",
   "execution_count": null,
   "id": "a9e4f3ed",
   "metadata": {},
   "outputs": [],
   "source": []
  }
 ],
 "metadata": {
  "kernelspec": {
   "display_name": "Python 3",
   "language": "python",
   "name": "python3"
  },
  "language_info": {
   "codemirror_mode": {
    "name": "ipython",
    "version": 3
   },
   "file_extension": ".py",
   "mimetype": "text/x-python",
   "name": "python",
   "nbconvert_exporter": "python",
   "pygments_lexer": "ipython3",
   "version": "3.10.12"
  }
 },
 "nbformat": 4,
 "nbformat_minor": 5
}

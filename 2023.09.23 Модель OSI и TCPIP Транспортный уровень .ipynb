{
 "cells": [
  {
   "cell_type": "markdown",
   "id": "c5a54710",
   "metadata": {},
   "source": [
    "https://www.youtube.com/watch?v=OLFA0soYGhw&list=PLtPJ9lKvJ4oiNMvYbOzCmWy6cRzYAh9B1&index=1"
   ]
  },
  {
   "cell_type": "markdown",
   "id": "58c2071a",
   "metadata": {},
   "source": [
    "![Полносвязные слои!](20230923/1.png \"Полносвязные слои\")"
   ]
  },
  {
   "cell_type": "markdown",
   "id": "b1c4b8ce",
   "metadata": {},
   "source": [
    "![Полносвязные слои!](20230923/2.png \"Полносвязные слои\")"
   ]
  },
  {
   "cell_type": "markdown",
   "id": "7bcd162c",
   "metadata": {},
   "source": [
    "![Полносвязные слои!](20230923/3.png \"Полносвязные слои\")"
   ]
  },
  {
   "cell_type": "markdown",
   "id": "bfafa58c",
   "metadata": {},
   "source": [
    "![Полносвязные слои!](20230923/4.png \"Полносвязные слои\")"
   ]
  },
  {
   "cell_type": "markdown",
   "id": "fd9032e1",
   "metadata": {},
   "source": [
    "![Полносвязные слои!](20230923/5.png \"Полносвязные слои\")"
   ]
  },
  {
   "cell_type": "markdown",
   "id": "3d91c855",
   "metadata": {},
   "source": [
    "![Полносвязные слои!](20230923/6.png \"Полносвязные слои\")"
   ]
  },
  {
   "cell_type": "markdown",
   "id": "2c5623f2",
   "metadata": {},
   "source": [
    "![Полносвязные слои!](20230923/7.png \"Полносвязные слои\")"
   ]
  },
  {
   "cell_type": "markdown",
   "id": "edf4b60a",
   "metadata": {},
   "source": [
    "![Полносвязные слои!](20230923/8.png \"Полносвязные слои\")"
   ]
  },
  {
   "cell_type": "markdown",
   "id": "8937c624",
   "metadata": {},
   "source": [
    "![Полносвязные слои!](20230923/9.png \"Полносвязные слои\")"
   ]
  },
  {
   "cell_type": "markdown",
   "id": "23e8e7f7",
   "metadata": {},
   "source": [
    "![Полносвязные слои!](20230923/10.png \"Полносвязные слои\")"
   ]
  },
  {
   "cell_type": "markdown",
   "id": "d38fbc35",
   "metadata": {},
   "source": [
    "![Полносвязные слои!](20230923/11.png \"Полносвязные слои\")"
   ]
  },
  {
   "cell_type": "markdown",
   "id": "82c2a81f",
   "metadata": {},
   "source": [
    "![Полносвязные слои!](20230923/12.png \"Полносвязные слои\")"
   ]
  },
  {
   "cell_type": "markdown",
   "id": "6bce85e3",
   "metadata": {},
   "source": [
    "![Полносвязные слои!](20230923/13.png \"Полносвязные слои\")"
   ]
  },
  {
   "cell_type": "markdown",
   "id": "181e5c65",
   "metadata": {},
   "source": [
    "![Полносвязные слои!](20230923/14.png \"Полносвязные слои\")"
   ]
  },
  {
   "cell_type": "markdown",
   "id": "4ae7f16f",
   "metadata": {},
   "source": [
    "![Полносвязные слои!](20230923/15.png \"Полносвязные слои\")"
   ]
  },
  {
   "cell_type": "markdown",
   "id": "c8f40b9e",
   "metadata": {},
   "source": [
    "![Полносвязные слои!](20230923/16.png \"Полносвязные слои\")"
   ]
  },
  {
   "cell_type": "markdown",
   "id": "0dfd6ced",
   "metadata": {},
   "source": [
    "![Полносвязные слои!](20230923/17.png \"Полносвязные слои\")"
   ]
  },
  {
   "cell_type": "markdown",
   "id": "34fa6fd2",
   "metadata": {},
   "source": [
    "![Полносвязные слои!](20230923/18.png \"Полносвязные слои\")"
   ]
  },
  {
   "cell_type": "markdown",
   "id": "7908ce7c",
   "metadata": {},
   "source": [
    "![Полносвязные слои!](20230923/19.png \"Полносвязные слои\")"
   ]
  },
  {
   "cell_type": "markdown",
   "id": "2e93da85",
   "metadata": {},
   "source": [
    "https://habr.com/ru/companies/skillfactory/articles/690186/"
   ]
  },
  {
   "cell_type": "code",
   "execution_count": null,
   "id": "389cdeb1",
   "metadata": {},
   "outputs": [],
   "source": []
  },
  {
   "cell_type": "code",
   "execution_count": null,
   "id": "f464619f",
   "metadata": {},
   "outputs": [],
   "source": []
  }
 ],
 "metadata": {
  "kernelspec": {
   "display_name": "Python 3",
   "language": "python",
   "name": "python3"
  },
  "language_info": {
   "codemirror_mode": {
    "name": "ipython",
    "version": 3
   },
   "file_extension": ".py",
   "mimetype": "text/x-python",
   "name": "python",
   "nbconvert_exporter": "python",
   "pygments_lexer": "ipython3",
   "version": "3.10.12"
  }
 },
 "nbformat": 4,
 "nbformat_minor": 5
}

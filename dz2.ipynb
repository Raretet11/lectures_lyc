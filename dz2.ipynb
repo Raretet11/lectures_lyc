{
 "cells": [
  {
   "cell_type": "markdown",
   "metadata": {},
   "source": [
    "# 2023.01.13\n",
    "нет дз"
   ]
  },
  {
   "cell_type": "markdown",
   "metadata": {},
   "source": [
    "# 2023.01.14\n",
    "написать в файлах  \n",
    "struct_data.py  \n",
    "struct_data_test.py  \n",
    "dz230114\n",
    "\n",
    "в struct_data.py написать класс очереди и стека  \n",
    "в struct_data_test.py написать тесты на все классы файла struct_data.py - очередь, стек, двусвязный список, массив\n",
    "\n"
   ]
  },
  {
   "cell_type": "markdown",
   "metadata": {},
   "source": [
    "# 2023.01.20\n",
    "\n",
    "Задачи\n",
    "\n",
    "1. Неповторяющиеся целые числа в массиве\n",
    "2. Сортировка значений в стеке\n",
    "3. Генерация двоичных чисел от 1 до N с помощью очереди\n",
    "4. Удаление дубликатов из связанного списка\n",
    "\n",
    "dz230120\n",
    ">    dz.py\n",
    ">>        def unique_numbers(l: list) -> list:  # использовать только списки\n",
    ">>        def sort_stack(s: deque) -> None:  # только на стеках (не больше 4 включая тот что передается)\n",
    ">>        def generate_binary_numbers(n: int) -> list[str]:  # только на очередях\n",
    ">>        def del_dublicate_linked_list(l: LinkedList) -> None: \n",
    ">>        def merge_sort(l: LinkedList) -> Node:  # можно использовать рекурсию\n",
    ">    dz_test.py"
   ]
  },
  {
   "cell_type": "markdown",
   "metadata": {},
   "source": [
    "# 2023.01.21"
   ]
  },
  {
   "cell_type": "markdown",
   "metadata": {},
   "source": [
    "dz230121\n",
    ">    dz.py\n",
    ">>        def main  # загружает csv файл и вызывает другие методы чтобы сохранить 3 представления графа \n",
    ">>        def list_ribbles(list_data, filename) # csv ему передается список списков и он формирует список ребер и умеет сохранять его в файл\n",
    ">>        def adjacency_matrix(list_data, filename) # csv    data = pd.DataFrame(array)    data.to_csv(index=False, title=False)\n",
    ">>        def adjacency_list(list_data, filename) # txt\n",
    "\n",
    "имена файлов для сохранения совпадают с именами функций"
   ]
  },
  {
   "cell_type": "markdown",
   "metadata": {},
   "source": [
    "# 2023.01.27"
   ]
  },
  {
   "cell_type": "code",
   "execution_count": null,
   "metadata": {},
   "outputs": [],
   "source": [
    "dz230127\n",
    "    dz.py\n",
    "\n",
    "\n",
    "from typing import Dict, List\n",
    "\n",
    "\n",
    "def dfs(al:Dict[str, List[str]], start:str, finish:str) -> List[str]:\n",
    "    # реализация через рекурсию или стек\n",
    "    pass\n",
    "\n",
    "def bfs(al:Dict[str, List[str]], start:str, finish:str) -> List[str]:\n",
    "    # реализация через очередь\n",
    "    pass\n",
    "\n",
    "def adjency_list_from_file(filename: str) -> Dict[str, List[str]]:\n",
    "    # считывает файл и возврает список смежности в виде словаря\n",
    "    pass\n",
    "\n",
    "    dz_test.py\n",
    "    # тесты на dz.py\n",
    "    \n",
    "    main.py\n",
    "    \n",
    "def main(filename: str, from_city: str, to_city:str):\n",
    "    # напечатать дважды путь из города from_city до города to_city либо что его нет (\"Пути нет\"). используя bfs и dfs\n",
    "\n",
    "if __name__ == \"__main__\":\n",
    "    # python main.py adjacency_list.txt москва екатеринбург\n",
    "    filename, from_city, to_city = sys.argv[1], sys.argv[2], sys.argv[3]\n",
    "    main(filename, from_city, to_city)"
   ]
  },
  {
   "cell_type": "markdown",
   "metadata": {},
   "source": [
    "# 2023.01.28"
   ]
  },
  {
   "cell_type": "code",
   "execution_count": 1,
   "metadata": {},
   "outputs": [
    {
     "ename": "SyntaxError",
     "evalue": "invalid syntax (<ipython-input-1-fbc7c01a0ccb>, line 3)",
     "output_type": "error",
     "traceback": [
      "\u001b[1;36m  File \u001b[1;32m\"<ipython-input-1-fbc7c01a0ccb>\"\u001b[1;36m, line \u001b[1;32m3\u001b[0m\n\u001b[1;33m    Довести до рабочего состояния алгоритм дейкстры. Сделать так чтобы он\u001b[0m\n\u001b[1;37m            ^\u001b[0m\n\u001b[1;31mSyntaxError\u001b[0m\u001b[1;31m:\u001b[0m invalid syntax\n"
     ]
    }
   ],
   "source": [
    "dz230128\n",
    "\n",
    "Довести до рабочего состояния алгоритм дейкстры. Сделать так чтобы он\n",
    "возвращал еще и путь до всех вершин по которому надо пройти чтобы было \n",
    "минимальное расстояние. \n",
    "\n",
    "graph.py\n",
    "\n",
    "from typing import Dict, List, Union\n",
    "\n",
    "\n",
    "class Vertex:\n",
    "    def __init__(self, name):\n",
    "        self.name = name\n",
    "        self.marked = False\n",
    "        self.weight = None\n",
    "    \n",
    "class Edge:\n",
    "    def __init__(self, v1, v2, w):\n",
    "        self.v1 = v1\n",
    "        self.v2 = v2\n",
    "        self.weight = w \n",
    "\n",
    "class Graph:\n",
    "    def __init__(self, sa: Dict[str, List[Union[str, float, int]]]):\n",
    "        self._sa = sa  # список смежности\n",
    "        self._vertices = list([Vertex(el) for el in sa.keys()])  # список вершин\n",
    "        self._edges = self._get_edges()\n",
    "    \n",
    "    def _get_edges(self):\n",
    "        edges = []\n",
    "        for v, vs in self._sa.items():\n",
    "            for vi, wi in vs:\n",
    "                edges.append(Edge(Vertex(v), Vertex(vi), wi))\n",
    "        return edges\n",
    "                \n",
    "\n",
    "    def get_vertex_with_min_weight_not_marked(self):\n",
    "        # возвращает не пройденную вершину с минимальным весом\n",
    "        _, v = min([(el.weight, el) for el in self._vertices if not el.marked])\n",
    "        return v\n",
    "\n",
    "    def get_weights_edges(self):\n",
    "        # возвращает список весов всех ребер\n",
    "        return list([el.weight for el in self._edges])\n",
    "\n",
    "    def vertices(self):\n",
    "        # возвращает список вершин\n",
    "        return self._vertices\n",
    "\n",
    "        \n",
    "def dijkstra(g, v0):\n",
    "    # Алгоритм Дейкстры(Список смежности, Начальную) -> \n",
    "    #     Вершины с расстоянием до них, Пути до вершин\n",
    "    \n",
    "    # посчитать сумму всех весов\n",
    "    s = sum(g.get_weights_ribbles()) + 1\n",
    "    \n",
    "    # устанавливает для v0 вес в 0 а для остальных вес в сумма всех весов + 1\n",
    "    for v in g.nodes():\n",
    "        if v == v0:\n",
    "            v.weight = 0\n",
    "        else:\n",
    "            v.weight = s\n",
    "\n",
    "    while True:\n",
    "        # Выбираем вершину с минимальным весом не пройденную\n",
    "        v = g.get_node_with_min_weight()\n",
    "        if v is None:\n",
    "            break\n",
    "\n",
    "        # Идем по смежным к ней вершинам не пройденным\n",
    "        for vi, ri in v.adjacency_nodes_ribbles():\n",
    "            if not vi.marked:\n",
    "                #      Обновляем веса min(было, стало)\n",
    "                vi.weight = min(vi.weight, v.weight + ri.weight)\n",
    "        # Помечаем вершину как пройденную\n",
    "        v.marked = True\n",
    "        \n",
    "    return g\n",
    "\n",
    "\n",
    "\n",
    "\n",
    "\n",
    "graph_test.py\n"
   ]
  },
  {
   "cell_type": "code",
   "execution_count": null,
   "metadata": {},
   "outputs": [],
   "source": [
    "доп задание на халявную пятерку\n",
    "\n",
    "2 недели от 28.01.2023 по 11.02.2023\n",
    "\n",
    "карта россии с основными дорогами на ней с соблюдение координат через networkx \n",
    "без пунктов которые на границе"
   ]
  },
  {
   "cell_type": "markdown",
   "metadata": {},
   "source": [
    "# 2023.02.10\n",
    "dz230210\n",
    "\n",
    "dz230210.ipynb\n",
    "\n",
    "1. найти параметр r лучше всего описывающий данные\n",
    "2. Начальная температура кофе 90 градусов. Наслаждаться кофе можно, когда температура опуститься ниже 75 градусов.\n",
    "Допустим, что при 90 градусах добавление молока понижает температуру кофе на 5 градусов. Если вы торопитесь и \n",
    "хотите охладить кофе как можно быстрее, будете ли вы добавлять сначала молоко и ждать, пока кофе остынет, или же \n",
    "подождете до тех пор, пока кофе остынет до 80 градусов, а затем добавите молоко?\n",
    "3. найдите время, неоходимое для того, чтобы разность температур между температурой кофе и комнатной температурой составила $1/e \\approx 0.37$ от начальной. Это время называется временем релаксации или временем остывания. Зависит ли  время релаксации от начальной температуры кофе или комнатной температуры? Попробуйте взять различные значения коэффициента r и определите качественноую зависимость времени релаксации от r."
   ]
  },
  {
   "cell_type": "markdown",
   "metadata": {},
   "source": [
    "# 2023.04.01\n",
    "\n",
    "27.py  \n",
    "test_27.py    \n",
    "26.py  \n",
    "test_26.py  \n",
    "25.py  \n",
    "test_25.py  \n",
    "24.py  \n",
    "test_24.py  \n",
    "https://inf-ege.sdamgia.ru/pdf/8446eab31506fd5a0275ad2f8235e4de.pdf\n",
    "\n",
    "тесты и комментарии к коду"
   ]
  },
  {
   "cell_type": "markdown",
   "metadata": {},
   "source": [
    "# 2023.04.07\n",
    "\n",
    "https://informatics.msk.ru/mod/statements/view.php?id=11713#1\n",
    "\n",
    "выполнить задачу в трех вариантах \n",
    "прямых проходом\n",
    "обратным\n",
    "мемоизацией\n",
    "\n",
    "112601_1.py\n",
    "112601_1_test.py\n",
    "\n",
    "112601_2.py\n",
    "112601_2_test.py\n",
    "\n",
    "112601_3.py\n",
    "112601_3_test.py\n",
    " \n",
    "задача до 07.04.2023"
   ]
  },
  {
   "cell_type": "markdown",
   "metadata": {},
   "source": [
    "# 2023.04.08\n",
    "\n",
    "прорешать все задачи\n",
    "писать в файлы: main_номерчтонастранице_буква.py\n",
    "https://informatics.msk.ru/mod/statements/view.php?id=11713#1\n",
    "\n",
    "\n",
    "задача до 15.04.2023"
   ]
  },
  {
   "cell_type": "markdown",
   "metadata": {},
   "source": [
    "# 2023.04.15\n",
    "\n",
    "main1.py\n",
    "много молекул не сталкиваются с друг другом сталкиваются только со стенками. выводить их температуру: v_средняя^2 = T\n",
    "скорость молекул от 0 до 1\n",
    "\n",
    "main2.py\n",
    "берем задачу 1 и делаем чтобы одна из стенок сдвигалась, молекулы которые сталкиваются со сдвигающейся  стенкой (например вертикальной правой) и увеличивают скорость компоненты перпендикулярной стенке на скорость стенки (например по оси x). Выводить на экране температуру, объем и давление P = сумма квадратов скоростей тех молеку которые в этот цикл коснулись стенок деленная на периметр. Построить графики зависимости температуры и давления от объема и сохранить их как изображения. \n",
    "\n",
    "main3.py\n",
    "берем две молекулы и по одной линии сталкиваем их друг с другом учитывая силы притяжения и отталкивания\n",
    "сила притяжения и отталкивания задается формулой eps((s/r)^12 - (s/r)^6) где s и eps подбирается исходя из размеров объема и молекул опытным путем. Построить график V/eps от r/s так чтобы он соотвествовал графику \n",
    "![Изображение](https://cf3.ppt-online.org/files3/slide/x/XYVaweuMrECSyk7Is3f8ZQlJ1o9WhOFgvqmBPR/slide-5.jpg)\n",
    "\n",
    "обратите внимание на положение шариков и их радиусы для этого графика\n",
    "можно подробнее почитать 144 страница в книге компьютерное моделирование\n",
    "гулд тобочник 1 том динамика систем многих частиц\n",
    "выводим температуру на экран\n",
    "\n",
    "main4.py\n",
    "тоже что в 3 задаче но несколько молекул на одной линии\n",
    "выводим на экран температуру\n",
    "\n",
    "main5.py\n",
    "берем много молекул и сталкиваем их друг с другом в двумерном объеме по правилам 3ей задачи\n",
    "выводим на экран температуру"
   ]
  },
  {
   "cell_type": "code",
   "execution_count": null,
   "metadata": {},
   "outputs": [],
   "source": []
  }
 ],
 "metadata": {
  "kernelspec": {
   "display_name": "Python 3",
   "language": "python",
   "name": "python3"
  },
  "language_info": {
   "codemirror_mode": {
    "name": "ipython",
    "version": 3
   },
   "file_extension": ".py",
   "mimetype": "text/x-python",
   "name": "python",
   "nbconvert_exporter": "python",
   "pygments_lexer": "ipython3",
   "version": "3.8.6"
  }
 },
 "nbformat": 4,
 "nbformat_minor": 4
}

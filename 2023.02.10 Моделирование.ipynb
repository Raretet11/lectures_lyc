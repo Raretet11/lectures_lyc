{
 "cells": [
  {
   "cell_type": "markdown",
   "id": "3a1a2cf2",
   "metadata": {},
   "source": [
    "В общем случае природа переноса тепла включает в себя механизмы конвекции, излучения, испарения и теплопроводности. \n",
    "\n",
    "Когда разность температур окрудающей среды и объекта не сильно велика, скорость изменения температуры объекта можно считать пропорциональной этой разности температур:\n",
    "\n",
    "$\\frac{dT}{dt} = -r(T - T_s)$  - закон теплопроводности Ньютона\n",
    "\n"
   ]
  },
  {
   "cell_type": "code",
   "execution_count": null,
   "id": "cc429fe0",
   "metadata": {},
   "outputs": [],
   "source": []
  },
  {
   "cell_type": "markdown",
   "id": "42533fd0",
   "metadata": {},
   "source": [
    "$Т$ - температура тела  \n",
    "$T_s$ - температура окружающей среды  \n",
    "$r$ - коэффициент остывания  \n",
    "\n"
   ]
  },
  {
   "cell_type": "markdown",
   "id": "b375ed2e",
   "metadata": {},
   "source": [
    "Дифферецниальное уравнение первого порядка\n",
    "\n",
    "$\\frac{dy}{dt} = g(x)$\n",
    "\n",
    "В общем случае аналитического решения дифферецниального уравнения, выраженного через хорошо известные функции не существует."
   ]
  },
  {
   "cell_type": "code",
   "execution_count": null,
   "id": "87db00cf",
   "metadata": {},
   "outputs": [],
   "source": []
  },
  {
   "cell_type": "markdown",
   "id": "b8863926",
   "metadata": {},
   "source": [
    "# Алгоритм Эйлера"
   ]
  },
  {
   "cell_type": "markdown",
   "id": "f4efe534",
   "metadata": {},
   "source": [
    "Преобразуем дифферециальное уравнение в конечно-разностное"
   ]
  },
  {
   "cell_type": "markdown",
   "id": "cb171a1e",
   "metadata": {},
   "source": [
    "$y_1 = y(x_0) + \\Delta y \\approx y(x_0) + g(x_0)\\Delta x$\n",
    "\n",
    "$y_2 \\approx y(x_1) + g(x_1)\\Delta x$\n",
    "\n",
    "$x_n = x0 + n\\Delta x$\n",
    "\n",
    "$y_n \\approx y_{n-1} + g(x_{n-1})\\Delta x$\n"
   ]
  },
  {
   "cell_type": "markdown",
   "id": "951feeed",
   "metadata": {},
   "source": [
    "1. найти параметр r лучше всего описывающий данные\n",
    "2. Начальная температура кофе 90 градусов. Наслаждаться кофе можно, когда температура опуститься ниже 75 градусов.\n",
    "Допустим, что при 90 градусах добавление молока понижает температуру кофе на 5 градусов. Если вы торопитесь и \n",
    "хотите охладить кофе как можно быстрее, будете ли вы добавлять сначала молоко и ждать, пока кофе остынет, или же \n",
    "подождете до тех пор, пока кофе остынет до 80 градусов, а затем добавите молоко?\n",
    "3. найдите время, неоходимое для того, чтобы разность температур между температурой кофе и комнатной температурой составила $1/e \\approx 0.37$ от начальной. Это время называется временем релаксации или временем остывания. Зависит ли  время релаксации от начальной температуры кофе или комнатной температуры? Попробуйте взять различные значения коэффициента r и определите качественноую зависимость времени релаксации от r."
   ]
  },
  {
   "cell_type": "code",
   "execution_count": 41,
   "id": "b3886873",
   "metadata": {},
   "outputs": [
    {
     "data": {
      "text/plain": [
       "0.01"
      ]
     },
     "execution_count": 41,
     "metadata": {},
     "output_type": "execute_result"
    }
   ],
   "source": [
    "10**-2"
   ]
  },
  {
   "cell_type": "code",
   "execution_count": 52,
   "id": "c646ce92",
   "metadata": {},
   "outputs": [
    {
     "name": "stdout",
     "output_type": "stream",
     "text": [
      "0.1\n",
      "0.01\n",
      "0.001\n",
      "0.0001\n",
      "1e-05\n"
     ]
    }
   ],
   "source": [
    "def euleri(f, dx, xn, yn):  # метод Эйлера\n",
    "    return yn + f(xn) * dx\n",
    "\n",
    "def pparabol(x):  # производная параболы\n",
    "    return 3*x**2  \n",
    "\n",
    "def f_true(x):\n",
    "    return x**3\n",
    "\n",
    "\n",
    "xs_end = []\n",
    "ys_end = []\n",
    "fs_end = []\n",
    "ts_end = []\n",
    "error_end = []\n",
    "dx_end = []\n",
    "\n",
    "for j in range(1, 6):\n",
    "    x = 1\n",
    "    y = 1\n",
    "    dx = 10**(-j)\n",
    "    print(dx)\n",
    "    xs = []\n",
    "    ys = []\n",
    "    fs = []\n",
    "    ts = []\n",
    "    error = []\n",
    "\n",
    "    for i in range(100*10**j+1):\n",
    "        xs.append(x)\n",
    "        ys.append(y)\n",
    "        fs.append(pparabol(x))\n",
    "        ts.append(f_true(x))\n",
    "        error.append(abs(f_true(x) - y))\n",
    "\n",
    "        y = euleri(pparabol, dx, x, y)\n",
    "        x = x + dx\n",
    "        \n",
    "    dx_end.append(dx)\n",
    "    xs_end.append(xs[-1])\n",
    "    ys_end.append(ys[-1])\n",
    "    fs_end.append(fs[-1])\n",
    "    ts_end.append(ts[-1])\n",
    "    error_end.append(error[-1])"
   ]
  },
  {
   "cell_type": "code",
   "execution_count": 53,
   "id": "66312dfa",
   "metadata": {},
   "outputs": [
    {
     "data": {
      "text/plain": [
       "[0.1, 0.01, 0.001, 0.0001, 1e-05]"
      ]
     },
     "execution_count": 53,
     "metadata": {},
     "output_type": "execute_result"
    }
   ],
   "source": [
    "dx_end"
   ]
  },
  {
   "cell_type": "code",
   "execution_count": 54,
   "id": "7a327832",
   "metadata": {},
   "outputs": [],
   "source": [
    "import pandas as pd"
   ]
  },
  {
   "cell_type": "code",
   "execution_count": 31,
   "id": "259595e5",
   "metadata": {},
   "outputs": [],
   "source": [
    "data = pd.DataFrame({\n",
    "    \"x\": xs,\n",
    "    \"y_predict\": ys,\n",
    "    \"y'\": fs,\n",
    "    \"y_true\": ts,\n",
    "    \"error\": error,\n",
    "})"
   ]
  },
  {
   "cell_type": "code",
   "execution_count": 32,
   "id": "2a4615de",
   "metadata": {},
   "outputs": [
    {
     "data": {
      "text/html": [
       "<div>\n",
       "<style scoped>\n",
       "    .dataframe tbody tr th:only-of-type {\n",
       "        vertical-align: middle;\n",
       "    }\n",
       "\n",
       "    .dataframe tbody tr th {\n",
       "        vertical-align: top;\n",
       "    }\n",
       "\n",
       "    .dataframe thead th {\n",
       "        text-align: right;\n",
       "    }\n",
       "</style>\n",
       "<table border=\"1\" class=\"dataframe\">\n",
       "  <thead>\n",
       "    <tr style=\"text-align: right;\">\n",
       "      <th></th>\n",
       "      <th>x</th>\n",
       "      <th>y_predict</th>\n",
       "      <th>y'</th>\n",
       "      <th>y_true</th>\n",
       "      <th>error</th>\n",
       "    </tr>\n",
       "  </thead>\n",
       "  <tbody>\n",
       "    <tr>\n",
       "      <th>0</th>\n",
       "      <td>1.0</td>\n",
       "      <td>1.000</td>\n",
       "      <td>3.00</td>\n",
       "      <td>1.000</td>\n",
       "      <td>0.000</td>\n",
       "    </tr>\n",
       "    <tr>\n",
       "      <th>1</th>\n",
       "      <td>1.1</td>\n",
       "      <td>1.300</td>\n",
       "      <td>3.63</td>\n",
       "      <td>1.331</td>\n",
       "      <td>0.031</td>\n",
       "    </tr>\n",
       "    <tr>\n",
       "      <th>2</th>\n",
       "      <td>1.2</td>\n",
       "      <td>1.663</td>\n",
       "      <td>4.32</td>\n",
       "      <td>1.728</td>\n",
       "      <td>0.065</td>\n",
       "    </tr>\n",
       "    <tr>\n",
       "      <th>3</th>\n",
       "      <td>1.3</td>\n",
       "      <td>2.095</td>\n",
       "      <td>5.07</td>\n",
       "      <td>2.197</td>\n",
       "      <td>0.102</td>\n",
       "    </tr>\n",
       "    <tr>\n",
       "      <th>4</th>\n",
       "      <td>1.4</td>\n",
       "      <td>2.602</td>\n",
       "      <td>5.88</td>\n",
       "      <td>2.744</td>\n",
       "      <td>0.142</td>\n",
       "    </tr>\n",
       "    <tr>\n",
       "      <th>...</th>\n",
       "      <td>...</td>\n",
       "      <td>...</td>\n",
       "      <td>...</td>\n",
       "      <td>...</td>\n",
       "      <td>...</td>\n",
       "    </tr>\n",
       "    <tr>\n",
       "      <th>996</th>\n",
       "      <td>100.6</td>\n",
       "      <td>1016590.810</td>\n",
       "      <td>30361.08</td>\n",
       "      <td>1018108.216</td>\n",
       "      <td>1517.406</td>\n",
       "    </tr>\n",
       "    <tr>\n",
       "      <th>997</th>\n",
       "      <td>100.7</td>\n",
       "      <td>1019626.918</td>\n",
       "      <td>30421.47</td>\n",
       "      <td>1021147.343</td>\n",
       "      <td>1520.425</td>\n",
       "    </tr>\n",
       "    <tr>\n",
       "      <th>998</th>\n",
       "      <td>100.8</td>\n",
       "      <td>1022669.065</td>\n",
       "      <td>30481.92</td>\n",
       "      <td>1024192.512</td>\n",
       "      <td>1523.447</td>\n",
       "    </tr>\n",
       "    <tr>\n",
       "      <th>999</th>\n",
       "      <td>100.9</td>\n",
       "      <td>1025717.257</td>\n",
       "      <td>30542.43</td>\n",
       "      <td>1027243.729</td>\n",
       "      <td>1526.472</td>\n",
       "    </tr>\n",
       "    <tr>\n",
       "      <th>1000</th>\n",
       "      <td>101.0</td>\n",
       "      <td>1028771.500</td>\n",
       "      <td>30603.00</td>\n",
       "      <td>1030301.000</td>\n",
       "      <td>1529.500</td>\n",
       "    </tr>\n",
       "  </tbody>\n",
       "</table>\n",
       "<p>1001 rows × 5 columns</p>\n",
       "</div>"
      ],
      "text/plain": [
       "          x    y_predict        y'       y_true     error\n",
       "0       1.0        1.000      3.00        1.000     0.000\n",
       "1       1.1        1.300      3.63        1.331     0.031\n",
       "2       1.2        1.663      4.32        1.728     0.065\n",
       "3       1.3        2.095      5.07        2.197     0.102\n",
       "4       1.4        2.602      5.88        2.744     0.142\n",
       "...     ...          ...       ...          ...       ...\n",
       "996   100.6  1016590.810  30361.08  1018108.216  1517.406\n",
       "997   100.7  1019626.918  30421.47  1021147.343  1520.425\n",
       "998   100.8  1022669.065  30481.92  1024192.512  1523.447\n",
       "999   100.9  1025717.257  30542.43  1027243.729  1526.472\n",
       "1000  101.0  1028771.500  30603.00  1030301.000  1529.500\n",
       "\n",
       "[1001 rows x 5 columns]"
      ]
     },
     "execution_count": 32,
     "metadata": {},
     "output_type": "execute_result"
    }
   ],
   "source": [
    "data"
   ]
  },
  {
   "cell_type": "code",
   "execution_count": 33,
   "id": "15edeb46",
   "metadata": {},
   "outputs": [
    {
     "data": {
      "text/plain": [
       "<AxesSubplot: xlabel='x'>"
      ]
     },
     "execution_count": 33,
     "metadata": {},
     "output_type": "execute_result"
    },
    {
     "data": {
      "image/png": "[encoded data removed]",
      "text/plain": [
       "<Figure size 1440x720 with 1 Axes>"
      ]
     },
     "metadata": {
      "needs_background": "light"
     },
     "output_type": "display_data"
    }
   ],
   "source": [
    "data.plot(x=\"x\", figsize=(20,10))"
   ]
  },
  {
   "cell_type": "code",
   "execution_count": 55,
   "id": "14cd7b76",
   "metadata": {},
   "outputs": [],
   "source": [
    "data_end = pd.DataFrame({\n",
    "    \"x\": xs_end,\n",
    "    \"y_predict\": ys_end,\n",
    "    \"y'\": fs_end,\n",
    "    \"y_true\": ts_end,\n",
    "    \"error\": error_end,\n",
    "    \"dx\": dx_end,\n",
    "})"
   ]
  },
  {
   "cell_type": "code",
   "execution_count": 56,
   "id": "623ad46b",
   "metadata": {},
   "outputs": [
    {
     "data": {
      "text/html": [
       "<div>\n",
       "<style scoped>\n",
       "    .dataframe tbody tr th:only-of-type {\n",
       "        vertical-align: middle;\n",
       "    }\n",
       "\n",
       "    .dataframe tbody tr th {\n",
       "        vertical-align: top;\n",
       "    }\n",
       "\n",
       "    .dataframe thead th {\n",
       "        text-align: right;\n",
       "    }\n",
       "</style>\n",
       "<table border=\"1\" class=\"dataframe\">\n",
       "  <thead>\n",
       "    <tr style=\"text-align: right;\">\n",
       "      <th></th>\n",
       "      <th>x</th>\n",
       "      <th>y_predict</th>\n",
       "      <th>y'</th>\n",
       "      <th>y_true</th>\n",
       "      <th>error</th>\n",
       "      <th>dx</th>\n",
       "    </tr>\n",
       "  </thead>\n",
       "  <tbody>\n",
       "    <tr>\n",
       "      <th>0</th>\n",
       "      <td>101.0</td>\n",
       "      <td>1.028771e+06</td>\n",
       "      <td>30603.000000</td>\n",
       "      <td>1.030301e+06</td>\n",
       "      <td>1529.500000</td>\n",
       "      <td>0.10000</td>\n",
       "    </tr>\n",
       "    <tr>\n",
       "      <th>1</th>\n",
       "      <td>101.0</td>\n",
       "      <td>1.030148e+06</td>\n",
       "      <td>30603.000000</td>\n",
       "      <td>1.030301e+06</td>\n",
       "      <td>152.995000</td>\n",
       "      <td>0.01000</td>\n",
       "    </tr>\n",
       "    <tr>\n",
       "      <th>2</th>\n",
       "      <td>101.0</td>\n",
       "      <td>1.030286e+06</td>\n",
       "      <td>30603.000000</td>\n",
       "      <td>1.030301e+06</td>\n",
       "      <td>15.299953</td>\n",
       "      <td>0.00100</td>\n",
       "    </tr>\n",
       "    <tr>\n",
       "      <th>3</th>\n",
       "      <td>101.0</td>\n",
       "      <td>1.030299e+06</td>\n",
       "      <td>30603.000001</td>\n",
       "      <td>1.030301e+06</td>\n",
       "      <td>1.530033</td>\n",
       "      <td>0.00010</td>\n",
       "    </tr>\n",
       "    <tr>\n",
       "      <th>4</th>\n",
       "      <td>101.0</td>\n",
       "      <td>1.030301e+06</td>\n",
       "      <td>30603.000013</td>\n",
       "      <td>1.030301e+06</td>\n",
       "      <td>0.153315</td>\n",
       "      <td>0.00001</td>\n",
       "    </tr>\n",
       "  </tbody>\n",
       "</table>\n",
       "</div>"
      ],
      "text/plain": [
       "       x     y_predict            y'        y_true        error       dx\n",
       "0  101.0  1.028771e+06  30603.000000  1.030301e+06  1529.500000  0.10000\n",
       "1  101.0  1.030148e+06  30603.000000  1.030301e+06   152.995000  0.01000\n",
       "2  101.0  1.030286e+06  30603.000000  1.030301e+06    15.299953  0.00100\n",
       "3  101.0  1.030299e+06  30603.000001  1.030301e+06     1.530033  0.00010\n",
       "4  101.0  1.030301e+06  30603.000013  1.030301e+06     0.153315  0.00001"
      ]
     },
     "execution_count": 56,
     "metadata": {},
     "output_type": "execute_result"
    }
   ],
   "source": [
    "data_end"
   ]
  },
  {
   "cell_type": "code",
   "execution_count": 57,
   "id": "0f36a9d1",
   "metadata": {},
   "outputs": [
    {
     "data": {
      "text/plain": [
       "<AxesSubplot: xlabel='dx', ylabel='error'>"
      ]
     },
     "execution_count": 57,
     "metadata": {},
     "output_type": "execute_result"
    },
    {
     "data": {
      "image/png": "[encoded data removed]",
      "text/plain": [
       "<Figure size 432x288 with 1 Axes>"
      ]
     },
     "metadata": {
      "needs_background": "light"
     },
     "output_type": "display_data"
    }
   ],
   "source": [
    "data_end[[\"error\", \"dx\"]].plot.scatter(x=\"dx\", y=\"error\")"
   ]
  },
  {
   "cell_type": "code",
   "execution_count": 59,
   "id": "120b718d",
   "metadata": {},
   "outputs": [
    {
     "data": {
      "text/plain": [
       "[<matplotlib.lines.Line2D at 0x2ac839640a0>]"
      ]
     },
     "execution_count": 59,
     "metadata": {},
     "output_type": "execute_result"
    },
    {
     "data": {
      "image/png": "[encoded data removed]",
      "text/plain": [
       "<Figure size 432x288 with 1 Axes>"
      ]
     },
     "metadata": {
      "needs_background": "light"
     },
     "output_type": "display_data"
    }
   ],
   "source": [
    "import matplotlib.pyplot as plt\n",
    "import numpy as np\n",
    "%matplotlib inline\n",
    "\n",
    "plt.plot(np.log10(data_end.dx), np.log10(data_end.error))"
   ]
  },
  {
   "cell_type": "code",
   "execution_count": 67,
   "id": "8cc5b3be",
   "metadata": {},
   "outputs": [
    {
     "data": {
      "text/plain": [
       "0.7333333333333334"
      ]
     },
     "execution_count": 67,
     "metadata": {},
     "output_type": "execute_result"
    }
   ],
   "source": [
    "y_pred = np.array([1,2,3])\n",
    "y_true = np.array([1.2, 3, 2])\n",
    "\n",
    "np.mean(np.abs(y_true - y_pred))"
   ]
  },
  {
   "cell_type": "code",
   "execution_count": null,
   "id": "4cc2cc52",
   "metadata": {},
   "outputs": [],
   "source": []
  }
 ],
 "metadata": {
  "kernelspec": {
   "display_name": "Python 3",
   "language": "python",
   "name": "python3"
  },
  "language_info": {
   "codemirror_mode": {
    "name": "ipython",
    "version": 3
   },
   "file_extension": ".py",
   "mimetype": "text/x-python",
   "name": "python",
   "nbconvert_exporter": "python",
   "pygments_lexer": "ipython3",
   "version": "3.10.6"
  }
 },
 "nbformat": 4,
 "nbformat_minor": 5
}

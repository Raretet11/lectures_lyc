{
 "cells": [
  {
   "cell_type": "code",
   "execution_count": 82,
   "metadata": {},
   "outputs": [],
   "source": [
    "a_max = []\n",
    "a_min = []\n",
    "with open(\"20230331/inf_26_04_21_27b.txt\") as f:\n",
    "    for i, line in enumerate(f.readlines()):\n",
    "        if i == 0:\n",
    "            continue\n",
    "        a1, a2 = list(map(int, line.strip().split()))\n",
    "        if a2 % 2:\n",
    "            # print(max(a1, a2), min(a1, a2))\n",
    "            a_max.append(max(a1, a2))\n",
    "            a_min.append(min(a1, a2))"
   ]
  },
  {
   "cell_type": "code",
   "execution_count": 83,
   "metadata": {},
   "outputs": [
    {
     "data": {
      "text/plain": [
       "30053"
      ]
     },
     "execution_count": 83,
     "metadata": {},
     "output_type": "execute_result"
    }
   ],
   "source": [
    "len(a_max)"
   ]
  },
  {
   "cell_type": "code",
   "execution_count": null,
   "metadata": {},
   "outputs": [],
   "source": []
  },
  {
   "cell_type": "code",
   "execution_count": 68,
   "metadata": {},
   "outputs": [],
   "source": [
    "from itertools import combinations"
   ]
  },
  {
   "cell_type": "code",
   "execution_count": null,
   "metadata": {},
   "outputs": [],
   "source": [
    "list(combina)"
   ]
  },
  {
   "cell_type": "code",
   "execution_count": 81,
   "metadata": {},
   "outputs": [
    {
     "data": {
      "text/plain": [
       "61771"
      ]
     },
     "execution_count": 81,
     "metadata": {},
     "output_type": "execute_result"
    }
   ],
   "source": [
    "c = []\n",
    "for i in range(1, len(a_max)+1):\n",
    "    b = []\n",
    "    for a1,a2 in zip(list(combinations(a_max, i)), list(combinations(a_min, i))):\n",
    "        if sum(a1) % 2 == 0 and sum(a2) % 2 == 1:\n",
    "            b.append(sum(a1) + sum(a2))\n",
    "    try:\n",
    "        c.append(max(b))\n",
    "    except Exception:\n",
    "        c.append(0)\n",
    "max(c)"
   ]
  },
  {
   "cell_type": "code",
   "execution_count": 36,
   "metadata": {},
   "outputs": [
    {
     "data": {
      "text/plain": [
       "[5544, 2583, 1467, 7706, 6023, 575, 780, 2294]"
      ]
     },
     "execution_count": 36,
     "metadata": {},
     "output_type": "execute_result"
    }
   ],
   "source": [
    "a_min"
   ]
  },
  {
   "cell_type": "code",
   "execution_count": 37,
   "metadata": {},
   "outputs": [
    {
     "data": {
      "text/plain": [
       "[6521, 6164, 3588, 8023, 6847, 1545, 3433, 3733]"
      ]
     },
     "execution_count": 37,
     "metadata": {},
     "output_type": "execute_result"
    }
   ],
   "source": [
    "a_max"
   ]
  },
  {
   "cell_type": "code",
   "execution_count": 54,
   "metadata": {},
   "outputs": [
    {
     "data": {
      "text/plain": [
       "[(5544, 2583, 1467, 7706, 6023, 575, 780),\n",
       " (5544, 2583, 1467, 7706, 6023, 575, 2294),\n",
       " (5544, 2583, 1467, 7706, 6023, 780, 2294),\n",
       " (5544, 2583, 1467, 7706, 575, 780, 2294),\n",
       " (5544, 2583, 1467, 6023, 575, 780, 2294),\n",
       " (5544, 2583, 7706, 6023, 575, 780, 2294),\n",
       " (5544, 1467, 7706, 6023, 575, 780, 2294),\n",
       " (2583, 1467, 7706, 6023, 575, 780, 2294)]"
      ]
     },
     "execution_count": 54,
     "metadata": {},
     "output_type": "execute_result"
    }
   ],
   "source": [
    "list(combinations(a_min, 7))"
   ]
  },
  {
   "cell_type": "code",
   "execution_count": 66,
   "metadata": {},
   "outputs": [
    {
     "data": {
      "text/plain": [
       "61771"
      ]
     },
     "execution_count": 66,
     "metadata": {},
     "output_type": "execute_result"
    }
   ],
   "source": [
    "max([(max(filter(lambda x: x[0], map(lambda x: (x[0][0] and x[1][0], x[0][1]+x[1][1]), (zip(map(lambda x: (sum(x) % 2  == 1, sum(x)), combinations(a_min, i)), \n",
    "    map(lambda x: (sum(x) % 2  == 0, sum(x)), combinations(a_max, i)))))), key=lambda x: x[1])) for i in range(1, len(a))], key=lambda x: x[1])[1]"
   ]
  },
  {
   "cell_type": "code",
   "execution_count": 45,
   "metadata": {},
   "outputs": [
    {
     "data": {
      "text/plain": [
       "[True, True, True, True, True, False, False, True]"
      ]
     },
     "execution_count": 45,
     "metadata": {},
     "output_type": "execute_result"
    }
   ],
   "source": [
    "list(map(lambda x: sum(x) % 2  == 1, combinations(a_max, 7)))"
   ]
  },
  {
   "cell_type": "code",
   "execution_count": null,
   "metadata": {},
   "outputs": [],
   "source": [
    "lisp"
   ]
  },
  {
   "cell_type": "code",
   "execution_count": 49,
   "metadata": {},
   "outputs": [],
   "source": [
    "s = 0\n",
    "for i in range(1, len(a)+1):\n",
    "    s += sum(map(lambda x: x[0] and x[1], (zip(map(lambda x: sum(x) % 2  == 0, combinations(a_min, i)), \n",
    "    map(lambda x: sum(x) % 2  == 1, combinations(a_max, i))))))"
   ]
  },
  {
   "cell_type": "code",
   "execution_count": 50,
   "metadata": {},
   "outputs": [
    {
     "data": {
      "text/plain": [
       "64"
      ]
     },
     "execution_count": 50,
     "metadata": {},
     "output_type": "execute_result"
    }
   ],
   "source": [
    "s"
   ]
  },
  {
   "cell_type": "code",
   "execution_count": null,
   "metadata": {},
   "outputs": [],
   "source": []
  }
 ],
 "metadata": {
  "kernelspec": {
   "display_name": "Python 3",
   "language": "python",
   "name": "python3"
  },
  "language_info": {
   "codemirror_mode": {
    "name": "ipython",
    "version": 3
   },
   "file_extension": ".py",
   "mimetype": "text/x-python",
   "name": "python",
   "nbconvert_exporter": "python",
   "pygments_lexer": "ipython3",
   "version": "3.8.6"
  }
 },
 "nbformat": 4,
 "nbformat_minor": 4
}

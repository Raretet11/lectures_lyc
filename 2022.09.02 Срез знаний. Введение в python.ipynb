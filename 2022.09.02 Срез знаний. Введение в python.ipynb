{
 "cells": [
  {
   "cell_type": "code",
   "execution_count": 2,
   "metadata": {},
   "outputs": [
    {
     "name": "stdout",
     "output_type": "stream",
     "text": [
      "Hi, hi\n"
     ]
    }
   ],
   "source": [
    "print_hi('hi')"
   ]
  },
  {
   "cell_type": "code",
   "execution_count": 5,
   "metadata": {},
   "outputs": [
    {
     "name": "stdout",
     "output_type": "stream",
     "text": [
      " 1.jpg\r\n",
      "'2022.09.02 Срез знаний. Введение в python.ipynb'\r\n",
      "'2022.09.09 Основные типы данных Python. Основные конструкции if for while.ipynb'\r\n",
      "'2022.09.10 Введение в git. Словари. Линейный поиск. Введение в рекурсию. Функции. Фибоначчи.ipynb'\r\n",
      "'2022.09.16 Дебаг в pycharm. Unit test. Бинарный поиск. Вещественный бинарный поиск.ipynb'\r\n",
      "'2022.09.17 Решение задач. Множество.ipynb'\r\n",
      "'2022.09.23 Разбор задач. Поиск максимума. Сложность алгоритма.ipynb'\r\n",
      "'2022.09.24 Двумерные массивы. Введение в numpy.array и pandas. построения графиков. Сортировки.ipynb'\r\n",
      "'2022.09.30 Введение в  html. Парсинг ссылок сайта.  Введение в requests. Функции.ipynb'\r\n",
      "'2022.10.01 Двумерные массивы. Структура изображения. Работа с изображениями. Модуль Pillow. Поверхностное и глубокое копирование.ipynb'\r\n",
      "'2022.10.07 Встроенные функций языка Python. Исключения. Обработка исключений. Создание документации. Аргументов командной строки.ipynb'\r\n",
      "'2022.10.08 Работа с изображениями. Фильтры. Работа с двумерными массивами. numpy.array.ipynb'\r\n",
      " 20221014\r\n",
      "'2022.10.14 Рефакторинг на примере домашних задач..ipynb'\r\n",
      "'2022.10.15 (МОИ) Системы счисления.ipynb'\r\n",
      "'2022.10.21 (МОИ) Устройство компьютера. Вентили. Битовые операции.ipynb'\r\n",
      "'2022.10.22 (МОИ) Устройство компьютера 2. Сумматор.ipynb'\r\n",
      " 20221028\r\n",
      "'2022.10.28 Контрольная работа (Шифрование).ipynb'\r\n",
      " 20221029\r\n",
      "'2022.10.29. Разбор контрольной работы.(2ч) Практика по вентилям. (МОИ 2ч).ipynb'\r\n",
      " 20221031cons\r\n",
      "'2022.11.11 (МОИ) Равномерное и неравномерное кодирование. Условие Фано. Дерево Хаффмана.ipynb'\r\n",
      " 20221112\r\n",
      "'2022.11.12 (МОИ) Решение задач из ЕГЭ.ipynb'\r\n",
      "'2022.11.18 Анализ аудиофайлов.ipynb'\r\n",
      "'2022.11.19 (МОИ) Комбинаторика. Математическое ожидание. Информационная энтропия. Решение задач.ipynb'\r\n",
      "'2022.11.25 (МОИ) Упрощение логических выражений.ipynb'\r\n",
      "'2022.11.26 Контрольная за ноябрь. Парное программирование.ipynb'\r\n",
      " 20221202\r\n",
      "'2022.12.02 Разбор контрольной работы 2ч (МОИ 1ч).ipynb'\r\n",
      " 20221203\r\n",
      "'2022.12.03 (МОИ).ipynb'\r\n",
      " 20221209\r\n",
      "'2022.12.09 (МОИ).ipynb'\r\n",
      " 20221210\r\n",
      "'2022.12.10 (МОИ).ipynb'\r\n",
      "'2022.12.16 (МОИ).ipynb'\r\n",
      "'2022.12.17 Контрольная работа и допуск к экзамену..ipynb'\r\n",
      "'2023.01.13 структуры данных.ipynb'\r\n",
      " 20230114\r\n",
      "'2023.01.14 Структуры данных. Практика.ipynb'\r\n",
      "'2023.01.20 Структуры данных. Практика2.ipynb'\r\n",
      "'2023.01.21 Графы. Способы представления.ipynb'\r\n",
      "'2023.01.27 Свойства графов.ipynb'\r\n",
      "'2023.01.28 Графы. Визуализация. Алгоритма Дейкстры.ipynb'\r\n",
      "'2023.02.04 Контрольная работа. Графы. Структуры.ipynb'\r\n",
      "'2023.02.10 Моделирование.ipynb'\r\n",
      "'2023.02.11 Моделирование свободного падения.ipynb'\r\n",
      "'2023.02.17 Двумерное движение.ipynb'\r\n",
      "'2023.02.25 Введение в хаотические системы.ipynb'\r\n",
      " 20230303\r\n",
      "'2023.03.03 моделирование с Pygame.ipynb'\r\n",
      " 20230304\r\n",
      "'2023.03.04 Логирование в Python.ipynb'\r\n",
      "'2023.03.10 Моделирование биологических систем (Хищник-жертва).ipynb'\r\n",
      "'2023.03.11 Системы массового обслуживания.ipynb'\r\n",
      "'2023.03.17 Разбор решений задач ЕГЭ.ipynb'\r\n",
      " 20230318\r\n",
      "'2023.03.18 ЕГЭ.ipynb'\r\n",
      " 20230331\r\n",
      "'2023.03.31 ЕГЭ 2 часть.ipynb'\r\n",
      " 20230401\r\n",
      "'2023.04.01 егэ3.ipynb'\r\n",
      "'2023.04.07 Жадные алгоритмы и динамическое программирование.ipynb'\r\n",
      "'2023.04.08 Решение задач на динамическое программирование.ipynb'\r\n",
      " 20230413\r\n",
      " 20230415\r\n",
      " 20230421\r\n",
      " 20230428\r\n",
      "'2023.05.05 Решение задач на графы.ipynb'\r\n",
      " 20230527\r\n",
      "'2023.05.27 Решение задач ЕГЭ.ipynb'\r\n",
      " 20230908\r\n",
      "'2023.09.08 Знакомство с языками программирования.ipynb'\r\n",
      " 20230909\r\n",
      "'2023.09.09 Начало веб-программирования.ipynb'\r\n",
      "'2023.09.15 Arduino начало.ipynb'\r\n",
      " 20230916\r\n",
      "'2023.09.16 Основы многопоточности.ipynb'\r\n",
      " 20230923\r\n",
      "'2023.09.23 Модель OSI и TCPIP Транспортный уровень .ipynb'\r\n",
      " 20230930\r\n",
      "'2023.09.30 Графический интерфейс и ip протокол передачи данных в Интернет.ipynb'\r\n",
      "'2023.10.06 Введение в ООП. Шаблоны проектирования.ipynb'\r\n",
      " 20231007\r\n",
      "'2023.10.07 Введение в ООП. Практика.ipynb'\r\n",
      " 20231013\r\n",
      " 20231014\r\n",
      " 2023.10.14.ipynb\r\n",
      " 20231020\r\n",
      " 20231021\r\n",
      " 20231028\r\n",
      " 20231118\r\n",
      "'2023.11.24 Базы данных.ipynb'\r\n",
      " 20231202\r\n",
      "'2023.12.02 Базы данных.ipynb'\r\n",
      " 20231209\r\n",
      "'2023.12.16 Контрольная работа.ipynb'\r\n",
      " 20240112\r\n",
      "'2024.01.12  Протокол http. Веб сервер..ipynb'\r\n",
      "'2024.01.27 Django forms и гит.ipynb'\r\n",
      " 20240210\r\n",
      " 20240414\r\n",
      " consul\r\n",
      " dz2.ipynb\r\n",
      " dz3.ipynb\r\n",
      " dz4.ipynb\r\n",
      " dz.ipynb\r\n",
      " img\r\n",
      " index.html\r\n",
      " LICENSE\r\n",
      " program.ipynb\r\n",
      " README.md\r\n",
      " roads.csv\r\n",
      " venv\r\n",
      " ya_contest\r\n",
      "'Без названия.ipynb'\r\n"
     ]
    }
   ],
   "source": [
    "!ls202305"
   ]
  },
  {
   "cell_type": "code",
   "execution_count": 1,
   "metadata": {},
   "outputs": [],
   "source": [
    "def print_hi(name):\n",
    "    print(f'Hi, {name}')"
   ]
  },
  {
   "cell_type": "code",
   "execution_count": null,
   "metadata": {},
   "outputs": [],
   "source": [
    "if __name__ == '__main__'"
   ]
  },
  {
   "cell_type": "code",
   "execution_count": 3,
   "metadata": {},
   "outputs": [],
   "source": [
    "a = 1\n",
    "b = 1.\n",
    "c = True\n",
    "d = 's'\n",
    "e = None\n",
    "f = [a, b, c, d, e]\n",
    "g = (a, b, c, d, e)\n"
   ]
  },
  {
   "cell_type": "code",
   "execution_count": 4,
   "metadata": {},
   "outputs": [
    {
     "name": "stdout",
     "output_type": "stream",
     "text": [
      "1 1.0\n"
     ]
    }
   ],
   "source": [
    "if a < b:\n",
    "    print(a)\n",
    "elif a == b:\n",
    "    print(a, b)\n",
    "else:\n",
    "    print(b)\n",
    "    \n"
   ]
  },
  {
   "cell_type": "code",
   "execution_count": 3,
   "metadata": {},
   "outputs": [
    {
     "name": "stdout",
     "output_type": "stream",
     "text": [
      "hi 5\n",
      "hi 4\n",
      "hi 3\n",
      "hi 2\n",
      "hi 1\n"
     ]
    }
   ],
   "source": [
    "h = 5\n",
    "while h:\n",
    "    print(\"hi\", h)\n",
    "    h -= 1"
   ]
  },
  {
   "cell_type": "code",
   "execution_count": 4,
   "metadata": {},
   "outputs": [
    {
     "name": "stdout",
     "output_type": "stream",
     "text": [
      "1 <class 'int'>\n",
      "1.0 <class 'float'>\n",
      "True <class 'bool'>\n",
      "s <class 'str'>\n",
      "None <class 'NoneType'>\n"
     ]
    }
   ],
   "source": [
    "for el in f:\n",
    "    print(el, type(el))"
   ]
  },
  {
   "cell_type": "code",
   "execution_count": 5,
   "metadata": {},
   "outputs": [
    {
     "name": "stdout",
     "output_type": "stream",
     "text": [
      "hi\n"
     ]
    }
   ],
   "source": [
    "s = input()"
   ]
  },
  {
   "cell_type": "code",
   "execution_count": 6,
   "metadata": {},
   "outputs": [
    {
     "data": {
      "text/plain": [
       "True"
      ]
     },
     "execution_count": 6,
     "metadata": {},
     "output_type": "execute_result"
    }
   ],
   "source": [
    "int('5')\n",
    "float('4.5')\n",
    "bool('True')"
   ]
  },
  {
   "cell_type": "code",
   "execution_count": null,
   "metadata": {},
   "outputs": [],
   "source": []
  }
 ],
 "metadata": {
  "kernelspec": {
   "display_name": "Python 3",
   "language": "python",
   "name": "python3"
  },
  "language_info": {
   "codemirror_mode": {
    "name": "ipython",
    "version": 3
   },
   "file_extension": ".py",
   "mimetype": "text/x-python",
   "name": "python",
   "nbconvert_exporter": "python",
   "pygments_lexer": "ipython3",
   "version": "3.10.12"
  }
 },
 "nbformat": 4,
 "nbformat_minor": 4
}

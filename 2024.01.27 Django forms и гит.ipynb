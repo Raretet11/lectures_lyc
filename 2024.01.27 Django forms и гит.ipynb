{
 "cells": [
  {
   "cell_type": "markdown",
   "id": "859bbf12",
   "metadata": {},
   "source": [
    "вывести коммиты  \n",
    "git log\n",
    "\n",
    "перейти на определенный коммит  \n",
    "git checkout номер\n",
    "\n",
    "вернуться обратно  \n",
    "git checkout -  "
   ]
  },
  {
   "cell_type": "code",
   "execution_count": null,
   "id": "7aaee436",
   "metadata": {},
   "outputs": [],
   "source": []
  }
 ],
 "metadata": {
  "kernelspec": {
   "display_name": "Python 3",
   "language": "python",
   "name": "python3"
  },
  "language_info": {
   "codemirror_mode": {
    "name": "ipython",
    "version": 3
   },
   "file_extension": ".py",
   "mimetype": "text/x-python",
   "name": "python",
   "nbconvert_exporter": "python",
   "pygments_lexer": "ipython3",
   "version": "3.10.12"
  }
 },
 "nbformat": 4,
 "nbformat_minor": 5
}

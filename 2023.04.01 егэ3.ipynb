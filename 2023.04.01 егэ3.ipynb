{
 "cells": [
  {
   "cell_type": "code",
   "execution_count": null,
   "metadata": {},
   "outputs": [],
   "source": [
    "1 чет нечет - готово\n",
    "\n",
    "2 чет чет - найти четный больший элемент и нечетный меньший \n",
    "3 нечет нечет\n",
    "4 нечет чет"
   ]
  },
  {
   "cell_type": "code",
   "execution_count": 7,
   "metadata": {},
   "outputs": [],
   "source": [
    "a = []\n",
    "b = []\n",
    "with open(\"20230401/inf_26_04_21_26.txt\") as f:\n",
    "    for i, line in enumerate(f.readlines()):\n",
    "        if i == 0:\n",
    "            continue\n",
    "        n = int(line.strip())\n",
    "        if n % 2:\n",
    "            a.append(n)\n",
    "        else:\n",
    "            b.append(n)\n",
    "a = sorted(a)\n",
    "b = sorted(b)"
   ]
  },
  {
   "cell_type": "code",
   "execution_count": 11,
   "metadata": {},
   "outputs": [
    {
     "data": {
      "text/plain": [
       "[973318, 2409028, 2591886, 2750038, 2811046]"
      ]
     },
     "execution_count": 11,
     "metadata": {},
     "output_type": "execute_result"
    }
   ],
   "source": [
    "b1 = b[:5]\n",
    "b1"
   ]
  },
  {
   "cell_type": "code",
   "execution_count": 12,
   "metadata": {},
   "outputs": [
    {
     "data": {
      "text/plain": [
       "[257355, 1291573, 1510913, 1649367, 1685633]"
      ]
     },
     "execution_count": 12,
     "metadata": {},
     "output_type": "execute_result"
    }
   ],
   "source": [
    "a1 = a[:5]\n",
    "a1"
   ]
  },
  {
   "cell_type": "code",
   "execution_count": 31,
   "metadata": {},
   "outputs": [],
   "source": [
    "import numpy as np\n",
    "import pandas as pd\n",
    "s = set(a)\n",
    "max_el = 0\n",
    "col_el = 0\n",
    "# m = np.zeros((len(a), len(b))).astype(int)\n",
    "for i in range(len(a)):\n",
    "    for j in range(len(b)):\n",
    "        m = a[i] + b[j]\n",
    "        if m in s:\n",
    "            if m > max_el:\n",
    "                max_el = m\n",
    "            col_el += 1\n",
    "# m = pd.DataFrame(m, columns=a1, index=b1)"
   ]
  },
  {
   "cell_type": "code",
   "execution_count": 32,
   "metadata": {},
   "outputs": [
    {
     "data": {
      "text/plain": [
       "(15, 954387771)"
      ]
     },
     "execution_count": 32,
     "metadata": {},
     "output_type": "execute_result"
    }
   ],
   "source": [
    "col_el, max_el"
   ]
  },
  {
   "cell_type": "code",
   "execution_count": 28,
   "metadata": {},
   "outputs": [
    {
     "data": {
      "text/plain": [
       "15029618688"
      ]
     },
     "execution_count": 28,
     "metadata": {},
     "output_type": "execute_result"
    }
   ],
   "source": [
    "len(a)*len(b)*len(b)"
   ]
  },
  {
   "cell_type": "code",
   "execution_count": 26,
   "metadata": {},
   "outputs": [
    {
     "data": {
      "text/html": [
       "<div>\n",
       "<style scoped>\n",
       "    .dataframe tbody tr th:only-of-type {\n",
       "        vertical-align: middle;\n",
       "    }\n",
       "\n",
       "    .dataframe tbody tr th {\n",
       "        vertical-align: top;\n",
       "    }\n",
       "\n",
       "    .dataframe thead th {\n",
       "        text-align: right;\n",
       "    }\n",
       "</style>\n",
       "<table border=\"1\" class=\"dataframe\">\n",
       "  <thead>\n",
       "    <tr style=\"text-align: right;\">\n",
       "      <th></th>\n",
       "      <th>257355</th>\n",
       "      <th>1291573</th>\n",
       "      <th>1510913</th>\n",
       "      <th>1649367</th>\n",
       "      <th>1685633</th>\n",
       "    </tr>\n",
       "  </thead>\n",
       "  <tbody>\n",
       "    <tr>\n",
       "      <th>973318</th>\n",
       "      <td>1230673</td>\n",
       "      <td>2666383</td>\n",
       "      <td>2849241</td>\n",
       "      <td>3007393</td>\n",
       "      <td>3068401</td>\n",
       "    </tr>\n",
       "    <tr>\n",
       "      <th>2409028</th>\n",
       "      <td>2264891</td>\n",
       "      <td>3700601</td>\n",
       "      <td>3883459</td>\n",
       "      <td>4041611</td>\n",
       "      <td>4102619</td>\n",
       "    </tr>\n",
       "    <tr>\n",
       "      <th>2591886</th>\n",
       "      <td>2484231</td>\n",
       "      <td>3919941</td>\n",
       "      <td>4102799</td>\n",
       "      <td>4260951</td>\n",
       "      <td>4321959</td>\n",
       "    </tr>\n",
       "    <tr>\n",
       "      <th>2750038</th>\n",
       "      <td>2622685</td>\n",
       "      <td>4058395</td>\n",
       "      <td>4241253</td>\n",
       "      <td>4399405</td>\n",
       "      <td>4460413</td>\n",
       "    </tr>\n",
       "    <tr>\n",
       "      <th>2811046</th>\n",
       "      <td>2658951</td>\n",
       "      <td>4094661</td>\n",
       "      <td>4277519</td>\n",
       "      <td>4435671</td>\n",
       "      <td>4496679</td>\n",
       "    </tr>\n",
       "  </tbody>\n",
       "</table>\n",
       "</div>"
      ],
      "text/plain": [
       "         257355   1291573  1510913  1649367  1685633\n",
       "973318   1230673  2666383  2849241  3007393  3068401\n",
       "2409028  2264891  3700601  3883459  4041611  4102619\n",
       "2591886  2484231  3919941  4102799  4260951  4321959\n",
       "2750038  2622685  4058395  4241253  4399405  4460413\n",
       "2811046  2658951  4094661  4277519  4435671  4496679"
      ]
     },
     "execution_count": 26,
     "metadata": {},
     "output_type": "execute_result"
    }
   ],
   "source": [
    "m"
   ]
  },
  {
   "cell_type": "code",
   "execution_count": 33,
   "metadata": {},
   "outputs": [
    {
     "data": {
      "text/plain": [
       "3162.2776601683795"
      ]
     },
     "execution_count": 33,
     "metadata": {},
     "output_type": "execute_result"
    }
   ],
   "source": [
    "np.sqrt(10_000_000)"
   ]
  },
  {
   "cell_type": "code",
   "execution_count": 40,
   "metadata": {},
   "outputs": [
    {
     "data": {
      "text/plain": [
       "1228"
      ]
     },
     "execution_count": 40,
     "metadata": {},
     "output_type": "execute_result"
    }
   ],
   "source": [
    "d = {i: 0 for i in range(3,10_000,2)}\n",
    "for i in range(3, 10_000, 2):\n",
    "    for j in range(i+2, 10_000, 2):\n",
    "        if j % i == 0:\n",
    "            d[j] = 1\n",
    "d1 = [k for k,v in d.items() if v == 0]\n",
    "len(d1)"
   ]
  },
  {
   "cell_type": "code",
   "execution_count": 42,
   "metadata": {},
   "outputs": [
    {
     "name": "stdout",
     "output_type": "stream",
     "text": [
      "10000043 6876\n",
      "10000153 6374\n",
      "10000163 6924\n",
      "10000183 8024\n",
      "10000217 8358\n"
     ]
    }
   ],
   "source": [
    "n = 10_000_001\n",
    "r = 0\n",
    "while True:\n",
    "    k = 0\n",
    "    s = 0\n",
    "    for el in range(3, 10_000, 2):\n",
    "        if n % el == 0:\n",
    "            k += 1\n",
    "            s += n // el\n",
    "        if k == 2:\n",
    "            break\n",
    "    if 0 < s < 10_000:\n",
    "        print(n, s)\n",
    "        r += 1\n",
    "    if r == 5:\n",
    "        break\n",
    "    n += 2\n",
    "    "
   ]
  },
  {
   "cell_type": "code",
   "execution_count": null,
   "metadata": {},
   "outputs": [],
   "source": []
  }
 ],
 "metadata": {
  "kernelspec": {
   "display_name": "Python 3",
   "language": "python",
   "name": "python3"
  },
  "language_info": {
   "codemirror_mode": {
    "name": "ipython",
    "version": 3
   },
   "file_extension": ".py",
   "mimetype": "text/x-python",
   "name": "python",
   "nbconvert_exporter": "python",
   "pygments_lexer": "ipython3",
   "version": "3.8.6"
  }
 },
 "nbformat": 4,
 "nbformat_minor": 4
}

{
 "cells": [
  {
   "cell_type": "code",
   "execution_count": 16,
   "metadata": {},
   "outputs": [
    {
     "name": "stdout",
     "output_type": "stream",
     "text": [
      "Wall time: 425 ms\n"
     ]
    },
    {
     "data": {
      "text/plain": [
       "(29278, 19860)"
      ]
     },
     "execution_count": 16,
     "metadata": {},
     "output_type": "execute_result"
    }
   ],
   "source": [
    "%%time\n",
    "a = []\n",
    "with open(\"20230318/17.txt\") as f:\n",
    "    for i, line in enumerate(f.readlines()):\n",
    "        el = int(line.strip())\n",
    "        if el % 40 == 0:\n",
    "            a.append((i, el))\n",
    "            \n",
    "max_el = None\n",
    "count = 0\n",
    "d = set([el[0] for el in a])\n",
    "with open(\"20230318/17.txt\") as f:\n",
    "    for i, line in enumerate(f.readlines()):\n",
    "        el = int(line.strip())\n",
    "        for el2 in a:\n",
    "            if el2[0] != i:\n",
    "                par = el + el2[1]\n",
    "                if par % 60 == 0:\n",
    "                    if i in d:\n",
    "                        if i > el2[0]:\n",
    "                            continue\n",
    "                    count += 1\n",
    "                    if max_el is None:\n",
    "                        max_el = par\n",
    "                    else:\n",
    "                        max_el = max(par, max_el)\n",
    "                        \n",
    "count, max_el"
   ]
  },
  {
   "cell_type": "code",
   "execution_count": 15,
   "metadata": {},
   "outputs": [
    {
     "name": "stdout",
     "output_type": "stream",
     "text": [
      "Wall time: 12.6 s\n"
     ]
    },
    {
     "data": {
      "text/plain": [
       "(29278, 19860)"
      ]
     },
     "execution_count": 15,
     "metadata": {},
     "output_type": "execute_result"
    }
   ],
   "source": [
    "%%time\n",
    "a = []\n",
    "with open(\"20230318/17.txt\") as f:\n",
    "    for line in f.readlines():\n",
    "        a.append(int(line.strip()))\n",
    "              \n",
    "b = []\n",
    "for i1, el1 in enumerate(a):\n",
    "    for i2, el2 in enumerate(a):\n",
    "        if i1 < i2:\n",
    "            if el1 % 40 == 0 or el2 % 40 == 0:\n",
    "                if (el1 + el2) % 60 == 0:\n",
    "                    b.append(el1 + el2)\n",
    "len(b), max(b)"
   ]
  },
  {
   "cell_type": "code",
   "execution_count": null,
   "metadata": {},
   "outputs": [],
   "source": []
  }
 ],
 "metadata": {
  "kernelspec": {
   "display_name": "Python 3",
   "language": "python",
   "name": "python3"
  },
  "language_info": {
   "codemirror_mode": {
    "name": "ipython",
    "version": 3
   },
   "file_extension": ".py",
   "mimetype": "text/x-python",
   "name": "python",
   "nbconvert_exporter": "python",
   "pygments_lexer": "ipython3",
   "version": "3.10.6"
  }
 },
 "nbformat": 4,
 "nbformat_minor": 4
}

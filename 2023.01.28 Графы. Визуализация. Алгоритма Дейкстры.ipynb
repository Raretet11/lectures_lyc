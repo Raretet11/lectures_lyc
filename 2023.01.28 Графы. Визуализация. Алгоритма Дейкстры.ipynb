{
 "cells": [
  {
   "cell_type": "code",
   "execution_count": 1,
   "metadata": {},
   "outputs": [
    {
     "name": "stdout",
     "output_type": "stream",
     "text": [
      "Requirement already satisfied: networkx in c:\\users\\pavel\\appdata\\local\\programs\\python\\python38\\lib\\site-packages (3.0)\n"
     ]
    },
    {
     "name": "stderr",
     "output_type": "stream",
     "text": [
      "WARNING: Ignoring invalid distribution -atplotlib (c:\\users\\pavel\\appdata\\local\\programs\\python\\python38\\lib\\site-packages)\n",
      "WARNING: Ignoring invalid distribution -atplotlib (c:\\users\\pavel\\appdata\\local\\programs\\python\\python38\\lib\\site-packages)\n",
      "WARNING: Ignoring invalid distribution -atplotlib (c:\\users\\pavel\\appdata\\local\\programs\\python\\python38\\lib\\site-packages)\n",
      "WARNING: Ignoring invalid distribution -atplotlib (c:\\users\\pavel\\appdata\\local\\programs\\python\\python38\\lib\\site-packages)\n",
      "WARNING: Ignoring invalid distribution -atplotlib (c:\\users\\pavel\\appdata\\local\\programs\\python\\python38\\lib\\site-packages)\n",
      "WARNING: Ignoring invalid distribution -atplotlib (c:\\users\\pavel\\appdata\\local\\programs\\python\\python38\\lib\\site-packages)\n"
     ]
    }
   ],
   "source": [
    "!pip install --user networkx"
   ]
  },
  {
   "cell_type": "code",
   "execution_count": 2,
   "metadata": {},
   "outputs": [],
   "source": [
    "import networkx as nx\n",
    "import matplotlib.pyplot as plt"
   ]
  },
  {
   "cell_type": "code",
   "execution_count": 3,
   "metadata": {},
   "outputs": [
    {
     "data": {
      "image/png": "[encoded data removed]",
      "text/plain": [
       "<Figure size 432x288 with 1 Axes>"
      ]
     },
     "metadata": {},
     "output_type": "display_data"
    }
   ],
   "source": [
    "class GraphVisualization:\n",
    "   \n",
    "    def __init__(self):\n",
    "        self.visual = []\n",
    "          \n",
    "    def addEdge(self, a, b):\n",
    "        temp = [a, b]\n",
    "        self.visual.append(temp)\n",
    "          \n",
    "    def visualize(self):\n",
    "        G = nx.Graph()\n",
    "        G.add_edges_from(self.visual)\n",
    "        nx.draw_networkx(G)\n",
    "        plt.show()\n",
    "\n",
    "G = GraphVisualization()\n",
    "G.addEdge(0, 2)\n",
    "G.addEdge(1, 2)\n",
    "G.addEdge(1, 3)\n",
    "G.addEdge(5, 3)\n",
    "G.addEdge(3, 4)\n",
    "G.addEdge(1, 0)\n",
    "G.visualize()"
   ]
  },
  {
   "cell_type": "code",
   "execution_count": 4,
   "metadata": {},
   "outputs": [
    {
     "name": "stdout",
     "output_type": "stream",
     "text": [
      "5\n"
     ]
    }
   ],
   "source": [
    "x = 5\n",
    "if 0 < x < 10:\n",
    "    print(x)"
   ]
  },
  {
   "cell_type": "code",
   "execution_count": null,
   "metadata": {},
   "outputs": [],
   "source": [
    "import unittest\n",
    "\n",
    "if __name__ == \"__main__\":\n",
    "    unittest.main()"
   ]
  },
  {
   "cell_type": "code",
   "execution_count": null,
   "metadata": {},
   "outputs": [],
   "source": [
    "from typing import Dict, List, Union\n",
    "\n",
    "\n",
    "class Vertex:\n",
    "    def __init__(self, name):\n",
    "        self.name = name\n",
    "        self.marked = False\n",
    "        self.weight = None\n",
    "        \n",
    "    def __eq__(self, v):\n",
    "        if isinstance(v, Vertex):\n",
    "            return self.name == v.name\n",
    "        if isinstance(v, str):\n",
    "            return self.name == v\n",
    "        \n",
    "    def __repr__(self):\n",
    "        return self.name\n",
    "    \n",
    "    \n",
    "class Edge:\n",
    "    def __init__(self, v1, v2, w):\n",
    "        self.v1 = v1\n",
    "        self.v2 = v2\n",
    "        self.weight = w \n",
    "        \n",
    "    def __repr__(self):\n",
    "        return f\"({self.v1}, {self.v2})\"\n",
    "    \n",
    "\n",
    "class Graph:\n",
    "    def __init__(self, sa: Dict[str, List[Union[str, float, int]]]):\n",
    "        self._sa = sa  # список смежности\n",
    "        self._vertices = list([Vertex(el) for el in sa.keys()])  # список вершин\n",
    "        self._d = {el.name: el for el in self._vertices}\n",
    "        self._edges = self._get_edges()\n",
    "    \n",
    "    def _get_edges(self):\n",
    "        edges = []\n",
    "        for v, vs in self._sa.items():\n",
    "            for vi, wi in vs:\n",
    "                edges.append(Edge(self._d[v], self._d[vi], wi))\n",
    "        return edges\n",
    "                \n",
    "\n",
    "    def get_vertex_with_min_weight_not_marked(self):\n",
    "        # возвращает не пройденную вершину с минимальным весом\n",
    "        try:\n",
    "            _, v = min([(el.weight, el) for el in self._vertices if not el.marked])\n",
    "        except ValueError as er:\n",
    "            return None\n",
    "        return v\n",
    "\n",
    "    def get_weights_edges(self):\n",
    "        # возвращает список весов всех ребер\n",
    "        return list([el.weight for el in self._edges])\n",
    "\n",
    "    def vertices(self):\n",
    "        # возвращает список вершин\n",
    "        return self._vertices\n",
    "    \n",
    "    def adjacency_nodes_ribbles(self, v):\n",
    "        a = []\n",
    "        for name, w in self._sa[v.name]:\n",
    "            a.append((self._d[name], w))\n",
    "        return a\n",
    "\n",
    "        \n",
    "def dijkstra(g: Graph, v0: [str, Vertex]):\n",
    "    # Алгоритм Дейкстры(Список смежности, Начальную) -> \n",
    "    #     Вершины с расстоянием до них, Пути до вершин\n",
    "    \n",
    "    # посчитать сумму всех весов\n",
    "    s = sum(g.get_weights_edges()) + 1\n",
    "    \n",
    "    # устанавливает для v0 вес в 0 а для остальных вес в сумма всех весов + 1\n",
    "    for v in g.vertices():\n",
    "        if v == v0:\n",
    "            v.weight = 0\n",
    "        else:\n",
    "            v.weight = s\n",
    "\n",
    "    while True:\n",
    "        # Выбираем вершину с минимальным весом не пройденную\n",
    "        v = g.get_vertex_with_min_weight_not_marked()\n",
    "        if v is None:\n",
    "            break\n",
    "\n",
    "        # Идем по смежным к ней вершинам не пройденным\n",
    "        for vi, wi in g.adjacency_nodes_ribbles(v):\n",
    "            if not vi.marked:\n",
    "                #      Обновляем веса min(было, стало)\n",
    "                vi.weight = min(vi.weight, v.weight + wi)\n",
    "        # Помечаем вершину как пройденную\n",
    "        v.marked = True\n",
    "        \n",
    "    return g\n",
    "\n",
    "\n",
    "\n",
    "\n"
   ]
  }
 ],
 "metadata": {
  "kernelspec": {
   "display_name": "Python 3",
   "language": "python",
   "name": "python3"
  },
  "language_info": {
   "codemirror_mode": {
    "name": "ipython",
    "version": 3
   },
   "file_extension": ".py",
   "mimetype": "text/x-python",
   "name": "python",
   "nbconvert_exporter": "python",
   "pygments_lexer": "ipython3",
   "version": "3.10.12"
  }
 },
 "nbformat": 4,
 "nbformat_minor": 4
}

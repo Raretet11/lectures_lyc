{
 "cells": [
  {
   "cell_type": "markdown",
   "metadata": {},
   "source": [
    "https://habr.com/ru/company/otus/blog/568026/"
   ]
  },
  {
   "cell_type": "code",
   "execution_count": 3,
   "metadata": {},
   "outputs": [],
   "source": [
    "from typing import Union\n",
    "\n",
    "def f(x: Union[int, float]):\n",
    "    return x"
   ]
  },
  {
   "cell_type": "markdown",
   "metadata": {},
   "source": [
    "https://habr.com/ru/company/lamoda/blog/432656/"
   ]
  },
  {
   "cell_type": "code",
   "execution_count": 6,
   "metadata": {},
   "outputs": [],
   "source": [
    "dz230127\n",
    "    dz.py\n",
    "\n",
    "\n",
    "from typing import Dict, List\n",
    "\n",
    "\n",
    "def dfs(al:Dict[str, List[str]], start:str, finish:str) -> List[str]:\n",
    "    # реализация через рекурсию или стек\n",
    "    pass\n",
    "\n",
    "def bfs(al:Dict[str, List[str]], start:str, finish:str) -> List[str]:\n",
    "    # реализация через очередь\n",
    "    pass\n",
    "\n",
    "    dz_test.py\n",
    "    main.py\n",
    "    \n",
    "def main(filename: str, from_city: str, to_city:str):\n",
    "    # напечатать путь из города from_city до города to_city либо что его нет.\n",
    "\n",
    "if __name__ == \"__main__\":\n",
    "    # python main.py adjacency_list.txt москва екатеринбург\n",
    "    filename, from_city, to_city = sys.argv[1], sys.argv[2], sys.argv[3]\n",
    "    main(filename, from_city, to_city)"
   ]
  },
  {
   "cell_type": "code",
   "execution_count": null,
   "metadata": {},
   "outputs": [],
   "source": [
    "d = {}\n",
    "with open(filename, uncoding=\"utf-8\") as f:\n",
    "    for line in f.readlines():\n",
    "        a,*b = line.split(\",\")\n",
    "        d[a] = b"
   ]
  }
 ],
 "metadata": {
  "kernelspec": {
   "display_name": "Python 3",
   "language": "python",
   "name": "python3"
  },
  "language_info": {
   "codemirror_mode": {
    "name": "ipython",
    "version": 3
   },
   "file_extension": ".py",
   "mimetype": "text/x-python",
   "name": "python",
   "nbconvert_exporter": "python",
   "pygments_lexer": "ipython3",
   "version": "3.10.12"
  }
 },
 "nbformat": 4,
 "nbformat_minor": 4
}

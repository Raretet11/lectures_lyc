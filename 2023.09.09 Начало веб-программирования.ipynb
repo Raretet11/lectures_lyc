{
 "cells": [
  {
   "cell_type": "code",
   "execution_count": 1,
   "id": "ff8d62b7",
   "metadata": {},
   "outputs": [],
   "source": [
    "ДЗ\n",
    "создать в браузере визуальную новеллу\n",
    "\n",
    "не меньше 10 в глубину\n",
    "с тремя концовками\n",
    "использовать изображения текст и то что еще сочтете нужным\n"
   ]
  },
  {
   "cell_type": "code",
   "execution_count": null,
   "id": "dbb33c10",
   "metadata": {},
   "outputs": [],
   "source": []
  },
  {
   "cell_type": "code",
   "execution_count": 4,
   "id": "06dbae90",
   "metadata": {},
   "outputs": [],
   "source": []
  },
  {
   "cell_type": "code",
   "execution_count": null,
   "id": "4a9ef81d",
   "metadata": {},
   "outputs": [],
   "source": []
  }
 ],
 "metadata": {
  "kernelspec": {
   "display_name": "Python 3",
   "language": "python",
   "name": "python3"
  },
  "language_info": {
   "codemirror_mode": {
    "name": "ipython",
    "version": 3
   },
   "file_extension": ".py",
   "mimetype": "text/x-python",
   "name": "python",
   "nbconvert_exporter": "python",
   "pygments_lexer": "ipython3",
   "version": "3.10.12"
  }
 },
 "nbformat": 4,
 "nbformat_minor": 5
}

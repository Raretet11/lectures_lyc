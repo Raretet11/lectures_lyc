{
 "cells": [
  {
   "cell_type": "markdown",
   "id": "eb49efbc",
   "metadata": {},
   "source": [
    "https://dzen.ru/a/YlkmuKsYlidjykjK"
   ]
  },
  {
   "cell_type": "code",
   "execution_count": 5,
   "id": "d861ef3e",
   "metadata": {},
   "outputs": [],
   "source": [
    "import requests"
   ]
  },
  {
   "cell_type": "code",
   "execution_count": 11,
   "id": "97bd10c3",
   "metadata": {},
   "outputs": [],
   "source": [
    "token = \"vk1.a.1j42tH5imR1bpmCuX-0p8g2IPp0LX3rC2SJn15h7E11xBn-tBqV_CvXB0dpblie4vHsCQEizJr9OFzSEJPxPffAGMTTTn_V5Zu6Lcl6BZB9KJlkjjuBSN3TZmlTyNIwgvTqsfpOl3K3zOXZeWgfs5_eIFLy7K1P4vSraEB8BXpob3UjN1_0H-xe02TVzAKDF\""
   ]
  },
  {
   "cell_type": "code",
   "execution_count": 57,
   "id": "8de159b9",
   "metadata": {},
   "outputs": [],
   "source": [
    "class VK:\n",
    "    def __init__(self, token):\n",
    "        self.token = token\n",
    "        \n",
    "        \n",
    "    def get_user_info(self, user):\n",
    "        param = {\n",
    "            'access_token': token, \n",
    "             'user_ids': user, \n",
    "             # 'fields': 'about,books,bdate,career,common_count,connections,contacts,city,country,sex,schools,screen_name,interests,nickname,photo_100', \n",
    "             'fields': \"nickname\",\n",
    "             'v': 5.131,\n",
    "        }\n",
    "        \n",
    "        method = \"users.get\"\n",
    "\n",
    "        rec = requests.get(url=f'https://api.vk.com/method/{method}', params=param)\n",
    "        a = rec.json()\n",
    "        res = \"\"\n",
    "        try:\n",
    "            res = a[\"response\"]\n",
    "        except KeyError as err:\n",
    "            print(err)\n",
    "            print(a)\n",
    "\n",
    "        return res\n",
    "    \n",
    "    \n",
    "    def get_followers(self, user_id):\n",
    "        param = {'access_token': self.token, \n",
    "         'user_ids': user_id, \n",
    "         # 'fields': 'nickname,photo_100', \n",
    "         'v': 5.131}\n",
    "\n",
    "        method = \"users.getFollowers\"\n",
    "\n",
    "        rec = requests.get(url=f'https://api.vk.com/method/{method}', params=param)\n",
    "\n",
    "        a = rec.json()\n",
    "\n",
    "        ds = []\n",
    "        try:\n",
    "            for item in a[\"response\"][\"items\"]:\n",
    "    #             d = {}\n",
    "    #             d[\"id\"] = item[\"id\"]\n",
    "    #             # d[\"photo_100\"] = item[\"photo_100\"]\n",
    "    #             ds.append(d)\n",
    "                ds.append((item, user_id))\n",
    "        except KeyError as err:\n",
    "            print(err)\n",
    "            print(a)\n",
    "        return ds\n",
    "    \n",
    "    \n",
    "    def get_subscription(self, user_id):\n",
    "        param = {'access_token': self.token, \n",
    "                 'user_ids': user_id, \n",
    "                 # 'fields': 'nickname,photo_100', \n",
    "                 'v': 5.131}\n",
    "\n",
    "        method = \"users.getSubscriptions\"\n",
    "\n",
    "        rec = requests.get(url=f'https://api.vk.com/method/{method}', params=param)\n",
    "\n",
    "        a = rec.json()\n",
    "\n",
    "        d = []\n",
    "        try:\n",
    "            for item in a[\"response\"][\"users\"][\"items\"]:\n",
    "                d.append((user_id, item))\n",
    "        except KeyError as err:\n",
    "            print(err)\n",
    "            print(a)\n",
    "        return d\n",
    "    \n",
    "    \n",
    "    def get_friends(self, user_id):\n",
    "        param = {'access_token': self.token, \n",
    "                 'user_id': user_id, \n",
    "                 # 'fields': 'nickname,photo_100', \n",
    "                 \n",
    "                 'v': 5.131}\n",
    "\n",
    "        method = \"friends.get\"\n",
    "\n",
    "        rec = requests.get(url=f'https://api.vk.com/method/{method}', params=param)\n",
    "\n",
    "        a = rec.json()\n",
    "        # print(a)\n",
    "        b = []\n",
    "        try:\n",
    "            for item in a[\"response\"][\"items\"]:\n",
    "    #             d = {\"id\": item, \n",
    "    # #                  \"first_name\": item[\"first_name\"],\n",
    "    # #                  \"last_name\": item[\"last_name\"], \n",
    "    # #                  \"photo_100\": item[\"photo_100\"]\n",
    "    #                 }\n",
    "                b.append((user_id, item))\n",
    "                b.append((item, user_id))\n",
    "        except KeyError as err:\n",
    "            print(err)\n",
    "            print(a)\n",
    "        return b\n",
    "    \n",
    "    def get_edges(self, user_id):\n",
    "        return self.get_followers(user_id) + self.get_subscription(user_id) + self.get_friends(user_id)"
   ]
  },
  {
   "cell_type": "code",
   "execution_count": 56,
   "id": "892774de",
   "metadata": {},
   "outputs": [
    {
     "data": {
      "text/plain": [
       "[(0, 1), (0, 2), (0, 3), (1, 0), (2, 0), (3, 0)]"
      ]
     },
     "execution_count": 56,
     "metadata": {},
     "output_type": "execute_result"
    }
   ],
   "source": [
    "import networkx as nx\n",
    "import matplotlib.pyplot as plt\n",
    "\n",
    "class GraphVisualization:\n",
    "   \n",
    "    def __init__(self):\n",
    "        self.visual = []\n",
    "        self.G = nx.DiGraph()\n",
    "          \n",
    "    def addEdge(self, a, b):\n",
    "        temp = (a,b)\n",
    "        self.visual.append(temp)\n",
    "          \n",
    "    def visualize(self):\n",
    "        plt.figure(figsize=(20, 20), dpi=80)\n",
    "        self.G.add_edges_from(self.visual)\n",
    "        nx.draw_networkx(self.G)\n",
    "        plt.show()\n",
    "\n",
    "G = GraphVisualization()\n",
    "G.addEdge(0, 1)\n",
    "G.addEdge(0, 2)\n",
    "G.addEdge(0, 3)\n",
    "G.addEdge(1, 0)\n",
    "G.addEdge(2, 0)\n",
    "G.addEdge(3, 0)\n",
    "\n",
    "G.addEdge(1, 4)\n",
    "G.addEdge(1, 5)\n",
    "G.addEdge(1, 6)\n",
    "G.addEdge(2, 7)\n",
    "G.addEdge(2, 8)\n",
    "G.addEdge(2, 9)\n",
    "G.addEdge(3, 10)\n",
    "G.addEdge(3, 11)\n",
    "G.addEdge(3, 12)\n",
    "\n",
    "G.addEdge(4, 1)\n",
    "G.addEdge(5, 1)\n",
    "G.addEdge(6, 1)\n",
    "G.addEdge(7, 2)\n",
    "G.addEdge(8, 2)\n",
    "G.addEdge(9, 2)\n",
    "G.addEdge(10, 3)\n",
    "G.addEdge(11,  3)\n",
    "G.addEdge(12, 3)\n",
    "\n",
    "k = 13\n",
    "for j in range(4, 13):\n",
    "    for i in range(3):\n",
    "        G.addEdge(j, k + i + (j-4)*3)\n",
    "        G.addEdge( k + i + (j-4)*3, j)\n",
    "        \n",
    "\n",
    "    \n",
    "G.addEdge(10,6)\n",
    "G.addEdge(6,10)\n",
    "G.addEdge(35,4)\n",
    "G.addEdge(4,35)\n",
    "G.addEdge(9,10)\n",
    "\n",
    "G.addEdge(39,40)\n",
    "G.addEdge(40,39)\n",
    "\n",
    "G.addEdge(29,1)\n",
    "G.addEdge(1,8)\n",
    "G.addEdge(22, 18)\n",
    "G.addEdge(32, 2)\n",
    "\n",
    "# G.visualize()\n",
    "class VK2:\n",
    "    def __init__(self, graph: GraphVisualization):\n",
    "        self.graph = graph\n",
    "    \n",
    "    def get_edges(self, user_id):\n",
    "        res = []\n",
    "        for el in self.graph.visual:\n",
    "            if user_id in el:\n",
    "                res.append(el)\n",
    "        return res\n",
    "    \n",
    "vk = VK2(G)\n",
    "edges = vk.get_edges(0)\n",
    "edges"
   ]
  },
  {
   "cell_type": "code",
   "execution_count": 54,
   "id": "9a000d5e",
   "metadata": {},
   "outputs": [
    {
     "data": {
      "text/plain": [
       "OutEdgeView([(0, 1), (0, 2), (0, 3), (1, 0), (1, 4), (1, 5), (1, 6), (1, 8), (2, 0), (2, 7), (2, 8), (2, 9), (3, 0), (3, 10), (3, 11), (3, 12), (4, 1), (4, 13), (4, 14), (4, 15), (4, 35), (5, 1), (5, 16), (5, 17), (5, 18), (6, 1), (6, 19), (6, 20), (6, 21), (6, 10), (7, 2), (7, 22), (7, 23), (7, 24), (8, 2), (8, 25), (8, 26), (8, 27), (9, 2), (9, 28), (9, 29), (9, 30), (9, 10), (10, 3), (10, 31), (10, 32), (10, 33), (10, 6), (11, 3), (11, 34), (11, 35), (11, 36), (12, 3), (12, 37), (12, 38), (12, 39), (13, 4), (14, 4), (15, 4), (16, 5), (17, 5), (18, 5), (19, 6), (20, 6), (21, 6), (22, 7), (22, 18), (23, 7), (24, 7), (25, 8), (26, 8), (27, 8), (28, 9), (29, 9), (29, 1), (30, 9), (31, 10), (32, 10), (32, 2), (33, 10), (34, 11), (35, 11), (35, 4), (36, 11), (37, 12), (38, 12), (39, 12), (39, 40), (40, 39)])"
      ]
     },
     "execution_count": 54,
     "metadata": {},
     "output_type": "execute_result"
    }
   ],
   "source": [
    "G.G.edges"
   ]
  },
  {
   "cell_type": "code",
   "execution_count": 50,
   "id": "016938e0",
   "metadata": {},
   "outputs": [],
   "source": [
    "class VK2:\n",
    "    def __init__(self, graph: GraphVisualization):\n",
    "        self.graph = graph\n",
    "    \n",
    "    def get_edges(self, user_id):\n",
    "        res = []\n",
    "        for el in self.graph.visual:\n",
    "            if user_id in el:\n",
    "                res.append(el)\n",
    "        return res\n",
    "    \n",
    "vk = VK2(G)\n",
    "edges = vk.get_edges(0)"
   ]
  },
  {
   "cell_type": "code",
   "execution_count": 36,
   "id": "ec1862e4",
   "metadata": {},
   "outputs": [],
   "source": [
    "vk = VK(token)\n",
    "my_id = 2593900\n",
    "edges = vk.get_edges(my_id)"
   ]
  },
  {
   "cell_type": "code",
   "execution_count": null,
   "id": "e959e7c1",
   "metadata": {},
   "outputs": [],
   "source": [
    "class BFS:\n",
    "    def __init__(self, vk):\n",
    "        self.vk = vk\n",
    "    \n",
    "    def run(self, user_id, depth=3):\n",
    "        pass"
   ]
  },
  {
   "cell_type": "code",
   "execution_count": null,
   "id": "2f1ec7ca",
   "metadata": {},
   "outputs": [],
   "source": [
    "закачать на глубину 5"
   ]
  },
  {
   "cell_type": "code",
   "execution_count": 51,
   "id": "69e1d1e6",
   "metadata": {},
   "outputs": [
    {
     "data": {
      "image/png": "[encoded data removed]",
      "text/plain": [
       "<Figure size 1600x1600 with 1 Axes>"
      ]
     },
     "metadata": {},
     "output_type": "display_data"
    }
   ],
   "source": [
    "import networkx as nx\n",
    "import matplotlib.pyplot as plt\n",
    "\n",
    "class GraphVisualization2:\n",
    "   \n",
    "    def __init__(self):\n",
    "        self.visual = []\n",
    "          \n",
    "    def addEdge(self, a, b):\n",
    "        temp = [a, b]\n",
    "        self.visual.append(temp)\n",
    "          \n",
    "    def visualize(self):\n",
    "        plt.figure(figsize=(20, 20), dpi=80)\n",
    "        G = nx.DiGraph()\n",
    "        G.add_edges_from(self.visual)\n",
    "        nx.draw_networkx(G)\n",
    "        plt.show()\n",
    "\n",
    "G2 = GraphVisualization2()\n",
    "for edge in edges:\n",
    "    G2.addEdge(edge[0], edge[1])\n",
    "G2.visualize()"
   ]
  },
  {
   "cell_type": "code",
   "execution_count": null,
   "id": "777e3b75",
   "metadata": {},
   "outputs": [],
   "source": [
    "лидеры мнений   def lead_m(edges)\n",
    "\n",
    "антилидеры мнений   def anti_lead_m(edges)\n",
    "\n",
    "самые дальние друг от друга пользователи в графе (диаметр графа)  def d_graph(edges)"
   ]
  },
  {
   "cell_type": "code",
   "execution_count": 58,
   "id": "78218d5a",
   "metadata": {},
   "outputs": [],
   "source": [
    "a = \"[(1,2), (3,4)]\""
   ]
  },
  {
   "cell_type": "code",
   "execution_count": 59,
   "id": "2e5486aa",
   "metadata": {},
   "outputs": [
    {
     "data": {
      "text/plain": [
       "'[(1,2), (3,4)]'"
      ]
     },
     "execution_count": 59,
     "metadata": {},
     "output_type": "execute_result"
    }
   ],
   "source": [
    "a"
   ]
  },
  {
   "cell_type": "code",
   "execution_count": 60,
   "id": "09e3bd4e",
   "metadata": {},
   "outputs": [],
   "source": [
    "b = eval(a)"
   ]
  },
  {
   "cell_type": "code",
   "execution_count": 61,
   "id": "48fc8abd",
   "metadata": {},
   "outputs": [
    {
     "data": {
      "text/plain": [
       "[(1, 2), (3, 4)]"
      ]
     },
     "execution_count": 61,
     "metadata": {},
     "output_type": "execute_result"
    }
   ],
   "source": [
    "b"
   ]
  },
  {
   "cell_type": "code",
   "execution_count": 62,
   "id": "157a2f3e",
   "metadata": {},
   "outputs": [
    {
     "data": {
      "text/plain": [
       "(1, 2)"
      ]
     },
     "execution_count": 62,
     "metadata": {},
     "output_type": "execute_result"
    }
   ],
   "source": [
    "b[0]"
   ]
  },
  {
   "cell_type": "code",
   "execution_count": 63,
   "id": "89e96344",
   "metadata": {},
   "outputs": [
    {
     "ename": "SyntaxError",
     "evalue": "unexpected EOF while parsing (<ipython-input-63-325b91ea35f8>, line 1)",
     "output_type": "error",
     "traceback": [
      "\u001b[1;36m  File \u001b[1;32m\"<ipython-input-63-325b91ea35f8>\"\u001b[1;36m, line \u001b[1;32m1\u001b[0m\n\u001b[1;33m    with open(filename, \"w\") as f:\u001b[0m\n\u001b[1;37m                                  ^\u001b[0m\n\u001b[1;31mSyntaxError\u001b[0m\u001b[1;31m:\u001b[0m unexpected EOF while parsing\n"
     ]
    }
   ],
   "source": [
    "with open(filename, \"w\") as f:\n",
    "    f.write(str(a))"
   ]
  },
  {
   "cell_type": "code",
   "execution_count": 64,
   "id": "48574fc2",
   "metadata": {},
   "outputs": [
    {
     "ename": "SyntaxError",
     "evalue": "unexpected EOF while parsing (<ipython-input-64-66b71b163967>, line 1)",
     "output_type": "error",
     "traceback": [
      "\u001b[1;36m  File \u001b[1;32m\"<ipython-input-64-66b71b163967>\"\u001b[1;36m, line \u001b[1;32m1\u001b[0m\n\u001b[1;33m    with open(filename) as f:\u001b[0m\n\u001b[1;37m                             ^\u001b[0m\n\u001b[1;31mSyntaxError\u001b[0m\u001b[1;31m:\u001b[0m unexpected EOF while parsing\n"
     ]
    }
   ],
   "source": [
    "with open(filename) as f:\n",
    "    b = eval(f.read())"
   ]
  },
  {
   "cell_type": "code",
   "execution_count": null,
   "id": "b64150a2",
   "metadata": {},
   "outputs": [],
   "source": [
    "a = {1: 2, 2:1, 3:4}\n",
    "\n",
    "b = []\n",
    "for k,v in a.items():\n",
    "    b.append((v, k))\n",
    "sorted(b)[:10]"
   ]
  },
  {
   "cell_type": "code",
   "execution_count": null,
   "id": "dd063237",
   "metadata": {},
   "outputs": [],
   "source": [
    "найти топ пять самых жирных ребер между городами пользователей"
   ]
  }
 ],
 "metadata": {
  "kernelspec": {
   "display_name": "Python 3",
   "language": "python",
   "name": "python3"
  },
  "language_info": {
   "codemirror_mode": {
    "name": "ipython",
    "version": 3
   },
   "file_extension": ".py",
   "mimetype": "text/x-python",
   "name": "python",
   "nbconvert_exporter": "python",
   "pygments_lexer": "ipython3",
   "version": "3.10.12"
  }
 },
 "nbformat": 4,
 "nbformat_minor": 5
}

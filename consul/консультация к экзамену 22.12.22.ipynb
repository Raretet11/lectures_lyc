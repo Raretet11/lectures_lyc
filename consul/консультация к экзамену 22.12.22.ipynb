{
 "cells": [
  {
   "cell_type": "markdown",
   "id": "cdebe94c",
   "metadata": {},
   "source": [
    "1 2 3 4"
   ]
  },
  {
   "cell_type": "code",
   "execution_count": 2,
   "id": "a1dbbb6b",
   "metadata": {},
   "outputs": [
    {
     "data": {
      "text/plain": [
       "20"
      ]
     },
     "execution_count": 2,
     "metadata": {},
     "output_type": "execute_result"
    }
   ],
   "source": [
    "20"
   ]
  },
  {
   "cell_type": "code",
   "execution_count": null,
   "id": "81527204",
   "metadata": {},
   "outputs": [],
   "source": [
    "b 0\n",
    "f 1  2                                  3                   4\n",
    "b 0 0 1                               0 1 2                 0 1 2 3\n",
    "f     2     3       4        5            3 4 5 6                 4 5 6 7\n",
    "b     0 1   0 1 2   0 1 2 3  1 2 3 4            2 3 4 5                 3 4 5 6\n",
    "f                                  5 6 7 8            6 7 8 9                 7 8 9 10\n",
    "b                                        4 5 6 7            3 4 5 6                 6 7 8            9\n",
    "f                                              8 9 10 11                                9 10 11 12   10 11 12 13\n",
    "b                                                     7 8 9 10                                  8 9 10 11     \n",
    "                                                        "
   ]
  },
  {
   "cell_type": "code",
   "execution_count": null,
   "id": "79915416",
   "metadata": {},
   "outputs": [],
   "source": []
  },
  {
   "cell_type": "code",
   "execution_count": null,
   "id": "a8fc8bdf",
   "metadata": {},
   "outputs": [],
   "source": []
  },
  {
   "cell_type": "code",
   "execution_count": null,
   "id": "59d9a1a7",
   "metadata": {},
   "outputs": [],
   "source": [
    "f 10 11 12 13\n",
    "b            9 10 11 12"
   ]
  },
  {
   "cell_type": "code",
   "execution_count": null,
   "id": "a098653b",
   "metadata": {},
   "outputs": [],
   "source": [
    "0 \n",
    "1 2 3 4\n",
    "0"
   ]
  },
  {
   "cell_type": "code",
   "execution_count": null,
   "id": "5c750538",
   "metadata": {},
   "outputs": [],
   "source": [
    "0 2 1  [2,3,4,5]\n",
    "\n",
    "\n",
    "0 1\n"
   ]
  },
  {
   "cell_type": "code",
   "execution_count": null,
   "id": "c89c269b",
   "metadata": {},
   "outputs": [],
   "source": [
    "0 4 3 7 6 10 9 13 12 16 15 19 18 22 21 25 24 28 27 31 30"
   ]
  },
  {
   "cell_type": "code",
   "execution_count": null,
   "id": "177bdc8d",
   "metadata": {},
   "outputs": [],
   "source": [
    "0\n",
    "1\n",
    "2\n",
    "3\n",
    "4\n",
    "5\n",
    "6\n",
    "7\n",
    "8\n",
    "9\n",
    "\n",
    "\n",
    "30"
   ]
  },
  {
   "cell_type": "code",
   "execution_count": null,
   "id": "e3a30b1d",
   "metadata": {},
   "outputs": [],
   "source": [
    "123_4 + 123_5 + ... + 123_25"
   ]
  },
  {
   "cell_type": "code",
   "execution_count": null,
   "id": "abdae549",
   "metadata": {},
   "outputs": [],
   "source": [
    "4**2 + 2 * 4 + 3\n",
    "5**2 + 2 * 5 + 3\n",
    "...\n",
    "25 **2 + 2 * 25 + 3\n",
    "\n",
    "\n",
    "22*3 + 2*(4 + ... 25) + 4 **2 + 4**2 + ... 25 ** 2\n",
    "66 + 638 + "
   ]
  },
  {
   "cell_type": "code",
   "execution_count": null,
   "id": "d4c49dd9",
   "metadata": {},
   "outputs": [],
   "source": [
    "1 + 4 + 9 = 14"
   ]
  },
  {
   "cell_type": "code",
   "execution_count": null,
   "id": "ccfe85b2",
   "metadata": {},
   "outputs": [],
   "source": [
    "638 + 5511  + 66=  5577 + 638 = 6215"
   ]
  },
  {
   "cell_type": "code",
   "execution_count": null,
   "id": "cc2d21c5",
   "metadata": {},
   "outputs": [],
   "source": [
    "4 + 5 + ...    24 + 25\n",
    "25 + 24 + ... + 5 + 4 \n",
    "29 + 29 + .....+ 29 + 29\n",
    "\n",
    "(a1 + an)*n/2\n",
    "\n",
    "29 * 22\n",
    "30 * 20 = 600\n",
    "30 * 2 = \n",
    "660 - 22 = 638"
   ]
  },
  {
   "cell_type": "code",
   "execution_count": null,
   "id": "7d5e0064",
   "metadata": {},
   "outputs": [],
   "source": []
  },
  {
   "cell_type": "code",
   "execution_count": null,
   "id": "0a47283d",
   "metadata": {},
   "outputs": [],
   "source": [
    "n*(n+1)*(2n+1)/6 = 25*26*51/6 = 25*13*51/3 = 25*13*17 = 13*17*100/4\n",
    "13\n",
    "17\n",
    " 91\n",
    "13\n",
    "221\n",
    " 25\n",
    "  1105\n",
    "  442\n",
    "  5525 - 14 = 5511"
   ]
  },
  {
   "cell_type": "code",
   "execution_count": null,
   "id": "a05dac01",
   "metadata": {},
   "outputs": [],
   "source": [
    "0.2022_5 + 0.0068_20 * 4D_22 = X_8\n",
    "\n",
    "(2*5**(-1) + 2*5**(-3) + 2*5**(-4)) + (6*20**(-3) + 8 * 20**(-4)) * (4*22 + 13) = a*8**(-1) + b*8**(-2) + ...\n",
    "8*11"
   ]
  },
  {
   "cell_type": "code",
   "execution_count": null,
   "id": "9f1e03b5",
   "metadata": {},
   "outputs": [],
   "source": [
    "(2*5**(-1) + 2*5**(-3) + 2*5**(-4)) + (6*20**(-3) + 8 * 20**(-4)) * (4*22 + 13)  | * 8**2\n"
   ]
  },
  {
   "cell_type": "code",
   "execution_count": null,
   "id": "5958a1f6",
   "metadata": {},
   "outputs": [],
   "source": [
    "1/4**4 * 1/5**4\n",
    "\n",
    "\n",
    "(6*20**(-3) + 8 * 20**(-4)) = (8*1/(25*5))* 1/4**3 = 2 * 1/(25*25) * 1/4**2 \n",
    "\n",
    "(6*20**(-3) + 8 * 20**(-4)) = (6 * 1/4**3)*1/5**3 + (8*1/4**4)*1/5**4\n",
    "\n",
    "\n",
    "((6 * 1/4**3)*1/5**3 + (8*1/4**4)*1/5**4)  * 4*22 = (3 *11 * 1/4)*1/5**3 + (11*1/4)*1/5**4\n",
    "((6 * 1/4**3)*1/5**3 + (8*1/4**4)*1/5**4) * 13 = (3 * 13 * 1/32)*1/5**3 + (26/4**3)*1/5**4\n",
    "\n",
    "(2*5**(-1) + 2*5**(-3) + 2*5**(-4))\n",
    "\n",
    "\n",
    "2*1/5 + (2 + 33/4 + 39/32)*1/5**3 + (2 + 11/4 + 26/4**3)*1/5**4\n",
    "\n",
    "\n",
    "(2 + 4 4/8 + 1 8/64) = 7.5_8\n",
    "\n",
    "(2 + 11/4 + 26/4**3)\n",
    "\n",
    "\n",
    "2*1/5 + (7.5_8)*1/5**3 + "
   ]
  },
  {
   "cell_type": "code",
   "execution_count": null,
   "id": "ac67861e",
   "metadata": {},
   "outputs": [],
   "source": []
  },
  {
   "cell_type": "code",
   "execution_count": null,
   "id": "bc8410a6",
   "metadata": {},
   "outputs": [],
   "source": [
    "(2*5**(-1) + 2*5**(-3) + 2*5**(-4)) + (6*20**(-3) + 8 * 20**(-4)) * (4*22 + 13)\n",
    "\n",
    "\n",
    "(2/5 + 2/25*1/5 + 2/25 * 1/25 + 4*22*6*1/400*1/20 + 8*4*22*1/400*1/400 + 6*13*1/400*1/20 + 8*13*1/400*1/400) | *400\n",
    "\n",
    "2*80 + 2*16/5 + 2*16/25 + 4*22*6/20 + 8*4*22/400 + 6*13/20 + 8*13/400   | * 400\n",
    "\n",
    "2*80*400 + 2*16*80 + 2*16*16 + 4*22*6*20 + 8*4*22 + 6*13 * 20           | / 400**2\n",
    "\n",
    "2*3*13*4*5 = 3*13*5*8 = 39*5 *8 = 195*8\n",
    "\n",
    "8*4*22 = 11*8**2\n",
    "\n",
    "4*22*6*20 = 165*8**2\n",
    "\n",
    "1*8**3\n",
    "\n",
    "5 * 8**3\n",
    "\n",
    "125 * 8**3\n",
    "\n",
    "\n",
    " 195*1/8 +  11 +  165 +   1 * 8 +    5 *8 +     125 *8   |/2500\n",
    "    \n",
    "195/8 + 11 + 165 + 8 + 5*8  / (625 * 4) = \n",
    "\n",
    "\n",
    "(195 + 88 + 165 + 8 + 320)/(625*4*8) = 776/(625*4*8)\n",
    "\n",
    "388   * 2\n",
    "194   * 4\n",
    "97    * 8\n",
    "\n",
    "\n",
    "97/(625*4)\n",
    "\n",
    "97 | 3\n"
   ]
  },
  {
   "cell_type": "code",
   "execution_count": null,
   "id": "393ef8a8",
   "metadata": {},
   "outputs": [],
   "source": [
    "1.123 * 10**(-12) + 1.455 *10**(-5)\n",
    "\n",
    "0.00000011 * 10**(-5) + 1.455 *10**(-5)\n",
    "\n",
    "1.45500011 * 10**(-5)"
   ]
  },
  {
   "cell_type": "code",
   "execution_count": null,
   "id": "df33f625",
   "metadata": {},
   "outputs": [],
   "source": [
    "4125 = 4.125*10**3"
   ]
  },
  {
   "cell_type": "code",
   "execution_count": null,
   "id": "31b40c96",
   "metadata": {},
   "outputs": [],
   "source": [
    "1.0100100010101 * 1**"
   ]
  },
  {
   "cell_type": "code",
   "execution_count": null,
   "id": "8e59681c",
   "metadata": {},
   "outputs": [],
   "source": [
    "0    1010101010   101010101010101010101010    = 32"
   ]
  },
  {
   "cell_type": "code",
   "execution_count": null,
   "id": "208cb2eb",
   "metadata": {},
   "outputs": [],
   "source": [
    "2 8 16 32"
   ]
  },
  {
   "cell_type": "code",
   "execution_count": null,
   "id": "85e4532b",
   "metadata": {},
   "outputs": [],
   "source": [
    "400 = 8*50 = 8*5*5*2 = 8 * 50 \n",
    " \n",
    "400**2 = 8**2 * 2500"
   ]
  },
  {
   "cell_type": "code",
   "execution_count": null,
   "id": "454481a3",
   "metadata": {},
   "outputs": [],
   "source": [
    "50 * 50 = 25*25 * 4 = "
   ]
  },
  {
   "cell_type": "code",
   "execution_count": null,
   "id": "5b9fe28a",
   "metadata": {},
   "outputs": [],
   "source": [
    "25\n",
    "25\n",
    "125\n",
    "50\n",
    "625"
   ]
  },
  {
   "cell_type": "code",
   "execution_count": null,
   "id": "e7a3748c",
   "metadata": {},
   "outputs": [],
   "source": [
    "20 = 4*5\n",
    "22 = 2*11"
   ]
  },
  {
   "cell_type": "code",
   "execution_count": null,
   "id": "a3808f68",
   "metadata": {},
   "outputs": [],
   "source": [
    "(2*5**(-1) + 2*5**(-3) + 2*5**(-4)) + (6*20**(-3) + 8 * 20**(-4)) * (4*22 + 13) = a*8**(-1) + b*8**(-2) + ...\n",
    "8*11"
   ]
  },
  {
   "cell_type": "code",
   "execution_count": null,
   "id": "f721022a",
   "metadata": {},
   "outputs": [],
   "source": [
    "2*1/5 + 2*1/(5**3) + 2*1/(5**4)\n",
    "\n",
    "(6*1/(20**3) + 8*1/(20**4)) * 8*11=(6*1/(2**3) * 1/(2**3) * 1/(5**3) + 8 * 1/(2**4)*1/(2**4) * 1/(5**4))*2**3 *11\n",
    "\n",
    "(6*1/(20**3) + 8*1/(20**4)) * 13 =(6*1/(2**3) * 1/(2**3) * 1/(5**3) + 8 * 1/(2**4)*1/(2**4) * 1/(5**4))*13\n",
    "\n",
    "\n",
    "2*1/5 + 2*1/(5**3) + 2*1/(5**4)\n",
    "\n",
    "(6*1/(20**3) + 8*1/(20**4)) * 8*11=(3 * 1/(2**3) * 1/(5**3) + 1* 1/(2)*1/(2) * 1/(5**4))*11\n",
    "\n",
    "(6*1/(20**3) + 8*1/(20**4)) * 13 =(3*1/(2**2) * 1/(2**3) * 1/(5**3) + 1 * 1/(2)*1/(2**4) * 1/(5**4))*13\n",
    "\n",
    "\n",
    "2*1/5 + 2*1/(5**3) + 2*1/(5**4)\n",
    "\n",
    "(6*1/(20**3) + 8*1/(20**4)) * 8*11=(33 * 1/(2**3) * 1/(5**3) + 11* 1/(2)*1/(2) * 1/(5**4))\n",
    "\n",
    "(6*1/(20**3) + 8*1/(20**4)) * 13 =(39*1/(2**2) * 1/(2**3) * 1/(5**3) + 13 * 1/(2)*1/(2**4) * 1/(5**4))\n",
    "\n",
    "\n",
    "\n",
    "\n",
    "2*1/5 + (2 + 33/8 + 39/32)(1/5**3) + (2 + 11/4 + 13/32)(1/5**4) = 0.2_5 + 0.00(2 + 33/8 + 39/32)_5 + \n",
    "0.000(2 + 11/4 + 13/32)_5\n",
    "\n"
   ]
  }
 ],
 "metadata": {
  "kernelspec": {
   "display_name": "Python 3",
   "language": "python",
   "name": "python3"
  },
  "language_info": {
   "codemirror_mode": {
    "name": "ipython",
    "version": 3
   },
   "file_extension": ".py",
   "mimetype": "text/x-python",
   "name": "python",
   "nbconvert_exporter": "python",
   "pygments_lexer": "ipython3",
   "version": "3.10.6"
  }
 },
 "nbformat": 4,
 "nbformat_minor": 5
}

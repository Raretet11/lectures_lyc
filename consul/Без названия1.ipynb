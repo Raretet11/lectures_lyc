{
 "cells": [
  {
   "cell_type": "code",
   "execution_count": 1,
   "id": "4846828f",
   "metadata": {},
   "outputs": [],
   "source": [
    "import matplotlib.pyplot as plt\n",
    "import numpy as np"
   ]
  },
  {
   "cell_type": "markdown",
   "id": "3ab2e5e8",
   "metadata": {},
   "source": [
    "# Дифференцирование"
   ]
  },
  {
   "cell_type": "code",
   "execution_count": 72,
   "id": "d8f9f6bc",
   "metadata": {},
   "outputs": [],
   "source": [
    "def F(a,b,c, x):\n",
    "    return a * x**2 + b*x + c"
   ]
  },
  {
   "cell_type": "code",
   "execution_count": 73,
   "id": "4d7f4a81",
   "metadata": {},
   "outputs": [],
   "source": [
    "def f(a,b,c,x):\n",
    "    return 2*a*x + b"
   ]
  },
  {
   "cell_type": "code",
   "execution_count": 74,
   "id": "48a1271b",
   "metadata": {},
   "outputs": [],
   "source": [
    "x = np.arange(-10, 10, 0.01)"
   ]
  },
  {
   "cell_type": "code",
   "execution_count": 75,
   "id": "32bc864d",
   "metadata": {},
   "outputs": [],
   "source": [
    "a,b,c = -1, 2,10"
   ]
  },
  {
   "cell_type": "code",
   "execution_count": 93,
   "id": "4382309f",
   "metadata": {},
   "outputs": [
    {
     "data": {
      "text/plain": [
       "-110"
      ]
     },
     "execution_count": 93,
     "metadata": {},
     "output_type": "execute_result"
    }
   ],
   "source": [
    "F(a,b,c, -10)"
   ]
  },
  {
   "cell_type": "code",
   "execution_count": 76,
   "id": "ebbd721f",
   "metadata": {},
   "outputs": [
    {
     "data": {
      "text/plain": [
       "1.0"
      ]
     },
     "execution_count": 76,
     "metadata": {},
     "output_type": "execute_result"
    }
   ],
   "source": [
    "-b/2*a"
   ]
  },
  {
   "cell_type": "code",
   "execution_count": 77,
   "id": "5c858818",
   "metadata": {
    "scrolled": true
   },
   "outputs": [
    {
     "name": "stdout",
     "output_type": "stream",
     "text": [
      "Help on function vlines in module matplotlib.pyplot:\n",
      "\n",
      "vlines(x, ymin, ymax, colors=None, linestyles='solid', label='', *, data=None, **kwargs)\n",
      "    Plot vertical lines at each *x* from *ymin* to *ymax*.\n",
      "    \n",
      "    Parameters\n",
      "    ----------\n",
      "    x : float or array-like\n",
      "        x-indexes where to plot the lines.\n",
      "    \n",
      "    ymin, ymax : float or array-like\n",
      "        Respective beginning and end of each line. If scalars are\n",
      "        provided, all lines will have same length.\n",
      "    \n",
      "    colors : list of colors, default: :rc:`lines.color`\n",
      "    \n",
      "    linestyles : {'solid', 'dashed', 'dashdot', 'dotted'}, optional\n",
      "    \n",
      "    label : str, default: ''\n",
      "    \n",
      "    Returns\n",
      "    -------\n",
      "    `~matplotlib.collections.LineCollection`\n",
      "    \n",
      "    Other Parameters\n",
      "    ----------------\n",
      "    data : indexable object, optional\n",
      "        If given, the following parameters also accept a string ``s``, which is\n",
      "        interpreted as ``data[s]`` (unless this raises an exception):\n",
      "    \n",
      "        *x*, *ymin*, *ymax*, *colors*\n",
      "    **kwargs : `~matplotlib.collections.LineCollection` properties.\n",
      "    \n",
      "    See Also\n",
      "    --------\n",
      "    hlines : horizontal lines\n",
      "    axvline : vertical line across the Axes\n",
      "\n"
     ]
    }
   ],
   "source": [
    "help(plt.vlines)"
   ]
  },
  {
   "cell_type": "code",
   "execution_count": 78,
   "id": "edd796ed",
   "metadata": {},
   "outputs": [
    {
     "name": "stdout",
     "output_type": "stream",
     "text": [
      "Help on function plot in module matplotlib.pyplot:\n",
      "\n",
      "plot(*args, scalex=True, scaley=True, data=None, **kwargs)\n",
      "    Plot y versus x as lines and/or markers.\n",
      "    \n",
      "    Call signatures::\n",
      "    \n",
      "        plot([x], y, [fmt], *, data=None, **kwargs)\n",
      "        plot([x], y, [fmt], [x2], y2, [fmt2], ..., **kwargs)\n",
      "    \n",
      "    The coordinates of the points or line nodes are given by *x*, *y*.\n",
      "    \n",
      "    The optional parameter *fmt* is a convenient way for defining basic\n",
      "    formatting like color, marker and linestyle. It's a shortcut string\n",
      "    notation described in the *Notes* section below.\n",
      "    \n",
      "    >>> plot(x, y)        # plot x and y using default line style and color\n",
      "    >>> plot(x, y, 'bo')  # plot x and y using blue circle markers\n",
      "    >>> plot(y)           # plot y using x as index array 0..N-1\n",
      "    >>> plot(y, 'r+')     # ditto, but with red plusses\n",
      "    \n",
      "    You can use `.Line2D` properties as keyword arguments for more\n",
      "    control on the appearance. Line properties and *fmt* can be mixed.\n",
      "    The following two calls yield identical results:\n",
      "    \n",
      "    >>> plot(x, y, 'go--', linewidth=2, markersize=12)\n",
      "    >>> plot(x, y, color='green', marker='o', linestyle='dashed',\n",
      "    ...      linewidth=2, markersize=12)\n",
      "    \n",
      "    When conflicting with *fmt*, keyword arguments take precedence.\n",
      "    \n",
      "    \n",
      "    **Plotting labelled data**\n",
      "    \n",
      "    There's a convenient way for plotting objects with labelled data (i.e.\n",
      "    data that can be accessed by index ``obj['y']``). Instead of giving\n",
      "    the data in *x* and *y*, you can provide the object in the *data*\n",
      "    parameter and just give the labels for *x* and *y*::\n",
      "    \n",
      "    >>> plot('xlabel', 'ylabel', data=obj)\n",
      "    \n",
      "    All indexable objects are supported. This could e.g. be a `dict`, a\n",
      "    `pandas.DataFrame` or a structured numpy array.\n",
      "    \n",
      "    \n",
      "    **Plotting multiple sets of data**\n",
      "    \n",
      "    There are various ways to plot multiple sets of data.\n",
      "    \n",
      "    - The most straight forward way is just to call `plot` multiple times.\n",
      "      Example:\n",
      "    \n",
      "      >>> plot(x1, y1, 'bo')\n",
      "      >>> plot(x2, y2, 'go')\n",
      "    \n",
      "    - If *x* and/or *y* are 2D arrays a separate data set will be drawn\n",
      "      for every column. If both *x* and *y* are 2D, they must have the\n",
      "      same shape. If only one of them is 2D with shape (N, m) the other\n",
      "      must have length N and will be used for every data set m.\n",
      "    \n",
      "      Example:\n",
      "    \n",
      "      >>> x = [1, 2, 3]\n",
      "      >>> y = np.array([[1, 2], [3, 4], [5, 6]])\n",
      "      >>> plot(x, y)\n",
      "    \n",
      "      is equivalent to:\n",
      "    \n",
      "      >>> for col in range(y.shape[1]):\n",
      "      ...     plot(x, y[:, col])\n",
      "    \n",
      "    - The third way is to specify multiple sets of *[x]*, *y*, *[fmt]*\n",
      "      groups::\n",
      "    \n",
      "      >>> plot(x1, y1, 'g^', x2, y2, 'g-')\n",
      "    \n",
      "      In this case, any additional keyword argument applies to all\n",
      "      datasets. Also this syntax cannot be combined with the *data*\n",
      "      parameter.\n",
      "    \n",
      "    By default, each line is assigned a different style specified by a\n",
      "    'style cycle'. The *fmt* and line property parameters are only\n",
      "    necessary if you want explicit deviations from these defaults.\n",
      "    Alternatively, you can also change the style cycle using\n",
      "    :rc:`axes.prop_cycle`.\n",
      "    \n",
      "    \n",
      "    Parameters\n",
      "    ----------\n",
      "    x, y : array-like or scalar\n",
      "        The horizontal / vertical coordinates of the data points.\n",
      "        *x* values are optional and default to ``range(len(y))``.\n",
      "    \n",
      "        Commonly, these parameters are 1D arrays.\n",
      "    \n",
      "        They can also be scalars, or two-dimensional (in that case, the\n",
      "        columns represent separate data sets).\n",
      "    \n",
      "        These arguments cannot be passed as keywords.\n",
      "    \n",
      "    fmt : str, optional\n",
      "        A format string, e.g. 'ro' for red circles. See the *Notes*\n",
      "        section for a full description of the format strings.\n",
      "    \n",
      "        Format strings are just an abbreviation for quickly setting\n",
      "        basic line properties. All of these and more can also be\n",
      "        controlled by keyword arguments.\n",
      "    \n",
      "        This argument cannot be passed as keyword.\n",
      "    \n",
      "    data : indexable object, optional\n",
      "        An object with labelled data. If given, provide the label names to\n",
      "        plot in *x* and *y*.\n",
      "    \n",
      "        .. note::\n",
      "            Technically there's a slight ambiguity in calls where the\n",
      "            second label is a valid *fmt*. ``plot('n', 'o', data=obj)``\n",
      "            could be ``plt(x, y)`` or ``plt(y, fmt)``. In such cases,\n",
      "            the former interpretation is chosen, but a warning is issued.\n",
      "            You may suppress the warning by adding an empty format string\n",
      "            ``plot('n', 'o', '', data=obj)``.\n",
      "    \n",
      "    Returns\n",
      "    -------\n",
      "    list of `.Line2D`\n",
      "        A list of lines representing the plotted data.\n",
      "    \n",
      "    Other Parameters\n",
      "    ----------------\n",
      "    scalex, scaley : bool, default: True\n",
      "        These parameters determine if the view limits are adapted to the\n",
      "        data limits. The values are passed on to `autoscale_view`.\n",
      "    \n",
      "    **kwargs : `.Line2D` properties, optional\n",
      "        *kwargs* are used to specify properties like a line label (for\n",
      "        auto legends), linewidth, antialiasing, marker face color.\n",
      "        Example::\n",
      "    \n",
      "        >>> plot([1, 2, 3], [1, 2, 3], 'go-', label='line 1', linewidth=2)\n",
      "        >>> plot([1, 2, 3], [1, 4, 9], 'rs', label='line 2')\n",
      "    \n",
      "        If you specify multiple lines with one plot call, the kwargs apply\n",
      "        to all those lines. In case the label object is iterable, each\n",
      "        element is used as labels for each set of data.\n",
      "    \n",
      "        Here is a list of available `.Line2D` properties:\n",
      "    \n",
      "        Properties:\n",
      "        agg_filter: a filter function, which takes a (m, n, 3) float array and a dpi value, and returns a (m, n, 3) array\n",
      "        alpha: scalar or None\n",
      "        animated: bool\n",
      "        antialiased or aa: bool\n",
      "        clip_box: `.Bbox`\n",
      "        clip_on: bool\n",
      "        clip_path: Patch or (Path, Transform) or None\n",
      "        color or c: color\n",
      "        dash_capstyle: `.CapStyle` or {'butt', 'projecting', 'round'}\n",
      "        dash_joinstyle: `.JoinStyle` or {'miter', 'round', 'bevel'}\n",
      "        dashes: sequence of floats (on/off ink in points) or (None, None)\n",
      "        data: (2, N) array or two 1D arrays\n",
      "        drawstyle or ds: {'default', 'steps', 'steps-pre', 'steps-mid', 'steps-post'}, default: 'default'\n",
      "        figure: `.Figure`\n",
      "        fillstyle: {'full', 'left', 'right', 'bottom', 'top', 'none'}\n",
      "        gid: str\n",
      "        in_layout: bool\n",
      "        label: object\n",
      "        linestyle or ls: {'-', '--', '-.', ':', '', (offset, on-off-seq), ...}\n",
      "        linewidth or lw: float\n",
      "        marker: marker style string, `~.path.Path` or `~.markers.MarkerStyle`\n",
      "        markeredgecolor or mec: color\n",
      "        markeredgewidth or mew: float\n",
      "        markerfacecolor or mfc: color\n",
      "        markerfacecoloralt or mfcalt: color\n",
      "        markersize or ms: float\n",
      "        markevery: None or int or (int, int) or slice or list[int] or float or (float, float) or list[bool]\n",
      "        path_effects: `.AbstractPathEffect`\n",
      "        picker: float or callable[[Artist, Event], tuple[bool, dict]]\n",
      "        pickradius: float\n",
      "        rasterized: bool\n",
      "        sketch_params: (scale: float, length: float, randomness: float)\n",
      "        snap: bool or None\n",
      "        solid_capstyle: `.CapStyle` or {'butt', 'projecting', 'round'}\n",
      "        solid_joinstyle: `.JoinStyle` or {'miter', 'round', 'bevel'}\n",
      "        transform: unknown\n",
      "        url: str\n",
      "        visible: bool\n",
      "        xdata: 1D array\n",
      "        ydata: 1D array\n",
      "        zorder: float\n",
      "    \n",
      "    See Also\n",
      "    --------\n",
      "    scatter : XY scatter plot with markers of varying size and/or color (\n",
      "        sometimes also called bubble chart).\n",
      "    \n",
      "    Notes\n",
      "    -----\n",
      "    **Format Strings**\n",
      "    \n",
      "    A format string consists of a part for color, marker and line::\n",
      "    \n",
      "        fmt = '[marker][line][color]'\n",
      "    \n",
      "    Each of them is optional. If not provided, the value from the style\n",
      "    cycle is used. Exception: If ``line`` is given, but no ``marker``,\n",
      "    the data will be a line without markers.\n",
      "    \n",
      "    Other combinations such as ``[color][marker][line]`` are also\n",
      "    supported, but note that their parsing may be ambiguous.\n",
      "    \n",
      "    **Markers**\n",
      "    \n",
      "    =============   ===============================\n",
      "    character       description\n",
      "    =============   ===============================\n",
      "    ``'.'``         point marker\n",
      "    ``','``         pixel marker\n",
      "    ``'o'``         circle marker\n",
      "    ``'v'``         triangle_down marker\n",
      "    ``'^'``         triangle_up marker\n",
      "    ``'<'``         triangle_left marker\n",
      "    ``'>'``         triangle_right marker\n",
      "    ``'1'``         tri_down marker\n",
      "    ``'2'``         tri_up marker\n",
      "    ``'3'``         tri_left marker\n",
      "    ``'4'``         tri_right marker\n",
      "    ``'8'``         octagon marker\n",
      "    ``'s'``         square marker\n",
      "    ``'p'``         pentagon marker\n",
      "    ``'P'``         plus (filled) marker\n",
      "    ``'*'``         star marker\n",
      "    ``'h'``         hexagon1 marker\n",
      "    ``'H'``         hexagon2 marker\n",
      "    ``'+'``         plus marker\n",
      "    ``'x'``         x marker\n",
      "    ``'X'``         x (filled) marker\n",
      "    ``'D'``         diamond marker\n",
      "    ``'d'``         thin_diamond marker\n",
      "    ``'|'``         vline marker\n",
      "    ``'_'``         hline marker\n",
      "    =============   ===============================\n",
      "    \n",
      "    **Line Styles**\n",
      "    \n",
      "    =============    ===============================\n",
      "    character        description\n",
      "    =============    ===============================\n",
      "    ``'-'``          solid line style\n",
      "    ``'--'``         dashed line style\n",
      "    ``'-.'``         dash-dot line style\n",
      "    ``':'``          dotted line style\n",
      "    =============    ===============================\n",
      "    \n",
      "    Example format strings::\n",
      "    \n",
      "        'b'    # blue markers with default shape\n",
      "        'or'   # red circles\n",
      "        '-g'   # green solid line\n",
      "        '--'   # dashed line with default color\n",
      "        '^k:'  # black triangle_up markers connected by a dotted line\n",
      "    \n",
      "    **Colors**\n",
      "    \n",
      "    The supported color abbreviations are the single letter codes\n",
      "    \n",
      "    =============    ===============================\n",
      "    character        color\n",
      "    =============    ===============================\n",
      "    ``'b'``          blue\n",
      "    ``'g'``          green\n",
      "    ``'r'``          red\n",
      "    ``'c'``          cyan\n",
      "    ``'m'``          magenta\n",
      "    ``'y'``          yellow\n",
      "    ``'k'``          black\n",
      "    ``'w'``          white\n",
      "    =============    ===============================\n",
      "    \n",
      "    and the ``'CN'`` colors that index into the default property cycle.\n",
      "    \n",
      "    If the color is the only part of the format string, you can\n",
      "    additionally use any  `matplotlib.colors` spec, e.g. full names\n",
      "    (``'green'``) or hex strings (``'#008000'``).\n",
      "\n"
     ]
    }
   ],
   "source": [
    "help(plt.plot)"
   ]
  },
  {
   "cell_type": "code",
   "execution_count": 79,
   "id": "77edc842",
   "metadata": {},
   "outputs": [],
   "source": [
    "x1 = 1\n",
    "x2 = 1.000000001\n",
    "delta_x = x2-x1\n",
    "delta_y = F(a,b,c, x2) - F(a,b,c, x1)"
   ]
  },
  {
   "cell_type": "code",
   "execution_count": 80,
   "id": "7b2a81d6",
   "metadata": {},
   "outputs": [],
   "source": [
    "# f ~ dy/dx = (F(x2) - F(x1))/(x2 - x1)"
   ]
  },
  {
   "cell_type": "code",
   "execution_count": 82,
   "id": "12bcd531",
   "metadata": {},
   "outputs": [],
   "source": [
    "def get_f(x1): \n",
    "    # x1 = 1\n",
    "    x2 = x1 + .0001\n",
    "    delta_x = x2-x1\n",
    "    delta_y = F(a,b,c, x2) - F(a,b,c, x1)\n",
    "    return delta_y/delta_x"
   ]
  },
  {
   "cell_type": "code",
   "execution_count": 83,
   "id": "4755191c",
   "metadata": {},
   "outputs": [
    {
     "data": {
      "text/plain": [
       "[<matplotlib.lines.Line2D at 0x7fc154a84970>]"
      ]
     },
     "execution_count": 83,
     "metadata": {},
     "output_type": "execute_result"
    },
    {
     "data": {
      "image/png": "[encoded data removed]",
      "text/plain": [
       "<Figure size 432x288 with 1 Axes>"
      ]
     },
     "metadata": {
      "needs_background": "light"
     },
     "output_type": "display_data"
    }
   ],
   "source": [
    "plt.plot(x, F(a,b,c,x))\n",
    "plt.vlines(x1, ymin=min(F(a,b,c,x)), ymax=max(F(a,b,c,x)), color=\"red\", linestyles=\"--\")\n",
    "plt.vlines(x2, ymin=min(F(a,b,c,x)), ymax=max(F(a,b,c,x)), color=\"red\", linestyles=\"--\")\n",
    "plt.hlines(F(a,b,c,x2), xmin=min(x), xmax=max(x), color=\"red\", linestyles=\"--\")\n",
    "plt.plot(x, f(a,b,c,x), color=\"green\")\n",
    "plt.plot(x, get_f(x), color=\"orange\", linestyle=\"--\")"
   ]
  },
  {
   "cell_type": "code",
   "execution_count": 84,
   "id": "5db1256a",
   "metadata": {},
   "outputs": [
    {
     "data": {
      "text/plain": [
       "0.0"
      ]
     },
     "execution_count": 84,
     "metadata": {},
     "output_type": "execute_result"
    }
   ],
   "source": [
    "delta_y/delta_x  # тангенс угла наклона гипотенузы, который не сильно далеко (чем ближе x1 к x2 тем ближе) от \n",
    "# тангенса угла наклона касательно - что численно равно значению производной"
   ]
  },
  {
   "cell_type": "code",
   "execution_count": null,
   "id": "68c1aecb",
   "metadata": {},
   "outputs": [],
   "source": []
  },
  {
   "cell_type": "code",
   "execution_count": null,
   "id": "87ec338e",
   "metadata": {},
   "outputs": [],
   "source": []
  },
  {
   "cell_type": "markdown",
   "id": "941eb910",
   "metadata": {},
   "source": [
    "# Интегририрование"
   ]
  },
  {
   "cell_type": "code",
   "execution_count": 86,
   "id": "bd0ab5e4",
   "metadata": {},
   "outputs": [],
   "source": [
    "def f(a,b,c,x):\n",
    "    return 2*a*x + b"
   ]
  },
  {
   "cell_type": "code",
   "execution_count": 87,
   "id": "6d987d4c",
   "metadata": {},
   "outputs": [],
   "source": [
    "x = np.arange(-10, 10, 0.01)\n",
    "\n",
    "# F(x0)"
   ]
  },
  {
   "cell_type": "code",
   "execution_count": 88,
   "id": "cb9da84c",
   "metadata": {},
   "outputs": [],
   "source": [
    "a,b,c = -1, 2,10"
   ]
  },
  {
   "cell_type": "code",
   "execution_count": 89,
   "id": "5e1552b2",
   "metadata": {},
   "outputs": [
    {
     "data": {
      "text/plain": [
       "[<matplotlib.lines.Line2D at 0x7fc154a7bee0>]"
      ]
     },
     "execution_count": 89,
     "metadata": {},
     "output_type": "execute_result"
    },
    {
     "data": {
      "image/png": "[encoded data removed]",
      "text/plain": [
       "<Figure size 432x288 with 1 Axes>"
      ]
     },
     "metadata": {
      "needs_background": "light"
     },
     "output_type": "display_data"
    }
   ],
   "source": [
    "plt.plot(x, f(a,b,c,x), color=\"green\")"
   ]
  },
  {
   "cell_type": "code",
   "execution_count": null,
   "id": "53841517",
   "metadata": {},
   "outputs": [],
   "source": [
    "# f ~ dy/dx\n",
    "# f*dx = dy = F(x2) - F(x1) => F(x2) = F(x1) + f*dx"
   ]
  },
  {
   "cell_type": "code",
   "execution_count": 90,
   "id": "ea846b9d",
   "metadata": {},
   "outputs": [],
   "source": [
    "dx = 0.000001\n",
    "dy = f(a,b,c,x)*dx  # F(x2) - F(x1)"
   ]
  },
  {
   "cell_type": "code",
   "execution_count": 95,
   "id": "3581ecbb",
   "metadata": {},
   "outputs": [],
   "source": [
    "x0 = -10\n",
    "Fx0 = -110  # y0\n",
    "y0 = Fx0"
   ]
  },
  {
   "cell_type": "code",
   "execution_count": 101,
   "id": "77c20003",
   "metadata": {},
   "outputs": [
    {
     "data": {
      "text/plain": [
       "19990000"
      ]
     },
     "execution_count": 101,
     "metadata": {},
     "output_type": "execute_result"
    }
   ],
   "source": [
    "round((max(x)-min(x))/dx)"
   ]
  },
  {
   "cell_type": "code",
   "execution_count": 102,
   "id": "5e5c45b4",
   "metadata": {},
   "outputs": [],
   "source": [
    "x1_list = []\n",
    "y1_list = []\n",
    "for i in range(round((max(x)-min(x))/dx)):\n",
    "    x1 = x0 + dx\n",
    "    y1 = y0 + f(a,b,c,x0) * dx\n",
    "    x1_list.append(x1)\n",
    "    y1_list.append(y1)\n",
    "    \n",
    "    x0 = x1\n",
    "    y0 = y1"
   ]
  },
  {
   "cell_type": "code",
   "execution_count": 103,
   "id": "a9f22498",
   "metadata": {},
   "outputs": [
    {
     "data": {
      "text/plain": [
       "[<matplotlib.lines.Line2D at 0x7fc15499bc10>]"
      ]
     },
     "execution_count": 103,
     "metadata": {},
     "output_type": "execute_result"
    },
    {
     "data": {
      "image/png": "[encoded data removed]",
      "text/plain": [
       "<Figure size 432x288 with 1 Axes>"
      ]
     },
     "metadata": {
      "needs_background": "light"
     },
     "output_type": "display_data"
    }
   ],
   "source": [
    "plt.plot(x1_list, y1_list)"
   ]
  },
  {
   "cell_type": "markdown",
   "id": "ba49f597",
   "metadata": {},
   "source": [
    "#  Разбор примера"
   ]
  },
  {
   "cell_type": "markdown",
   "id": "efa16dac",
   "metadata": {},
   "source": [
    "https://infourok.ru/biologicheskie-modeli-razvitiya-populyacii-model-tipa-hischnik-zhertva-3859300.html"
   ]
  },
  {
   "cell_type": "code",
   "execution_count": null,
   "id": "34d8b8ab",
   "metadata": {},
   "outputs": [],
   "source": [
    "x`(t) = dx/dt = ax - bxy\n",
    "y`(t) = dy/dt = -cy + dxy\n",
    "\n",
    "a=1\n",
    "b=1\n",
    "c=0.3\n",
    "d=0.3\n",
    "\n",
    "x(t0) = 0.5\n",
    "y(t0) = 0.4\n",
    "\n",
    "\n",
    "dx = (ax - bxy)*dt\n",
    "dy = (-cy + dxy)*dt\n",
    "\n",
    "x(t1) - x(t0) = (a*x(t0) - b*x(t0)*y(t0))*(t1 - t0)\n",
    "y(t1) - y(t0) = (-c*y(t0) + d*x(t0)*y(t0))*(t1 - t0)\n",
    "\n",
    "t0 = 0\n",
    "dt = 0.001\n",
    "t1 = t0 + dt\n",
    "# t1 - t0 = dt\n",
    "\n",
    "x(t1) = (a*x(t0) - b*x(t0)*y(t0))*dt + x(t0)\n",
    "y(t1) = (-c*y(t0) + d*x(t0)*y(t0))*dt + y(t0)\n",
    "\n",
    "\n",
    "x(t2) = (a*x(t1) - b*x(t1)*y(t1))*dt + x(t1)\n",
    "y(t2) = (-c*y(t1) + d*x(t1)*y(t1))*dt + y(t1)\n",
    "\n",
    "# ит д\n",
    "\n",
    "x(t) \n",
    "y(t)"
   ]
  },
  {
   "cell_type": "code",
   "execution_count": 118,
   "id": "9a7d19a6",
   "metadata": {},
   "outputs": [],
   "source": [
    "a=1\n",
    "b=1\n",
    "c=0.3\n",
    "d=0.3\n",
    "\n",
    "def fx(a,b,x,y):\n",
    "    return a*x - b*x*y\n",
    "\n",
    "def fy(c,d,x,y):\n",
    "    return -c*y + d*x*y\n",
    "\n",
    "t1_list = []\n",
    "x1_list = []\n",
    "y1_list = []\n",
    "dt = 0.001\n",
    "x0 = 0.5\n",
    "y0 = 0.4\n",
    "t0 = 0\n",
    "\n",
    "for i in range(1000000):\n",
    "    t1 = t0 + dt\n",
    "    x1 = x0 + fx(a,b,x0,y0) * dt\n",
    "    y1 = y0 + fy(c,d, x0,y0) * dt\n",
    "\n",
    "    t1_list.append(t1)\n",
    "    x1_list.append(x1)\n",
    "    y1_list.append(y1)\n",
    "    \n",
    "    t0 = t1\n",
    "    x0 = x1\n",
    "    y0 = y1"
   ]
  },
  {
   "cell_type": "code",
   "execution_count": 119,
   "id": "a96c7713",
   "metadata": {},
   "outputs": [
    {
     "data": {
      "text/plain": [
       "[<matplotlib.lines.Line2D at 0x7fc14eb48520>]"
      ]
     },
     "execution_count": 119,
     "metadata": {},
     "output_type": "execute_result"
    },
    {
     "data": {
      "image/png": "[encoded data removed]",
      "text/plain": [
       "<Figure size 432x288 with 1 Axes>"
      ]
     },
     "metadata": {
      "needs_background": "light"
     },
     "output_type": "display_data"
    }
   ],
   "source": [
    "plt.plot(t1_list, x1_list)\n",
    "plt.plot(t1_list, y1_list)"
   ]
  },
  {
   "cell_type": "code",
   "execution_count": 120,
   "id": "2f694eb8",
   "metadata": {},
   "outputs": [
    {
     "data": {
      "text/plain": [
       "[<matplotlib.lines.Line2D at 0x7fc14ebb17e0>]"
      ]
     },
     "execution_count": 120,
     "metadata": {},
     "output_type": "execute_result"
    },
    {
     "data": {
      "image/png": "[encoded data removed]",
      "text/plain": [
       "<Figure size 432x288 with 1 Axes>"
      ]
     },
     "metadata": {
      "needs_background": "light"
     },
     "output_type": "display_data"
    }
   ],
   "source": [
    "plt.plot(x1_list, y1_list)"
   ]
  },
  {
   "cell_type": "code",
   "execution_count": null,
   "id": "b08f56bb",
   "metadata": {},
   "outputs": [],
   "source": []
  }
 ],
 "metadata": {
  "kernelspec": {
   "display_name": "Python 3",
   "language": "python",
   "name": "python3"
  },
  "language_info": {
   "codemirror_mode": {
    "name": "ipython",
    "version": 3
   },
   "file_extension": ".py",
   "mimetype": "text/x-python",
   "name": "python",
   "nbconvert_exporter": "python",
   "pygments_lexer": "ipython3",
   "version": "3.10.6"
  }
 },
 "nbformat": 4,
 "nbformat_minor": 5
}

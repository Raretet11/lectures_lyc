{
 "cells": [
  {
   "cell_type": "code",
   "execution_count": 1,
   "id": "986f6a3b",
   "metadata": {},
   "outputs": [
    {
     "name": "stdout",
     "output_type": "stream",
     "text": [
      "1\n"
     ]
    }
   ],
   "source": [
    "if 1:\n",
    "    print(1)"
   ]
  },
  {
   "cell_type": "code",
   "execution_count": 2,
   "id": "b3ec7adc",
   "metadata": {},
   "outputs": [
    {
     "name": "stdout",
     "output_type": "stream",
     "text": [
      "1\n"
     ]
    }
   ],
   "source": [
    "a = 1\n",
    "\n",
    "if a:\n",
    "    print(a)"
   ]
  },
  {
   "cell_type": "code",
   "execution_count": 3,
   "id": "758ca674",
   "metadata": {},
   "outputs": [
    {
     "data": {
      "text/plain": [
       "True"
      ]
     },
     "execution_count": 3,
     "metadata": {},
     "output_type": "execute_result"
    }
   ],
   "source": [
    "bool(1)"
   ]
  },
  {
   "cell_type": "code",
   "execution_count": 4,
   "id": "6782c295",
   "metadata": {},
   "outputs": [
    {
     "data": {
      "text/plain": [
       "True"
      ]
     },
     "execution_count": 4,
     "metadata": {},
     "output_type": "execute_result"
    }
   ],
   "source": [
    "bool(\"d\")"
   ]
  },
  {
   "cell_type": "code",
   "execution_count": 5,
   "id": "a3244539",
   "metadata": {},
   "outputs": [
    {
     "data": {
      "text/plain": [
       "False"
      ]
     },
     "execution_count": 5,
     "metadata": {},
     "output_type": "execute_result"
    }
   ],
   "source": [
    "bool(\"\")"
   ]
  },
  {
   "cell_type": "code",
   "execution_count": 7,
   "id": "74eb284a",
   "metadata": {},
   "outputs": [],
   "source": [
    "if \"\":\n",
    "    print(1)"
   ]
  },
  {
   "cell_type": "code",
   "execution_count": 11,
   "id": "ea39fff9",
   "metadata": {},
   "outputs": [
    {
     "data": {
      "text/plain": [
       "(False, False, False, False, False, False, False)"
      ]
     },
     "execution_count": 11,
     "metadata": {},
     "output_type": "execute_result"
    }
   ],
   "source": [
    "bool([]), bool(()), bool({}), bool(\"\"), bool(''), bool(0), bool(set())"
   ]
  },
  {
   "cell_type": "code",
   "execution_count": null,
   "id": "c2aac762",
   "metadata": {},
   "outputs": [],
   "source": []
  },
  {
   "cell_type": "code",
   "execution_count": null,
   "id": "029cd927",
   "metadata": {},
   "outputs": [],
   "source": [
    "addr1: _\n",
    "addr2: _\n",
    "\n",
    "\n"
   ]
  },
  {
   "cell_type": "code",
   "execution_count": null,
   "id": "8e50763a",
   "metadata": {},
   "outputs": [],
   "source": [
    "a = 1\n",
    "a = [1,2,3]"
   ]
  },
  {
   "cell_type": "code",
   "execution_count": null,
   "id": "f2fce260",
   "metadata": {},
   "outputs": [],
   "source": []
  },
  {
   "cell_type": "code",
   "execution_count": 37,
   "id": "c2429a7c",
   "metadata": {},
   "outputs": [
    {
     "data": {
      "text/plain": [
       "(1, 2, 3, True, 'asfasdf', [1, 2, 3])"
      ]
     },
     "execution_count": 37,
     "metadata": {},
     "output_type": "execute_result"
    }
   ],
   "source": [
    "a = [1,2,3]\n",
    "a_tuple = (1,2,3, True, \"asfasdf\", a)\n",
    "a_tuple"
   ]
  },
  {
   "cell_type": "code",
   "execution_count": 36,
   "id": "8fb602bd",
   "metadata": {},
   "outputs": [
    {
     "data": {
      "text/plain": [
       "5"
      ]
     },
     "execution_count": 36,
     "metadata": {},
     "output_type": "execute_result"
    }
   ],
   "source": [
    "a_tuple[-1]"
   ]
  },
  {
   "cell_type": "code",
   "execution_count": 38,
   "id": "825b6bab",
   "metadata": {},
   "outputs": [
    {
     "data": {
      "text/plain": [
       "(1, 2, 3, True, 'asfasdf', [1, 2, 3])"
      ]
     },
     "execution_count": 38,
     "metadata": {},
     "output_type": "execute_result"
    }
   ],
   "source": [
    "a = 9\n",
    "a_tuple"
   ]
  },
  {
   "cell_type": "code",
   "execution_count": 39,
   "id": "f35bb540",
   "metadata": {},
   "outputs": [],
   "source": [
    "a_tuple[5].append(4)"
   ]
  },
  {
   "cell_type": "code",
   "execution_count": 40,
   "id": "7a43103e",
   "metadata": {},
   "outputs": [
    {
     "data": {
      "text/plain": [
       "(1, 2, 3, True, 'asfasdf', [1, 2, 3, 4])"
      ]
     },
     "execution_count": 40,
     "metadata": {},
     "output_type": "execute_result"
    }
   ],
   "source": [
    "a_tuple"
   ]
  },
  {
   "cell_type": "code",
   "execution_count": 18,
   "id": "c19850fd",
   "metadata": {},
   "outputs": [
    {
     "ename": "TypeError",
     "evalue": "'tuple' object does not support item assignment",
     "output_type": "error",
     "traceback": [
      "\u001b[0;31m---------------------------------------------------------------------------\u001b[0m",
      "\u001b[0;31mTypeError\u001b[0m                                 Traceback (most recent call last)",
      "\u001b[0;32m/tmp/ipykernel_4120845/3308659481.py\u001b[0m in \u001b[0;36m<module>\u001b[0;34m\u001b[0m\n\u001b[0;32m----> 1\u001b[0;31m \u001b[0ma_tuple\u001b[0m\u001b[0;34m[\u001b[0m\u001b[0;36m2\u001b[0m\u001b[0;34m]\u001b[0m \u001b[0;34m=\u001b[0m \u001b[0;36m5\u001b[0m\u001b[0;34m\u001b[0m\u001b[0;34m\u001b[0m\u001b[0m\n\u001b[0m",
      "\u001b[0;31mTypeError\u001b[0m: 'tuple' object does not support item assignment"
     ]
    }
   ],
   "source": [
    "a_tuple[2] = 5"
   ]
  },
  {
   "cell_type": "code",
   "execution_count": 19,
   "id": "6e3e8cb7",
   "metadata": {},
   "outputs": [],
   "source": [
    "a_list = [1, 2, 3, True, \"asdfa\", a, [1,2,3], {1:2}]"
   ]
  },
  {
   "cell_type": "code",
   "execution_count": 20,
   "id": "9371e230",
   "metadata": {},
   "outputs": [
    {
     "data": {
      "text/plain": [
       "[1, 5, 3, True, 'asdfa', [4], [1, 2, 3], {1: 2}]"
      ]
     },
     "execution_count": 20,
     "metadata": {},
     "output_type": "execute_result"
    }
   ],
   "source": [
    "a_list[1] = 5\n",
    "a_list"
   ]
  },
  {
   "cell_type": "code",
   "execution_count": 29,
   "id": "c59863b5",
   "metadata": {},
   "outputs": [
    {
     "data": {
      "text/plain": [
       "[1,\n",
       " 5,\n",
       " 3,\n",
       " True,\n",
       " 'asdfa',\n",
       " [4],\n",
       " [1, 2, 3],\n",
       " {1: 2},\n",
       " 10,\n",
       " 10,\n",
       " 10,\n",
       " 10,\n",
       " 10,\n",
       " 10,\n",
       " 12,\n",
       " 20]"
      ]
     },
     "execution_count": 29,
     "metadata": {},
     "output_type": "execute_result"
    }
   ],
   "source": [
    "a_list.append(20)\n",
    "a_list"
   ]
  },
  {
   "cell_type": "code",
   "execution_count": 22,
   "id": "89bd17cb",
   "metadata": {},
   "outputs": [
    {
     "data": {
      "text/plain": [
       "[1, 5, 3, True, 'asdfa', [4], [1, 2, 3], {1: 2}, 10]"
      ]
     },
     "execution_count": 22,
     "metadata": {},
     "output_type": "execute_result"
    }
   ],
   "source": [
    "a_list"
   ]
  },
  {
   "cell_type": "code",
   "execution_count": 41,
   "id": "03a65d15",
   "metadata": {},
   "outputs": [
    {
     "name": "stdout",
     "output_type": "stream",
     "text": [
      "[]\n",
      "[1, 2, 3]\n"
     ]
    }
   ],
   "source": [
    "a_list = []\n",
    "print(a_list)\n",
    "a_list = [1,2,3]\n",
    "print(a_list)"
   ]
  },
  {
   "cell_type": "code",
   "execution_count": 42,
   "id": "f1a61044",
   "metadata": {},
   "outputs": [
    {
     "data": {
      "text/plain": [
       "[1, (1, 2, 3), [1, 1, 1], [[1, [2, [2, [3]]]], {}, set(), 'asdfasdf']]"
      ]
     },
     "execution_count": 42,
     "metadata": {},
     "output_type": "execute_result"
    }
   ],
   "source": [
    "a_list = [1,(1,2,3), [1,1,1], [[1,[2,[2,[3,]]]], {}, set(), \"asdfasdf\"]]\n",
    "a_list"
   ]
  },
  {
   "cell_type": "code",
   "execution_count": 43,
   "id": "63812878",
   "metadata": {},
   "outputs": [
    {
     "data": {
      "text/plain": [
       "4"
      ]
     },
     "execution_count": 43,
     "metadata": {},
     "output_type": "execute_result"
    }
   ],
   "source": [
    "len(a_list)"
   ]
  },
  {
   "cell_type": "code",
   "execution_count": 45,
   "id": "59ed5b1c",
   "metadata": {},
   "outputs": [
    {
     "data": {
      "text/plain": [
       "1"
      ]
     },
     "execution_count": 45,
     "metadata": {},
     "output_type": "execute_result"
    }
   ],
   "source": [
    "a_list[0]"
   ]
  },
  {
   "cell_type": "code",
   "execution_count": 46,
   "id": "2b5f318c",
   "metadata": {},
   "outputs": [
    {
     "data": {
      "text/plain": [
       "(1, 2, 3)"
      ]
     },
     "execution_count": 46,
     "metadata": {},
     "output_type": "execute_result"
    }
   ],
   "source": [
    "a_list[1]"
   ]
  },
  {
   "cell_type": "code",
   "execution_count": 47,
   "id": "aa9ac542",
   "metadata": {},
   "outputs": [
    {
     "data": {
      "text/plain": [
       "[1, 1, 1]"
      ]
     },
     "execution_count": 47,
     "metadata": {},
     "output_type": "execute_result"
    }
   ],
   "source": [
    "a_list[2]"
   ]
  },
  {
   "cell_type": "code",
   "execution_count": 48,
   "id": "8493a719",
   "metadata": {},
   "outputs": [
    {
     "data": {
      "text/plain": [
       "[[1, [2, [2, [3]]]], {}, set(), 'asdfasdf']"
      ]
     },
     "execution_count": 48,
     "metadata": {},
     "output_type": "execute_result"
    }
   ],
   "source": [
    "a_list[3]"
   ]
  },
  {
   "cell_type": "code",
   "execution_count": 49,
   "id": "72fe0657",
   "metadata": {},
   "outputs": [
    {
     "data": {
      "text/plain": [
       "4"
      ]
     },
     "execution_count": 49,
     "metadata": {},
     "output_type": "execute_result"
    }
   ],
   "source": [
    "len(a_list[3])"
   ]
  },
  {
   "cell_type": "code",
   "execution_count": 54,
   "id": "a131e566",
   "metadata": {},
   "outputs": [
    {
     "ename": "IndexError",
     "evalue": "list index out of range",
     "output_type": "error",
     "traceback": [
      "\u001b[0;31m---------------------------------------------------------------------------\u001b[0m",
      "\u001b[0;31mIndexError\u001b[0m                                Traceback (most recent call last)",
      "\u001b[0;32m/tmp/ipykernel_4120845/3907552109.py\u001b[0m in \u001b[0;36m<module>\u001b[0;34m\u001b[0m\n\u001b[0;32m----> 1\u001b[0;31m \u001b[0ma_list\u001b[0m\u001b[0;34m[\u001b[0m\u001b[0;36m3\u001b[0m\u001b[0;34m]\u001b[0m\u001b[0;34m[\u001b[0m\u001b[0;36m0\u001b[0m\u001b[0;34m]\u001b[0m\u001b[0;34m[\u001b[0m\u001b[0;36m2\u001b[0m\u001b[0;34m]\u001b[0m\u001b[0;34m\u001b[0m\u001b[0;34m\u001b[0m\u001b[0m\n\u001b[0m",
      "\u001b[0;31mIndexError\u001b[0m: list index out of range"
     ]
    }
   ],
   "source": [
    "a_list[3][0][2]"
   ]
  },
  {
   "cell_type": "code",
   "execution_count": 55,
   "id": "e0c57528",
   "metadata": {},
   "outputs": [
    {
     "data": {
      "text/plain": [
       "[1, 2, 3]"
      ]
     },
     "execution_count": 55,
     "metadata": {},
     "output_type": "execute_result"
    }
   ],
   "source": [
    "a_list = [1,2,3]\n",
    "a_list"
   ]
  },
  {
   "cell_type": "code",
   "execution_count": 56,
   "id": "e98a1c71",
   "metadata": {},
   "outputs": [
    {
     "data": {
      "text/plain": [
       "[1, 2, 3, 4]"
      ]
     },
     "execution_count": 56,
     "metadata": {},
     "output_type": "execute_result"
    }
   ],
   "source": [
    "a_list.append(4)\n",
    "a_list"
   ]
  },
  {
   "cell_type": "code",
   "execution_count": 57,
   "id": "dd6d7471",
   "metadata": {},
   "outputs": [
    {
     "data": {
      "text/plain": [
       "[]"
      ]
     },
     "execution_count": 57,
     "metadata": {},
     "output_type": "execute_result"
    }
   ],
   "source": [
    "a_list.clear()\n",
    "a_list"
   ]
  },
  {
   "cell_type": "code",
   "execution_count": 58,
   "id": "9a61147b",
   "metadata": {},
   "outputs": [
    {
     "data": {
      "text/plain": [
       "[1, 2, 3]"
      ]
     },
     "execution_count": 58,
     "metadata": {},
     "output_type": "execute_result"
    }
   ],
   "source": [
    "a_list.extend([1,2,3])\n",
    "a_list"
   ]
  },
  {
   "cell_type": "code",
   "execution_count": 60,
   "id": "f30124ca",
   "metadata": {},
   "outputs": [
    {
     "data": {
      "text/plain": [
       "[1, 2, 3, 5, 6, 7]"
      ]
     },
     "execution_count": 60,
     "metadata": {},
     "output_type": "execute_result"
    }
   ],
   "source": [
    "a_list.extend([5,6,7])\n",
    "a_list"
   ]
  },
  {
   "cell_type": "code",
   "execution_count": 61,
   "id": "e6fe8dce",
   "metadata": {},
   "outputs": [
    {
     "data": {
      "text/plain": [
       "[1, 2, 3, 5, 6, 7, [10, 10, 10]]"
      ]
     },
     "execution_count": 61,
     "metadata": {},
     "output_type": "execute_result"
    }
   ],
   "source": [
    "a_list.append([10,10,10])\n",
    "a_list"
   ]
  },
  {
   "cell_type": "code",
   "execution_count": 62,
   "id": "f02fbaa4",
   "metadata": {},
   "outputs": [
    {
     "data": {
      "text/plain": [
       "[10, 10, 10]"
      ]
     },
     "execution_count": 62,
     "metadata": {},
     "output_type": "execute_result"
    }
   ],
   "source": [
    "a_list.pop()"
   ]
  },
  {
   "cell_type": "code",
   "execution_count": 68,
   "id": "a9bc8c6c",
   "metadata": {},
   "outputs": [],
   "source": [
    "a_list.insert(1, \"asdf\")"
   ]
  },
  {
   "cell_type": "code",
   "execution_count": 69,
   "id": "c1e7fb15",
   "metadata": {},
   "outputs": [
    {
     "data": {
      "text/plain": [
       "[1, 'asdf', 2, 3, 5, 6, 7]"
      ]
     },
     "execution_count": 69,
     "metadata": {},
     "output_type": "execute_result"
    }
   ],
   "source": [
    "a_list"
   ]
  },
  {
   "cell_type": "code",
   "execution_count": 70,
   "id": "f34e8fd4",
   "metadata": {},
   "outputs": [
    {
     "data": {
      "text/plain": [
       "[1, 'asdf', 2, 3, 5, 6, 7]"
      ]
     },
     "execution_count": 70,
     "metadata": {},
     "output_type": "execute_result"
    }
   ],
   "source": [
    "b = a_list.copy()\n",
    "b"
   ]
  },
  {
   "cell_type": "code",
   "execution_count": 71,
   "id": "ef195dd8",
   "metadata": {},
   "outputs": [
    {
     "data": {
      "text/plain": [
       "[1, 'asdf', 2, 3, 5, 6, 'a']"
      ]
     },
     "execution_count": 71,
     "metadata": {},
     "output_type": "execute_result"
    }
   ],
   "source": [
    "a_list[-1] = \"a\"\n",
    "a_list"
   ]
  },
  {
   "cell_type": "code",
   "execution_count": 72,
   "id": "0e5cf0f4",
   "metadata": {},
   "outputs": [
    {
     "data": {
      "text/plain": [
       "[1, 'asdf', 2, 3, 5, 6, 7]"
      ]
     },
     "execution_count": 72,
     "metadata": {},
     "output_type": "execute_result"
    }
   ],
   "source": [
    "b"
   ]
  },
  {
   "cell_type": "code",
   "execution_count": 74,
   "id": "c22fd652",
   "metadata": {},
   "outputs": [
    {
     "data": {
      "text/plain": [
       "[1, 'asdf', 2, 3, 5, 6, 'a']"
      ]
     },
     "execution_count": 74,
     "metadata": {},
     "output_type": "execute_result"
    }
   ],
   "source": [
    "a_list"
   ]
  },
  {
   "cell_type": "code",
   "execution_count": 75,
   "id": "fd8bc73f",
   "metadata": {},
   "outputs": [],
   "source": [
    "a_list.append(2)\n",
    "a_list.append(5)\n",
    "a_list.append(5)"
   ]
  },
  {
   "cell_type": "code",
   "execution_count": 77,
   "id": "88c4a454",
   "metadata": {},
   "outputs": [
    {
     "data": {
      "text/plain": [
       "[1, 'asdf', 2, 3, 5, 6, 'a', 2, 5, 5]"
      ]
     },
     "execution_count": 77,
     "metadata": {},
     "output_type": "execute_result"
    }
   ],
   "source": [
    "a_list"
   ]
  },
  {
   "cell_type": "code",
   "execution_count": 78,
   "id": "0d6c0cf3",
   "metadata": {},
   "outputs": [
    {
     "data": {
      "text/plain": [
       "2"
      ]
     },
     "execution_count": 78,
     "metadata": {},
     "output_type": "execute_result"
    }
   ],
   "source": [
    "a_list.count(2)"
   ]
  },
  {
   "cell_type": "code",
   "execution_count": 79,
   "id": "7a4a483f",
   "metadata": {},
   "outputs": [
    {
     "data": {
      "text/plain": [
       "3"
      ]
     },
     "execution_count": 79,
     "metadata": {},
     "output_type": "execute_result"
    }
   ],
   "source": [
    "a_list.count(5)"
   ]
  },
  {
   "cell_type": "code",
   "execution_count": 80,
   "id": "bbf8795f",
   "metadata": {},
   "outputs": [
    {
     "data": {
      "text/plain": [
       "0"
      ]
     },
     "execution_count": 80,
     "metadata": {},
     "output_type": "execute_result"
    }
   ],
   "source": [
    "a_list.count(-1)"
   ]
  },
  {
   "cell_type": "code",
   "execution_count": 81,
   "id": "1d72496b",
   "metadata": {},
   "outputs": [
    {
     "data": {
      "text/plain": [
       "[1, 'asdf', 2, 3, 5, 6, 'a', 2, 5, 5]"
      ]
     },
     "execution_count": 81,
     "metadata": {},
     "output_type": "execute_result"
    }
   ],
   "source": [
    "a_list"
   ]
  },
  {
   "cell_type": "code",
   "execution_count": 82,
   "id": "7ea1ec23",
   "metadata": {},
   "outputs": [],
   "source": [
    "a_list.remove(\"a\")"
   ]
  },
  {
   "cell_type": "code",
   "execution_count": 83,
   "id": "badc8c00",
   "metadata": {},
   "outputs": [
    {
     "data": {
      "text/plain": [
       "[1, 'asdf', 2, 3, 5, 6, 2, 5, 5]"
      ]
     },
     "execution_count": 83,
     "metadata": {},
     "output_type": "execute_result"
    }
   ],
   "source": [
    "a_list"
   ]
  },
  {
   "cell_type": "code",
   "execution_count": 84,
   "id": "50b91d24",
   "metadata": {},
   "outputs": [],
   "source": [
    "a_list.reverse()"
   ]
  },
  {
   "cell_type": "code",
   "execution_count": 85,
   "id": "f0464af9",
   "metadata": {},
   "outputs": [
    {
     "data": {
      "text/plain": [
       "[5, 5, 2, 6, 5, 3, 2, 'asdf', 1]"
      ]
     },
     "execution_count": 85,
     "metadata": {},
     "output_type": "execute_result"
    }
   ],
   "source": [
    "a_list"
   ]
  },
  {
   "cell_type": "code",
   "execution_count": 86,
   "id": "36224b9c",
   "metadata": {},
   "outputs": [
    {
     "ename": "TypeError",
     "evalue": "'<' not supported between instances of 'str' and 'int'",
     "output_type": "error",
     "traceback": [
      "\u001b[0;31m---------------------------------------------------------------------------\u001b[0m",
      "\u001b[0;31mTypeError\u001b[0m                                 Traceback (most recent call last)",
      "\u001b[0;32m/tmp/ipykernel_4120845/1042120378.py\u001b[0m in \u001b[0;36m<module>\u001b[0;34m\u001b[0m\n\u001b[0;32m----> 1\u001b[0;31m \u001b[0ma_list\u001b[0m\u001b[0;34m.\u001b[0m\u001b[0msort\u001b[0m\u001b[0;34m(\u001b[0m\u001b[0;34m)\u001b[0m\u001b[0;34m\u001b[0m\u001b[0;34m\u001b[0m\u001b[0m\n\u001b[0m",
      "\u001b[0;31mTypeError\u001b[0m: '<' not supported between instances of 'str' and 'int'"
     ]
    }
   ],
   "source": [
    "a_list.sort()"
   ]
  },
  {
   "cell_type": "code",
   "execution_count": 87,
   "id": "d0ea40a1",
   "metadata": {},
   "outputs": [],
   "source": [
    "a_list.remove(\"asdf\")"
   ]
  },
  {
   "cell_type": "code",
   "execution_count": 88,
   "id": "f4c32e9f",
   "metadata": {},
   "outputs": [
    {
     "data": {
      "text/plain": [
       "[2, 2, 3, 5, 5, 5, 6, 1]"
      ]
     },
     "execution_count": 88,
     "metadata": {},
     "output_type": "execute_result"
    }
   ],
   "source": [
    "a_list"
   ]
  },
  {
   "cell_type": "code",
   "execution_count": 89,
   "id": "e31ae133",
   "metadata": {},
   "outputs": [],
   "source": [
    "a_list.sort()"
   ]
  },
  {
   "cell_type": "code",
   "execution_count": 90,
   "id": "36afed39",
   "metadata": {},
   "outputs": [
    {
     "data": {
      "text/plain": [
       "[1, 2, 2, 3, 5, 5, 5, 6]"
      ]
     },
     "execution_count": 90,
     "metadata": {},
     "output_type": "execute_result"
    }
   ],
   "source": [
    "a_list"
   ]
  },
  {
   "cell_type": "code",
   "execution_count": null,
   "id": "097bc7e5",
   "metadata": {},
   "outputs": [],
   "source": []
  },
  {
   "cell_type": "markdown",
   "id": "8e61ed7c",
   "metadata": {},
   "source": [
    "неизменяемы"
   ]
  },
  {
   "cell_type": "code",
   "execution_count": null,
   "id": "5b8f60ec",
   "metadata": {},
   "outputs": [],
   "source": [
    "1\n",
    "1.3\n",
    "True\n",
    "\"asdfa\"\n",
    "(1,2,3)\n",
    "frozenset()  "
   ]
  },
  {
   "cell_type": "markdown",
   "id": "56a26a3e",
   "metadata": {},
   "source": [
    "изменяемые"
   ]
  },
  {
   "cell_type": "code",
   "execution_count": null,
   "id": "f442c09e",
   "metadata": {},
   "outputs": [],
   "source": [
    "[]\n",
    "{}\n",
    "set()\n",
    "объекты классов"
   ]
  },
  {
   "cell_type": "code",
   "execution_count": null,
   "id": "09674dcd",
   "metadata": {},
   "outputs": [],
   "source": []
  },
  {
   "cell_type": "code",
   "execution_count": 93,
   "id": "089ede96",
   "metadata": {},
   "outputs": [],
   "source": [
    "a = [1,2,3,4]"
   ]
  },
  {
   "cell_type": "code",
   "execution_count": 94,
   "id": "7fbcb22c",
   "metadata": {},
   "outputs": [],
   "source": [
    "b = []\n",
    "for el in a:\n",
    "    b.append(el * el)"
   ]
  },
  {
   "cell_type": "code",
   "execution_count": 95,
   "id": "73376246",
   "metadata": {},
   "outputs": [
    {
     "name": "stdout",
     "output_type": "stream",
     "text": [
      "1\n",
      "4\n",
      "9\n",
      "16\n"
     ]
    }
   ],
   "source": [
    "for i in b:\n",
    "    print(i)"
   ]
  },
  {
   "cell_type": "code",
   "execution_count": 96,
   "id": "6ec4a13b",
   "metadata": {},
   "outputs": [
    {
     "data": {
      "text/plain": [
       "[0, 1, 2, 3, 4, 5, 6, 7, 8, 9]"
      ]
     },
     "execution_count": 96,
     "metadata": {},
     "output_type": "execute_result"
    }
   ],
   "source": []
  },
  {
   "cell_type": "code",
   "execution_count": 97,
   "id": "05c66754",
   "metadata": {},
   "outputs": [
    {
     "name": "stdout",
     "output_type": "stream",
     "text": [
      "5\n",
      "4\n",
      "3\n",
      "2\n",
      "1\n",
      "0\n",
      "-1\n",
      "-2\n",
      "-3\n",
      "-4\n"
     ]
    }
   ],
   "source": [
    "i = 5\n",
    "while i > -5:\n",
    "    print(i)\n",
    "    i -= 1"
   ]
  },
  {
   "cell_type": "code",
   "execution_count": null,
   "id": "5e68d984",
   "metadata": {},
   "outputs": [],
   "source": [
    "50, 20"
   ]
  },
  {
   "cell_type": "code",
   "execution_count": 107,
   "id": "c26f1a9d",
   "metadata": {},
   "outputs": [
    {
     "data": {
      "text/plain": [
       "10"
      ]
     },
     "execution_count": 107,
     "metadata": {},
     "output_type": "execute_result"
    }
   ],
   "source": [
    "50 % 20"
   ]
  },
  {
   "cell_type": "code",
   "execution_count": 108,
   "id": "e9a99f8c",
   "metadata": {},
   "outputs": [
    {
     "data": {
      "text/plain": [
       "0"
      ]
     },
     "execution_count": 108,
     "metadata": {},
     "output_type": "execute_result"
    }
   ],
   "source": [
    "20 % 10"
   ]
  },
  {
   "cell_type": "code",
   "execution_count": null,
   "id": "9e6f7cbd",
   "metadata": {},
   "outputs": [],
   "source": [
    "a1,b1\n",
    "\n",
    "a1 = b1 * s1 + k1\n",
    "a2 = b1\n",
    "b2 = k1\n",
    "a2 = b2 * s2 + k2"
   ]
  },
  {
   "cell_type": "code",
   "execution_count": null,
   "id": "9cc93405",
   "metadata": {},
   "outputs": [],
   "source": [
    "a1 > b1\n",
    "\n",
    "a1 // b1\n",
    "\n",
    "a1 = b1 * s1 + k1\n",
    "\n",
    "\n",
    "\n",
    "b1 // k1\n",
    "\n",
    "b1 = k1 * s2 + k2\n",
    "\n",
    "\n",
    "k1 // k2\n",
    "\n",
    "k1 = k2 * s3 + k3\n",
    "\n",
    "k2 // k3\n",
    "\n",
    "\n",
    "\n",
    "\n",
    "b1 = k2 * s3 * s2 + k2 = (s3 * s1 + 1) * k2\n",
    "\n",
    "a1 = (s3 * s1 + 1) * k2 * s1 + k2 * s3  =  ((s3 * s1 + 1) * s1 + s3) * k2\n",
    "\n",
    "\n",
    "a1 = k1 * s2 * s1 + k1 = (s2 * s1 + 1) * k1"
   ]
  },
  {
   "cell_type": "code",
   "execution_count": 124,
   "id": "e2cfc129",
   "metadata": {},
   "outputs": [
    {
     "data": {
      "text/plain": [
       "(3, 2)"
      ]
     },
     "execution_count": 124,
     "metadata": {},
     "output_type": "execute_result"
    }
   ],
   "source": [
    "a = 2\n",
    "b = 3\n",
    "\n",
    "a,b = b,a\n",
    "\n",
    "a,b"
   ]
  },
  {
   "cell_type": "code",
   "execution_count": 119,
   "id": "f9a45a13",
   "metadata": {},
   "outputs": [],
   "source": [
    "def nod(a, b):\n",
    "    if a < b:\n",
    "        a,b = b,a\n",
    "        \n",
    "    k = 1\n",
    "    while k > 0:\n",
    "        k = a % b\n",
    "        a,b = b,k\n",
    "        \n",
    "    return a"
   ]
  },
  {
   "cell_type": "code",
   "execution_count": 125,
   "id": "cc624a71",
   "metadata": {},
   "outputs": [
    {
     "data": {
      "text/plain": [
       "5"
      ]
     },
     "execution_count": 125,
     "metadata": {},
     "output_type": "execute_result"
    }
   ],
   "source": [
    "nod(25, 55)"
   ]
  },
  {
   "cell_type": "code",
   "execution_count": 126,
   "id": "c9660f0e",
   "metadata": {},
   "outputs": [
    {
     "data": {
      "text/plain": [
       "7"
      ]
     },
     "execution_count": 126,
     "metadata": {},
     "output_type": "execute_result"
    }
   ],
   "source": [
    "nod(49, 21)"
   ]
  },
  {
   "cell_type": "code",
   "execution_count": 127,
   "id": "6a736eec",
   "metadata": {},
   "outputs": [
    {
     "data": {
      "text/plain": [
       "4"
      ]
     },
     "execution_count": 127,
     "metadata": {},
     "output_type": "execute_result"
    }
   ],
   "source": [
    "nod(1024, 300)"
   ]
  },
  {
   "cell_type": "code",
   "execution_count": 128,
   "id": "f1e4597e",
   "metadata": {},
   "outputs": [
    {
     "data": {
      "text/plain": [
       "1"
      ]
     },
     "execution_count": 128,
     "metadata": {},
     "output_type": "execute_result"
    }
   ],
   "source": [
    "nod(3, 5)"
   ]
  },
  {
   "cell_type": "code",
   "execution_count": 140,
   "id": "265762b8",
   "metadata": {},
   "outputs": [
    {
     "data": {
      "text/plain": [
       "(56, 1)"
      ]
     },
     "execution_count": 140,
     "metadata": {},
     "output_type": "execute_result"
    }
   ],
   "source": [
    "a = 6\n",
    "b = 10\n",
    "c = 20\n",
    "d = 1\n",
    "\n",
    "def f(a,b,c):\n",
    "    d = 50\n",
    "    return a + b + c + d\n",
    "\n",
    "f(1,2,3),  d"
   ]
  },
  {
   "cell_type": "code",
   "execution_count": 148,
   "id": "bf265c46",
   "metadata": {},
   "outputs": [],
   "source": [
    "a = [-10, -20 ,-30 ,-40]"
   ]
  },
  {
   "cell_type": "code",
   "execution_count": null,
   "id": "bcd95a08",
   "metadata": {},
   "outputs": [],
   "source": []
  },
  {
   "cell_type": "code",
   "execution_count": 145,
   "id": "4a9f22fe",
   "metadata": {},
   "outputs": [
    {
     "name": "stdout",
     "output_type": "stream",
     "text": [
      "0 10\n",
      "1 20\n",
      "2 30\n",
      "3 40\n"
     ]
    }
   ],
   "source": [
    "for i, p in enumerate(a):\n",
    "    print(i, p)"
   ]
  },
  {
   "cell_type": "code",
   "execution_count": 146,
   "id": "17fdd79e",
   "metadata": {},
   "outputs": [
    {
     "name": "stdout",
     "output_type": "stream",
     "text": [
      "0 10\n",
      "1 20\n",
      "2 30\n",
      "3 40\n"
     ]
    }
   ],
   "source": [
    "for i in range(len(a)):\n",
    "    print(i, a[i])"
   ]
  },
  {
   "cell_type": "code",
   "execution_count": 151,
   "id": "d1077b98",
   "metadata": {},
   "outputs": [
    {
     "data": {
      "text/plain": [
       "-40"
      ]
     },
     "execution_count": 151,
     "metadata": {},
     "output_type": "execute_result"
    }
   ],
   "source": [
    "m = a[0]\n",
    "\n",
    "for el in a:\n",
    "    if m > el:\n",
    "        m = el\n",
    "m"
   ]
  },
  {
   "cell_type": "code",
   "execution_count": 162,
   "id": "046eb043",
   "metadata": {},
   "outputs": [
    {
     "name": "stdout",
     "output_type": "stream",
     "text": [
      "abcdabcdabaffad\n"
     ]
    },
    {
     "data": {
      "text/plain": [
       "['', 'bcd', 'bcd', 'b', 'ff', 'd']"
      ]
     },
     "execution_count": 162,
     "metadata": {},
     "output_type": "execute_result"
    }
   ],
   "source": [
    "input().split(\"a\")"
   ]
  },
  {
   "cell_type": "code",
   "execution_count": 160,
   "id": "28107fd4",
   "metadata": {},
   "outputs": [
    {
     "name": "stdout",
     "output_type": "stream",
     "text": [
      "2,3,4,5\n"
     ]
    }
   ],
   "source": [
    "a = []\n",
    "for el in input().split(\",\"):\n",
    "    a.append(int(el))"
   ]
  },
  {
   "cell_type": "code",
   "execution_count": 161,
   "id": "1fee44cb",
   "metadata": {},
   "outputs": [
    {
     "data": {
      "text/plain": [
       "[2, 3, 4, 5]"
      ]
     },
     "execution_count": 161,
     "metadata": {},
     "output_type": "execute_result"
    }
   ],
   "source": [
    "a"
   ]
  },
  {
   "cell_type": "code",
   "execution_count": 163,
   "id": "b31fec42",
   "metadata": {},
   "outputs": [],
   "source": [
    "b = ['', 'bcd', 'bcd', 'b', 'ff', 'd']"
   ]
  },
  {
   "cell_type": "code",
   "execution_count": 164,
   "id": "20c42788",
   "metadata": {},
   "outputs": [
    {
     "data": {
      "text/plain": [
       "['', 'bcd', 'bcd', 'b', 'ff', 'd']"
      ]
     },
     "execution_count": 164,
     "metadata": {},
     "output_type": "execute_result"
    }
   ],
   "source": [
    "b"
   ]
  },
  {
   "cell_type": "code",
   "execution_count": 169,
   "id": "210124d9",
   "metadata": {},
   "outputs": [
    {
     "data": {
      "text/plain": [
       "'2_3_4_5'"
      ]
     },
     "execution_count": 169,
     "metadata": {},
     "output_type": "execute_result"
    }
   ],
   "source": [
    "c = []\n",
    "for el in a:\n",
    "    c.append(str(el))\n",
    "\"_\".join(c)"
   ]
  },
  {
   "cell_type": "code",
   "execution_count": 179,
   "id": "7f5442f6",
   "metadata": {},
   "outputs": [],
   "source": [
    "a = [5,100, 1000, -2, 50, 1000, 75]"
   ]
  },
  {
   "cell_type": "code",
   "execution_count": 171,
   "id": "75d39ee8",
   "metadata": {},
   "outputs": [
    {
     "data": {
      "text/plain": [
       "-2"
      ]
     },
     "execution_count": 171,
     "metadata": {},
     "output_type": "execute_result"
    }
   ],
   "source": [
    "min(a)"
   ]
  },
  {
   "cell_type": "code",
   "execution_count": 172,
   "id": "8480c33d",
   "metadata": {},
   "outputs": [
    {
     "data": {
      "text/plain": [
       "1000"
      ]
     },
     "execution_count": 172,
     "metadata": {},
     "output_type": "execute_result"
    }
   ],
   "source": [
    "max(a)"
   ]
  },
  {
   "cell_type": "code",
   "execution_count": null,
   "id": "0ce293dc",
   "metadata": {},
   "outputs": [],
   "source": []
  },
  {
   "cell_type": "code",
   "execution_count": 174,
   "id": "8921be61",
   "metadata": {},
   "outputs": [
    {
     "data": {
      "text/plain": [
       "5"
      ]
     },
     "execution_count": 174,
     "metadata": {},
     "output_type": "execute_result"
    }
   ],
   "source": [
    "m = max(a)\n",
    "\n",
    "for el in a:\n",
    "    if el > 0:\n",
    "        if m > el:\n",
    "            m = el\n",
    "m"
   ]
  },
  {
   "cell_type": "code",
   "execution_count": 183,
   "id": "e8ef9936",
   "metadata": {},
   "outputs": [
    {
     "data": {
      "text/plain": [
       "[5, 100, 1000, -2, 50, 1000, 75]"
      ]
     },
     "execution_count": 183,
     "metadata": {},
     "output_type": "execute_result"
    }
   ],
   "source": [
    "a"
   ]
  },
  {
   "cell_type": "code",
   "execution_count": 176,
   "id": "5c19019b",
   "metadata": {},
   "outputs": [
    {
     "data": {
      "text/plain": [
       "2"
      ]
     },
     "execution_count": 176,
     "metadata": {},
     "output_type": "execute_result"
    }
   ],
   "source": [
    "a.index(1000)"
   ]
  },
  {
   "cell_type": "code",
   "execution_count": 182,
   "id": "85aa7ce2",
   "metadata": {},
   "outputs": [
    {
     "data": {
      "text/plain": [
       "5"
      ]
     },
     "execution_count": 182,
     "metadata": {},
     "output_type": "execute_result"
    }
   ],
   "source": [
    "ind = None\n",
    "\n",
    "for i, el in enumerate(a):\n",
    "    if el == 1000:\n",
    "        ind = i\n",
    "ind"
   ]
  },
  {
   "cell_type": "code",
   "execution_count": 184,
   "id": "ef26a73b",
   "metadata": {},
   "outputs": [
    {
     "data": {
      "text/plain": [
       "2228"
      ]
     },
     "execution_count": 184,
     "metadata": {},
     "output_type": "execute_result"
    }
   ],
   "source": [
    "m = 0\n",
    "\n",
    "for el in a:\n",
    "    m += el\n",
    "    \n",
    "m"
   ]
  },
  {
   "cell_type": "code",
   "execution_count": 185,
   "id": "789bedf8",
   "metadata": {},
   "outputs": [
    {
     "data": {
      "text/plain": [
       "2228"
      ]
     },
     "execution_count": 185,
     "metadata": {},
     "output_type": "execute_result"
    }
   ],
   "source": [
    "sum(a)"
   ]
  },
  {
   "cell_type": "code",
   "execution_count": 186,
   "id": "f8091359",
   "metadata": {},
   "outputs": [
    {
     "data": {
      "text/plain": [
       "2"
      ]
     },
     "execution_count": 186,
     "metadata": {},
     "output_type": "execute_result"
    }
   ],
   "source": [
    "c = 0\n",
    "\n",
    "for el in a:\n",
    "    if el == 1000:\n",
    "        c += 1\n",
    "        \n",
    "c"
   ]
  },
  {
   "cell_type": "code",
   "execution_count": 187,
   "id": "9da47616",
   "metadata": {},
   "outputs": [
    {
     "data": {
      "text/plain": [
       "1"
      ]
     },
     "execution_count": 187,
     "metadata": {},
     "output_type": "execute_result"
    }
   ],
   "source": [
    "c = 0\n",
    "\n",
    "for el in a[2:5]:\n",
    "    if el == 1000:\n",
    "        c += 1\n",
    "        \n",
    "c"
   ]
  },
  {
   "cell_type": "code",
   "execution_count": 189,
   "id": "ba759f7b",
   "metadata": {},
   "outputs": [
    {
     "data": {
      "text/plain": [
       "[2, 3, 4]"
      ]
     },
     "execution_count": 189,
     "metadata": {},
     "output_type": "execute_result"
    }
   ],
   "source": [
    "list(range(2,5))"
   ]
  },
  {
   "cell_type": "code",
   "execution_count": 191,
   "id": "38bbc0c4",
   "metadata": {},
   "outputs": [],
   "source": [
    "a = [1,2,3,4,5,4,3,2,3,4,5,6,7,8,9,10,1,5,7,11]"
   ]
  },
  {
   "cell_type": "code",
   "execution_count": 194,
   "id": "25207c09",
   "metadata": {},
   "outputs": [
    {
     "data": {
      "text/plain": [
       "[(7, 2), (16, 1)]"
      ]
     },
     "execution_count": 194,
     "metadata": {},
     "output_type": "execute_result"
    }
   ],
   "source": [
    "m = []\n",
    "\n",
    "for i in range(1, len(a)-1):\n",
    "    if a[i] < a[i+1] and a[i] < a[i-1]:\n",
    "        m.append((i, a[i]))\n",
    "m"
   ]
  },
  {
   "cell_type": "code",
   "execution_count": 195,
   "id": "2b9c8c62",
   "metadata": {},
   "outputs": [
    {
     "data": {
      "text/plain": [
       "(7, 2)"
      ]
     },
     "execution_count": 195,
     "metadata": {},
     "output_type": "execute_result"
    }
   ],
   "source": [
    "m[0]"
   ]
  },
  {
   "cell_type": "code",
   "execution_count": 196,
   "id": "f2b17ecd",
   "metadata": {},
   "outputs": [
    {
     "data": {
      "text/plain": [
       "(16, 1)"
      ]
     },
     "execution_count": 196,
     "metadata": {},
     "output_type": "execute_result"
    }
   ],
   "source": [
    "m[1]"
   ]
  },
  {
   "cell_type": "code",
   "execution_count": 197,
   "id": "ad76eb57",
   "metadata": {},
   "outputs": [
    {
     "data": {
      "text/plain": [
       "[1, 2, 2, 3]"
      ]
     },
     "execution_count": 197,
     "metadata": {},
     "output_type": "execute_result"
    }
   ],
   "source": [
    "a = [1,2]\n",
    "b = [2,3]\n",
    "\n",
    "a + b"
   ]
  },
  {
   "cell_type": "code",
   "execution_count": 198,
   "id": "5fe16ca7",
   "metadata": {},
   "outputs": [
    {
     "data": {
      "text/plain": [
       "[3, 5]"
      ]
     },
     "execution_count": 198,
     "metadata": {},
     "output_type": "execute_result"
    }
   ],
   "source": [
    "c = []\n",
    "for i in range(len(a)):\n",
    "    c.append(a[i] + b[i])\n",
    "    \n",
    "c"
   ]
  },
  {
   "cell_type": "code",
   "execution_count": null,
   "id": "90336f5e",
   "metadata": {},
   "outputs": [],
   "source": [
    "и & \n",
    "\n",
    "   0 1\n",
    "0  0 0\n",
    "1  0 1\n",
    "\n",
    "\n",
    "или |  U\n",
    "   0 1\n",
    "0  0 1\n",
    "1  1 1\n",
    "\n",
    "\n",
    "не not\n",
    "\n",
    "0 1\n",
    "\n",
    "1 0\n",
    "\n",
    "\n",
    "\n",
    "исключающее или ^ \n",
    "\n",
    "   0 1\n",
    "0  0 1\n",
    "1  1 0\n",
    "\n",
    "\n",
    "\n",
    "\n",
    "\n",
    "\n"
   ]
  },
  {
   "cell_type": "code",
   "execution_count": null,
   "id": "f5fc8f5c",
   "metadata": {},
   "outputs": [],
   "source": [
    "A_n * k**n + A_(n-1) * k ** (n-1) +  ... + A_2 * k **2 + A_1 * k **1 + A_0 * k ** 0     k ичной система счисления"
   ]
  },
  {
   "cell_type": "code",
   "execution_count": null,
   "id": "abe27d55",
   "metadata": {},
   "outputs": [],
   "source": [
    "0 1\n",
    "0 1 2\n",
    "0 1 2 3 4 5 6 7\n",
    "0 1 2 3 4 5 6 7 8 9 A B C D E F "
   ]
  },
  {
   "cell_type": "code",
   "execution_count": 199,
   "id": "19cc01ae",
   "metadata": {},
   "outputs": [
    {
     "data": {
      "text/plain": [
       "5"
      ]
     },
     "execution_count": 199,
     "metadata": {},
     "output_type": "execute_result"
    }
   ],
   "source": [
    "# 101\n",
    "\n",
    "1 * 2**2 + 0 * 2 ** 1 + 1 * 2 ** 0"
   ]
  },
  {
   "cell_type": "code",
   "execution_count": 200,
   "id": "d6e73231",
   "metadata": {},
   "outputs": [
    {
     "data": {
      "text/plain": [
       "255"
      ]
     },
     "execution_count": 200,
     "metadata": {},
     "output_type": "execute_result"
    }
   ],
   "source": [
    "# FF\n",
    "\n",
    "15 *16 ** 1 + 15 * 16 ** 0"
   ]
  },
  {
   "cell_type": "code",
   "execution_count": 201,
   "id": "f792cf85",
   "metadata": {},
   "outputs": [
    {
     "data": {
      "text/plain": [
       "42721"
      ]
     },
     "execution_count": 201,
     "metadata": {},
     "output_type": "execute_result"
    }
   ],
   "source": [
    "# a6e1\n",
    "\n",
    "10 * 16 ** 3 + 6 * 16 ** 2 + 14 * 16 ** 1 + 1 * 16 ** 0"
   ]
  },
  {
   "cell_type": "code",
   "execution_count": null,
   "id": "0bfb3320",
   "metadata": {},
   "outputs": [],
   "source": [
    "0    0000\n",
    "1    0001\n",
    "2    0010\n",
    "3    0011\n",
    "4    0100\n",
    "5    0101\n",
    "6    0110\n",
    "7    0111\n",
    "8    1000\n",
    "9    1001\n",
    "a    1010\n",
    "b    1011\n",
    "c    1100\n",
    "d    1101\n",
    "e    1110\n",
    "f    1111\n",
    "10\n",
    "11\n",
    "\n",
    "\n",
    "1f\n",
    "20\n",
    "21\n",
    "\n",
    "2f\n",
    "30\n",
    "31\n",
    "\n",
    "3f\n",
    "\n",
    "\n",
    "ff\n",
    "100"
   ]
  },
  {
   "cell_type": "code",
   "execution_count": null,
   "id": "3812a699",
   "metadata": {},
   "outputs": [],
   "source": [
    "ff  + 1   = 100\n",
    "\n",
    "ab + 5  =   b0\n",
    "\n",
    "\n"
   ]
  },
  {
   "cell_type": "code",
   "execution_count": null,
   "id": "9a1ac328",
   "metadata": {},
   "outputs": [],
   "source": [
    "7 + 5 = 10 + 4 = 14\n",
    "\n",
    "\n",
    "7\n",
    "10\n",
    "11\n",
    "\n",
    "17\n",
    "20\n",
    "21\n",
    "\n",
    "77\n",
    "100"
   ]
  },
  {
   "cell_type": "code",
   "execution_count": null,
   "id": "2c215c42",
   "metadata": {},
   "outputs": [],
   "source": [
    "0\n",
    "1\n",
    "10\n",
    "11\n",
    "100\n"
   ]
  },
  {
   "cell_type": "code",
   "execution_count": null,
   "id": "79a01619",
   "metadata": {},
   "outputs": [],
   "source": [
    "001 010 011 011 100 001"
   ]
  },
  {
   "cell_type": "code",
   "execution_count": null,
   "id": "6a0b6e18",
   "metadata": {},
   "outputs": [],
   "source": [
    "123341"
   ]
  },
  {
   "cell_type": "code",
   "execution_count": 2,
   "id": "51bf9c0a",
   "metadata": {},
   "outputs": [
    {
     "name": "stdout",
     "output_type": "stream",
     "text": [
      "2 4 5\n",
      "val=40\n"
     ]
    }
   ],
   "source": [
    "s = input()\n",
    "s = s.strip()\n",
    "s = s.split()\n",
    "x = int(s[0])\n",
    "y = int(s[1])\n",
    "z = int(s[2])\n",
    "val = x * y * z\n",
    "print(f\"{val=}\")"
   ]
  },
  {
   "cell_type": "code",
   "execution_count": 6,
   "id": "52a89473",
   "metadata": {},
   "outputs": [
    {
     "name": "stdout",
     "output_type": "stream",
     "text": [
      "3 4 5\n",
      "val=60\n"
     ]
    }
   ],
   "source": [
    "from itertools import accumulate\n",
    "from operator import mul\n",
    "from functools import reduce\n",
    "\n",
    "print(f\"val={list(accumulate(map(int, input().strip().split()), mul))[-1]}\")"
   ]
  },
  {
   "cell_type": "code",
   "execution_count": 13,
   "id": "0e45e957",
   "metadata": {},
   "outputs": [
    {
     "name": "stdout",
     "output_type": "stream",
     "text": [
      "1 2 3\n",
      "val=6\n"
     ]
    }
   ],
   "source": [
    "from itertools import accumulate\n",
    "from operator import mul\n",
    "from functools import reduce\n",
    "\n",
    "print(f\"val={reduce(lambda x,y: x*y, map(int, input().strip().split()))}\")"
   ]
  },
  {
   "cell_type": "code",
   "execution_count": 12,
   "id": "4cf7d733",
   "metadata": {},
   "outputs": [
    {
     "data": {
      "text/plain": [
       "16"
      ]
     },
     "execution_count": 12,
     "metadata": {},
     "output_type": "execute_result"
    }
   ],
   "source": [
    "reduce(lambda x, y: x*x, [2,3,4])"
   ]
  },
  {
   "cell_type": "code",
   "execution_count": 15,
   "id": "b55f56bb",
   "metadata": {},
   "outputs": [
    {
     "name": "stdout",
     "output_type": "stream",
     "text": [
      "['Адемар', 'Архип']\n"
     ]
    }
   ],
   "source": [
    "names = [\"Христофор\", \"Адемар\", \"Тэя\", \"Стефания\", \"Архип\"]\n",
    "names_starts_a = []\n",
    "for name in names:\n",
    "    if name.startswith(\"А\"):\n",
    "        names_starts_a.append(name)\n",
    "print(names_starts_a)"
   ]
  },
  {
   "cell_type": "code",
   "execution_count": 17,
   "id": "6e681b38",
   "metadata": {},
   "outputs": [
    {
     "name": "stdout",
     "output_type": "stream",
     "text": [
      "['Адемар', 'Архип']\n"
     ]
    }
   ],
   "source": [
    "names = [\"Христофор\", \"Адемар\", \"Тэя\", \"Стефания\", \"Архип\"]\n",
    "names_starts_a = [name for name in names if name.startswith(\"А\")]\n",
    "print(names_starts_a)"
   ]
  },
  {
   "cell_type": "code",
   "execution_count": 19,
   "id": "339e3c22",
   "metadata": {},
   "outputs": [
    {
     "name": "stdout",
     "output_type": "stream",
     "text": [
      "['Адемар', 'Архип']\n"
     ]
    }
   ],
   "source": [
    "names = [\"Христофор\", \"Адемар\", \"Тэя\", \"Стефания\", \"Архип\"]\n",
    "names_starts_a = list(filter(lambda name: name.startswith(\"А\"), names))\n",
    "print(names_starts_a)"
   ]
  },
  {
   "cell_type": "code",
   "execution_count": 21,
   "id": "5e8718c0",
   "metadata": {},
   "outputs": [
    {
     "name": "stdout",
     "output_type": "stream",
     "text": [
      "4\n"
     ]
    }
   ],
   "source": [
    "name = 4\n",
    "if name == 1 or name == 2 or name == 4:\n",
    "    print(name)"
   ]
  },
  {
   "cell_type": "code",
   "execution_count": null,
   "id": "1e927db1",
   "metadata": {},
   "outputs": [],
   "source": [
    "name = 4\n",
    "if name in (1,2,4):\n",
    "    print(name)"
   ]
  },
  {
   "cell_type": "code",
   "execution_count": 22,
   "id": "77dec37c",
   "metadata": {},
   "outputs": [
    {
     "name": "stdout",
     "output_type": "stream",
     "text": [
      "24\n"
     ]
    }
   ],
   "source": [
    "x = 24\n",
    "if x > 0 and x < 50 and x%2==0:\n",
    "    print(x)"
   ]
  },
  {
   "cell_type": "code",
   "execution_count": 26,
   "id": "a9baacb4",
   "metadata": {},
   "outputs": [
    {
     "name": "stdout",
     "output_type": "stream",
     "text": [
      "24\n"
     ]
    }
   ],
   "source": [
    "x = 24\n",
    "if all((x>0, x<50, x%2==0)):\n",
    "    print(x)"
   ]
  },
  {
   "cell_type": "code",
   "execution_count": null,
   "id": "1491210b",
   "metadata": {},
   "outputs": [],
   "source": []
  }
 ],
 "metadata": {
  "kernelspec": {
   "display_name": "Python 3",
   "language": "python",
   "name": "python3"
  },
  "language_info": {
   "codemirror_mode": {
    "name": "ipython",
    "version": 3
   },
   "file_extension": ".py",
   "mimetype": "text/x-python",
   "name": "python",
   "nbconvert_exporter": "python",
   "pygments_lexer": "ipython3",
   "version": "3.10.6"
  }
 },
 "nbformat": 4,
 "nbformat_minor": 5
}

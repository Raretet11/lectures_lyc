{
 "cells": [
  {
   "cell_type": "code",
   "execution_count": 1,
   "id": "29d77813",
   "metadata": {},
   "outputs": [],
   "source": [
    "from itertools import accumulate"
   ]
  },
  {
   "cell_type": "code",
   "execution_count": 2,
   "id": "1baa5221",
   "metadata": {},
   "outputs": [
    {
     "data": {
      "text/plain": [
       "[1, 3, 6, 10, 15]"
      ]
     },
     "execution_count": 2,
     "metadata": {},
     "output_type": "execute_result"
    }
   ],
   "source": [
    "a = [1,2,3,4,5]\n",
    "b = [5,4,3,2,1]\n",
    "\n",
    "list(accumulate(a))"
   ]
  },
  {
   "cell_type": "code",
   "execution_count": 4,
   "id": "98af7369",
   "metadata": {},
   "outputs": [
    {
     "data": {
      "text/plain": [
       "[1, 2, 6, 24, 120]"
      ]
     },
     "execution_count": 4,
     "metadata": {},
     "output_type": "execute_result"
    }
   ],
   "source": [
    "list(accumulate(a, lambda x,y: x*y))"
   ]
  },
  {
   "cell_type": "code",
   "execution_count": 7,
   "id": "637f44b3",
   "metadata": {},
   "outputs": [
    {
     "data": {
      "text/plain": [
       "[1, 1, 1, 1, 1]"
      ]
     },
     "execution_count": 7,
     "metadata": {},
     "output_type": "execute_result"
    }
   ],
   "source": [
    "list(accumulate(a, lambda x,y: x))"
   ]
  },
  {
   "cell_type": "code",
   "execution_count": null,
   "id": "b0f62920",
   "metadata": {},
   "outputs": [],
   "source": [
    "class Solution:\n",
    "    def minimumEffort(self, tasks) -> int:\n",
    "        tasks.sort(key=lambda x: (x[1]-x[0]))\n",
    "        resen = 0\n",
    "        for first,second in tasks:\n",
    "            resen = max(resen+first,second)\n",
    "        return resen"
   ]
  },
  {
   "cell_type": "code",
   "execution_count": null,
   "id": "e514d90d",
   "metadata": {},
   "outputs": [],
   "source": [
    "list(accumulate(sorted(tasks, key=lambda x: (x[1]-x[0])), lambda x,y: max(x+y[0], y[1])))[-1]"
   ]
  },
  {
   "cell_type": "markdown",
   "id": "9b00a91c",
   "metadata": {},
   "source": [
    "dz230930\n",
    "\n",
    "1.  410.py решить задачу https://leetcode.com/problems/split-array-largest-sum/description/ с помощью встроенной в питон функции деления пополам\n",
    "\n",
    "2. main.py - написать десктопное приложение в котором можно указать путь до папки (или выбрать папку в зависимости от виджета который будете использовать) и показывается количество файлов каждого типа (по расширению) и их общий занимаемый объем. Программа должна позволять настраивать вложенно анализировать папку или только на 1 уровень (можно чекбоксом например) а так же позволять фильтровать список вывода по расширениям (например все что указаны в каком-то поле через запятую) или наоброт убрать какие-то расширения из списка (например добавлением ! перед списком расширений для фильтрации). В отдельном поле (которое тоже реагирует на фильтрацию) показываются 20 самых больших файлов в порядке убывания размера с указанием размера,  а в еще одном 20 самых маленьких. "
   ]
  }
 ],
 "metadata": {
  "kernelspec": {
   "display_name": "Python 3",
   "language": "python",
   "name": "python3"
  },
  "language_info": {
   "codemirror_mode": {
    "name": "ipython",
    "version": 3
   },
   "file_extension": ".py",
   "mimetype": "text/x-python",
   "name": "python",
   "nbconvert_exporter": "python",
   "pygments_lexer": "ipython3",
   "version": "3.10.12"
  }
 },
 "nbformat": 4,
 "nbformat_minor": 5
}

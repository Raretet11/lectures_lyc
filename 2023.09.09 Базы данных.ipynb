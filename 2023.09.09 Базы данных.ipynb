{
 "cells": [
  {
   "cell_type": "code",
   "execution_count": 1,
   "id": "ff8d62b7",
   "metadata": {},
   "outputs": [],
   "source": [
    "import sqlite3\n",
    "\n",
    "# Устанавливаем соединение с базой данных\n",
    "connection = sqlite3.connect('my_database.db')\n",
    "\n",
    "# закрываем соединение с базой данных\n",
    "connection.close()"
   ]
  },
  {
   "cell_type": "code",
   "execution_count": 3,
   "id": "dbb33c10",
   "metadata": {},
   "outputs": [
    {
     "name": "stdout",
     "output_type": "stream",
     "text": [
      "my_database.db\r\n"
     ]
    }
   ],
   "source": [
    "!ls|grep *.db"
   ]
  },
  {
   "cell_type": "code",
   "execution_count": 4,
   "id": "06dbae90",
   "metadata": {},
   "outputs": [],
   "source": [
    "# Устанавливаем соединение с базой данных\n",
    "with sqlite3.connect('my_database.db') as connection:\n",
    "    cursor = connection.cursor()\n",
    "\n",
    "    # Создаем таблицу Users\n",
    "    cursor.execute('''\n",
    "    CREATE TABLE IF NOT EXISTS Users (\n",
    "    id INTEGER PRIMARY KEY,\n",
    "    username TEXT NOT NULL,\n",
    "    email TEXT NOT NULL,\n",
    "    age INTEGER\n",
    "    )\n",
    "    ''')\n",
    "\n",
    "    # Сохраняем изменения и закрываем соединение\n",
    "    connection.commit()\n"
   ]
  },
  {
   "cell_type": "code",
   "execution_count": null,
   "id": "4a9ef81d",
   "metadata": {},
   "outputs": [],
   "source": []
  }
 ],
 "metadata": {
  "kernelspec": {
   "display_name": "Python 3",
   "language": "python",
   "name": "python3"
  },
  "language_info": {
   "codemirror_mode": {
    "name": "ipython",
    "version": 3
   },
   "file_extension": ".py",
   "mimetype": "text/x-python",
   "name": "python",
   "nbconvert_exporter": "python",
   "pygments_lexer": "ipython3",
   "version": "3.10.12"
  }
 },
 "nbformat": 4,
 "nbformat_minor": 5
}

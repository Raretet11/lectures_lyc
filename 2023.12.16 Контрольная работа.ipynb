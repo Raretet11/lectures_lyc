{
 "cells": [
  {
   "cell_type": "markdown",
   "id": "d57dde09",
   "metadata": {},
   "source": [
    "Написать приложение\n",
    "\n",
    "\n",
    "1. Скачивать с нескольких новостных сайтов (в многопотомном или многопроцессном режиме) новости  \n",
    "2. Сохранять их в базе данных  \n",
    "3. Отображать в окне приложения  \n",
    "\n",
    "\n",
    "Добавление нового сайта новостей не должно изменять существующий код (разве что кроме добавления адреса сайта в список и тому подобное) а только добавлять (например новый класс парсера)\n",
    "\n",
    "Отображать пользователю в оконном приложении надо (если есть) дату, заголовок, превью\n",
    "\n",
    "При новом открытии приложения снова загружаются новости с сайтов и если они отличаются добавляются в базу данных и отображаются все (и прошлые и текущие) в окне просмотра.\n",
    "\n",
    "https://ria.ru/world/\n",
    "https://russian.rt.com/world\n",
    "\n",
    "\n",
    "Новости отображать в текстовом виде"
   ]
  },
  {
   "cell_type": "code",
   "execution_count": null,
   "id": "d933300d",
   "metadata": {},
   "outputs": [],
   "source": []
  }
 ],
 "metadata": {
  "kernelspec": {
   "display_name": "Python 3",
   "language": "python",
   "name": "python3"
  },
  "language_info": {
   "codemirror_mode": {
    "name": "ipython",
    "version": 3
   },
   "file_extension": ".py",
   "mimetype": "text/x-python",
   "name": "python",
   "nbconvert_exporter": "python",
   "pygments_lexer": "ipython3",
   "version": "3.10.12"
  }
 },
 "nbformat": 4,
 "nbformat_minor": 5
}
